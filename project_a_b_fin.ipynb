{
  "cells": [
    {
      "cell_type": "markdown",
      "metadata": {
        "id": "view-in-github",
        "colab_type": "text"
      },
      "source": [
        "<a href=\"https://colab.research.google.com/github/Lirgis0/A_B_test/blob/main/project_a_b_fin.ipynb\" target=\"_parent\"><img src=\"https://colab.research.google.com/assets/colab-badge.svg\" alt=\"Open In Colab\"/></a>"
      ]
    },
    {
      "cell_type": "markdown",
      "metadata": {
        "id": "Z0pNeJ39m7bi"
      },
      "source": [
        "## Импорт библиотек"
      ]
    },
    {
      "cell_type": "code",
      "execution_count": 1,
      "metadata": {
        "id": "GI3xcJVH_8Pj"
      },
      "outputs": [],
      "source": [
        "import pandas as pd\n",
        "import matplotlib.pyplot as plt\n",
        "from scipy import stats as st\n",
        "import numpy as np\n",
        "from plotly import graph_objects as go\n",
        "import plotly.express as px\n",
        "import math as mth"
      ]
    },
    {
      "cell_type": "code",
      "execution_count": 2,
      "metadata": {
        "id": "J9rPUvH4Saj_"
      },
      "outputs": [],
      "source": [
        "pd.set_option('display.float_format', '{:.4f}'.format)"
      ]
    },
    {
      "cell_type": "markdown",
      "metadata": {
        "id": "bqWB2WSZnBDZ"
      },
      "source": [
        "## Загрузка и знакомство с датасетом"
      ]
    },
    {
      "cell_type": "markdown",
      "metadata": {
        "id": "IjrSXBQGnJFU"
      },
      "source": [
        "### Загрузка"
      ]
    },
    {
      "cell_type": "code",
      "execution_count": 3,
      "metadata": {
        "id": "Czy2_cO7__I7"
      },
      "outputs": [],
      "source": [
        "marketing=pd.read_csv('.../ab_project_marketing_events.csv')\n",
        "user=pd.read_csv('.../final_ab_new_users.csv')\n",
        "event=pd.read_csv('.../final_ab_events.csv')\n",
        "member=pd.read_csv('.../final_ab_participants.csv')"
      ]
    },
    {
      "cell_type": "markdown",
      "metadata": {
        "id": "01OaGO5wnNs0"
      },
      "source": [
        "### Знакомство"
      ]
    },
    {
      "cell_type": "code",
      "execution_count": 5,
      "metadata": {
        "colab": {
          "base_uri": "https://localhost:8080/"
        },
        "id": "4Ig3J2pWAK-l",
        "outputId": "2775451b-3a0f-4fa1-e48c-7da82ac8c906"
      },
      "outputs": [
        {
          "output_type": "stream",
          "name": "stdout",
          "text": [
            "<class 'pandas.core.frame.DataFrame'>\n",
            "RangeIndex: 14 entries, 0 to 13\n",
            "Data columns (total 4 columns):\n",
            " #   Column     Non-Null Count  Dtype \n",
            "---  ------     --------------  ----- \n",
            " 0   name       14 non-null     object\n",
            " 1   regions    14 non-null     object\n",
            " 2   start_dt   14 non-null     object\n",
            " 3   finish_dt  14 non-null     object\n",
            "dtypes: object(4)\n",
            "memory usage: 576.0+ bytes\n"
          ]
        }
      ],
      "source": [
        "marketing.info()"
      ]
    },
    {
      "cell_type": "code",
      "execution_count": 6,
      "metadata": {
        "colab": {
          "base_uri": "https://localhost:8080/",
          "height": 488
        },
        "id": "NeBwFf_oFA5f",
        "outputId": "d3120a6e-5a1a-4e96-d09a-04491913206a"
      },
      "outputs": [
        {
          "output_type": "execute_result",
          "data": {
            "text/plain": [
              "                                name                   regions    start_dt  \\\n",
              "6             Chinese New Year Promo                      APAC  2020-01-25   \n",
              "1       St. Valentine's Day Giveaway  EU, CIS, APAC, N.America  2020-02-14   \n",
              "8    International Women's Day Promo             EU, CIS, APAC  2020-03-08   \n",
              "2             St. Patric's Day Promo             EU, N.America  2020-03-17   \n",
              "3                       Easter Promo  EU, CIS, APAC, N.America  2020-04-12   \n",
              "7   Labor day (May 1st) Ads Campaign             EU, CIS, APAC  2020-05-01   \n",
              "9    Victory Day CIS (May 9th) Event                       CIS  2020-05-09   \n",
              "11     Dragon Boat Festival Giveaway                      APAC  2020-06-25   \n",
              "4                  4th of July Promo                 N.America  2020-07-04   \n",
              "13             Chinese Moon Festival                      APAC  2020-10-01   \n",
              "12           Single's Day Gift Promo                      APAC  2020-11-11   \n",
              "5          Black Friday Ads Campaign  EU, CIS, APAC, N.America  2020-11-26   \n",
              "0           Christmas&New Year Promo             EU, N.America  2020-12-25   \n",
              "10         CIS New Year Gift Lottery                       CIS  2020-12-30   \n",
              "\n",
              "     finish_dt  \n",
              "6   2020-02-07  \n",
              "1   2020-02-16  \n",
              "8   2020-03-10  \n",
              "2   2020-03-19  \n",
              "3   2020-04-19  \n",
              "7   2020-05-03  \n",
              "9   2020-05-11  \n",
              "11  2020-07-01  \n",
              "4   2020-07-11  \n",
              "13  2020-10-07  \n",
              "12  2020-11-12  \n",
              "5   2020-12-01  \n",
              "0   2021-01-03  \n",
              "10  2021-01-07  "
            ],
            "text/html": [
              "\n",
              "  <div id=\"df-821823c4-7a4c-4868-873a-e99ce34d2afb\">\n",
              "    <div class=\"colab-df-container\">\n",
              "      <div>\n",
              "<style scoped>\n",
              "    .dataframe tbody tr th:only-of-type {\n",
              "        vertical-align: middle;\n",
              "    }\n",
              "\n",
              "    .dataframe tbody tr th {\n",
              "        vertical-align: top;\n",
              "    }\n",
              "\n",
              "    .dataframe thead th {\n",
              "        text-align: right;\n",
              "    }\n",
              "</style>\n",
              "<table border=\"1\" class=\"dataframe\">\n",
              "  <thead>\n",
              "    <tr style=\"text-align: right;\">\n",
              "      <th></th>\n",
              "      <th>name</th>\n",
              "      <th>regions</th>\n",
              "      <th>start_dt</th>\n",
              "      <th>finish_dt</th>\n",
              "    </tr>\n",
              "  </thead>\n",
              "  <tbody>\n",
              "    <tr>\n",
              "      <th>6</th>\n",
              "      <td>Chinese New Year Promo</td>\n",
              "      <td>APAC</td>\n",
              "      <td>2020-01-25</td>\n",
              "      <td>2020-02-07</td>\n",
              "    </tr>\n",
              "    <tr>\n",
              "      <th>1</th>\n",
              "      <td>St. Valentine's Day Giveaway</td>\n",
              "      <td>EU, CIS, APAC, N.America</td>\n",
              "      <td>2020-02-14</td>\n",
              "      <td>2020-02-16</td>\n",
              "    </tr>\n",
              "    <tr>\n",
              "      <th>8</th>\n",
              "      <td>International Women's Day Promo</td>\n",
              "      <td>EU, CIS, APAC</td>\n",
              "      <td>2020-03-08</td>\n",
              "      <td>2020-03-10</td>\n",
              "    </tr>\n",
              "    <tr>\n",
              "      <th>2</th>\n",
              "      <td>St. Patric's Day Promo</td>\n",
              "      <td>EU, N.America</td>\n",
              "      <td>2020-03-17</td>\n",
              "      <td>2020-03-19</td>\n",
              "    </tr>\n",
              "    <tr>\n",
              "      <th>3</th>\n",
              "      <td>Easter Promo</td>\n",
              "      <td>EU, CIS, APAC, N.America</td>\n",
              "      <td>2020-04-12</td>\n",
              "      <td>2020-04-19</td>\n",
              "    </tr>\n",
              "    <tr>\n",
              "      <th>7</th>\n",
              "      <td>Labor day (May 1st) Ads Campaign</td>\n",
              "      <td>EU, CIS, APAC</td>\n",
              "      <td>2020-05-01</td>\n",
              "      <td>2020-05-03</td>\n",
              "    </tr>\n",
              "    <tr>\n",
              "      <th>9</th>\n",
              "      <td>Victory Day CIS (May 9th) Event</td>\n",
              "      <td>CIS</td>\n",
              "      <td>2020-05-09</td>\n",
              "      <td>2020-05-11</td>\n",
              "    </tr>\n",
              "    <tr>\n",
              "      <th>11</th>\n",
              "      <td>Dragon Boat Festival Giveaway</td>\n",
              "      <td>APAC</td>\n",
              "      <td>2020-06-25</td>\n",
              "      <td>2020-07-01</td>\n",
              "    </tr>\n",
              "    <tr>\n",
              "      <th>4</th>\n",
              "      <td>4th of July Promo</td>\n",
              "      <td>N.America</td>\n",
              "      <td>2020-07-04</td>\n",
              "      <td>2020-07-11</td>\n",
              "    </tr>\n",
              "    <tr>\n",
              "      <th>13</th>\n",
              "      <td>Chinese Moon Festival</td>\n",
              "      <td>APAC</td>\n",
              "      <td>2020-10-01</td>\n",
              "      <td>2020-10-07</td>\n",
              "    </tr>\n",
              "    <tr>\n",
              "      <th>12</th>\n",
              "      <td>Single's Day Gift Promo</td>\n",
              "      <td>APAC</td>\n",
              "      <td>2020-11-11</td>\n",
              "      <td>2020-11-12</td>\n",
              "    </tr>\n",
              "    <tr>\n",
              "      <th>5</th>\n",
              "      <td>Black Friday Ads Campaign</td>\n",
              "      <td>EU, CIS, APAC, N.America</td>\n",
              "      <td>2020-11-26</td>\n",
              "      <td>2020-12-01</td>\n",
              "    </tr>\n",
              "    <tr>\n",
              "      <th>0</th>\n",
              "      <td>Christmas&amp;New Year Promo</td>\n",
              "      <td>EU, N.America</td>\n",
              "      <td>2020-12-25</td>\n",
              "      <td>2021-01-03</td>\n",
              "    </tr>\n",
              "    <tr>\n",
              "      <th>10</th>\n",
              "      <td>CIS New Year Gift Lottery</td>\n",
              "      <td>CIS</td>\n",
              "      <td>2020-12-30</td>\n",
              "      <td>2021-01-07</td>\n",
              "    </tr>\n",
              "  </tbody>\n",
              "</table>\n",
              "</div>\n",
              "      <button class=\"colab-df-convert\" onclick=\"convertToInteractive('df-821823c4-7a4c-4868-873a-e99ce34d2afb')\"\n",
              "              title=\"Convert this dataframe to an interactive table.\"\n",
              "              style=\"display:none;\">\n",
              "        \n",
              "  <svg xmlns=\"http://www.w3.org/2000/svg\" height=\"24px\"viewBox=\"0 0 24 24\"\n",
              "       width=\"24px\">\n",
              "    <path d=\"M0 0h24v24H0V0z\" fill=\"none\"/>\n",
              "    <path d=\"M18.56 5.44l.94 2.06.94-2.06 2.06-.94-2.06-.94-.94-2.06-.94 2.06-2.06.94zm-11 1L8.5 8.5l.94-2.06 2.06-.94-2.06-.94L8.5 2.5l-.94 2.06-2.06.94zm10 10l.94 2.06.94-2.06 2.06-.94-2.06-.94-.94-2.06-.94 2.06-2.06.94z\"/><path d=\"M17.41 7.96l-1.37-1.37c-.4-.4-.92-.59-1.43-.59-.52 0-1.04.2-1.43.59L10.3 9.45l-7.72 7.72c-.78.78-.78 2.05 0 2.83L4 21.41c.39.39.9.59 1.41.59.51 0 1.02-.2 1.41-.59l7.78-7.78 2.81-2.81c.8-.78.8-2.07 0-2.86zM5.41 20L4 18.59l7.72-7.72 1.47 1.35L5.41 20z\"/>\n",
              "  </svg>\n",
              "      </button>\n",
              "      \n",
              "  <style>\n",
              "    .colab-df-container {\n",
              "      display:flex;\n",
              "      flex-wrap:wrap;\n",
              "      gap: 12px;\n",
              "    }\n",
              "\n",
              "    .colab-df-convert {\n",
              "      background-color: #E8F0FE;\n",
              "      border: none;\n",
              "      border-radius: 50%;\n",
              "      cursor: pointer;\n",
              "      display: none;\n",
              "      fill: #1967D2;\n",
              "      height: 32px;\n",
              "      padding: 0 0 0 0;\n",
              "      width: 32px;\n",
              "    }\n",
              "\n",
              "    .colab-df-convert:hover {\n",
              "      background-color: #E2EBFA;\n",
              "      box-shadow: 0px 1px 2px rgba(60, 64, 67, 0.3), 0px 1px 3px 1px rgba(60, 64, 67, 0.15);\n",
              "      fill: #174EA6;\n",
              "    }\n",
              "\n",
              "    [theme=dark] .colab-df-convert {\n",
              "      background-color: #3B4455;\n",
              "      fill: #D2E3FC;\n",
              "    }\n",
              "\n",
              "    [theme=dark] .colab-df-convert:hover {\n",
              "      background-color: #434B5C;\n",
              "      box-shadow: 0px 1px 3px 1px rgba(0, 0, 0, 0.15);\n",
              "      filter: drop-shadow(0px 1px 2px rgba(0, 0, 0, 0.3));\n",
              "      fill: #FFFFFF;\n",
              "    }\n",
              "  </style>\n",
              "\n",
              "      <script>\n",
              "        const buttonEl =\n",
              "          document.querySelector('#df-821823c4-7a4c-4868-873a-e99ce34d2afb button.colab-df-convert');\n",
              "        buttonEl.style.display =\n",
              "          google.colab.kernel.accessAllowed ? 'block' : 'none';\n",
              "\n",
              "        async function convertToInteractive(key) {\n",
              "          const element = document.querySelector('#df-821823c4-7a4c-4868-873a-e99ce34d2afb');\n",
              "          const dataTable =\n",
              "            await google.colab.kernel.invokeFunction('convertToInteractive',\n",
              "                                                     [key], {});\n",
              "          if (!dataTable) return;\n",
              "\n",
              "          const docLinkHtml = 'Like what you see? Visit the ' +\n",
              "            '<a target=\"_blank\" href=https://colab.research.google.com/notebooks/data_table.ipynb>data table notebook</a>'\n",
              "            + ' to learn more about interactive tables.';\n",
              "          element.innerHTML = '';\n",
              "          dataTable['output_type'] = 'display_data';\n",
              "          await google.colab.output.renderOutput(dataTable, element);\n",
              "          const docLink = document.createElement('div');\n",
              "          docLink.innerHTML = docLinkHtml;\n",
              "          element.appendChild(docLink);\n",
              "        }\n",
              "      </script>\n",
              "    </div>\n",
              "  </div>\n",
              "  "
            ]
          },
          "metadata": {},
          "execution_count": 6
        }
      ],
      "source": [
        "marketing.sort_values(by='start_dt')"
      ]
    },
    {
      "cell_type": "code",
      "execution_count": 7,
      "metadata": {
        "colab": {
          "base_uri": "https://localhost:8080/"
        },
        "id": "qTCRH5_lFULV",
        "outputId": "7aea83ad-b7fc-434e-8e0e-345e6faa5ba2"
      },
      "outputs": [
        {
          "output_type": "stream",
          "name": "stdout",
          "text": [
            "<class 'pandas.core.frame.DataFrame'>\n",
            "RangeIndex: 61733 entries, 0 to 61732\n",
            "Data columns (total 4 columns):\n",
            " #   Column      Non-Null Count  Dtype \n",
            "---  ------      --------------  ----- \n",
            " 0   user_id     61733 non-null  object\n",
            " 1   first_date  61733 non-null  object\n",
            " 2   region      61733 non-null  object\n",
            " 3   device      61733 non-null  object\n",
            "dtypes: object(4)\n",
            "memory usage: 1.9+ MB\n"
          ]
        }
      ],
      "source": [
        "user.info()"
      ]
    },
    {
      "cell_type": "code",
      "execution_count": 8,
      "metadata": {
        "colab": {
          "base_uri": "https://localhost:8080/",
          "height": 206
        },
        "id": "vQL2rUdHkYkg",
        "outputId": "2ef492e3-3ceb-48b5-a0b8-2f4cc0c87383"
      },
      "outputs": [
        {
          "output_type": "execute_result",
          "data": {
            "text/plain": [
              "                user_id  first_date     region   device\n",
              "55638  6797EFA343713900  2020-12-13         EU  Android\n",
              "17212  A3A919E9049E88F8  2020-12-21  N.America   iPhone\n",
              "2803   37A100822BB7EBC0  2020-12-07         EU  Android\n",
              "21723  6CC177763341FBA3  2020-12-15  N.America      Mac\n",
              "41758  C8ADFA371CDD61DB  2020-12-11         EU       PC"
            ],
            "text/html": [
              "\n",
              "  <div id=\"df-42214a3b-9bb5-4edf-82dc-272716de2652\">\n",
              "    <div class=\"colab-df-container\">\n",
              "      <div>\n",
              "<style scoped>\n",
              "    .dataframe tbody tr th:only-of-type {\n",
              "        vertical-align: middle;\n",
              "    }\n",
              "\n",
              "    .dataframe tbody tr th {\n",
              "        vertical-align: top;\n",
              "    }\n",
              "\n",
              "    .dataframe thead th {\n",
              "        text-align: right;\n",
              "    }\n",
              "</style>\n",
              "<table border=\"1\" class=\"dataframe\">\n",
              "  <thead>\n",
              "    <tr style=\"text-align: right;\">\n",
              "      <th></th>\n",
              "      <th>user_id</th>\n",
              "      <th>first_date</th>\n",
              "      <th>region</th>\n",
              "      <th>device</th>\n",
              "    </tr>\n",
              "  </thead>\n",
              "  <tbody>\n",
              "    <tr>\n",
              "      <th>55638</th>\n",
              "      <td>6797EFA343713900</td>\n",
              "      <td>2020-12-13</td>\n",
              "      <td>EU</td>\n",
              "      <td>Android</td>\n",
              "    </tr>\n",
              "    <tr>\n",
              "      <th>17212</th>\n",
              "      <td>A3A919E9049E88F8</td>\n",
              "      <td>2020-12-21</td>\n",
              "      <td>N.America</td>\n",
              "      <td>iPhone</td>\n",
              "    </tr>\n",
              "    <tr>\n",
              "      <th>2803</th>\n",
              "      <td>37A100822BB7EBC0</td>\n",
              "      <td>2020-12-07</td>\n",
              "      <td>EU</td>\n",
              "      <td>Android</td>\n",
              "    </tr>\n",
              "    <tr>\n",
              "      <th>21723</th>\n",
              "      <td>6CC177763341FBA3</td>\n",
              "      <td>2020-12-15</td>\n",
              "      <td>N.America</td>\n",
              "      <td>Mac</td>\n",
              "    </tr>\n",
              "    <tr>\n",
              "      <th>41758</th>\n",
              "      <td>C8ADFA371CDD61DB</td>\n",
              "      <td>2020-12-11</td>\n",
              "      <td>EU</td>\n",
              "      <td>PC</td>\n",
              "    </tr>\n",
              "  </tbody>\n",
              "</table>\n",
              "</div>\n",
              "      <button class=\"colab-df-convert\" onclick=\"convertToInteractive('df-42214a3b-9bb5-4edf-82dc-272716de2652')\"\n",
              "              title=\"Convert this dataframe to an interactive table.\"\n",
              "              style=\"display:none;\">\n",
              "        \n",
              "  <svg xmlns=\"http://www.w3.org/2000/svg\" height=\"24px\"viewBox=\"0 0 24 24\"\n",
              "       width=\"24px\">\n",
              "    <path d=\"M0 0h24v24H0V0z\" fill=\"none\"/>\n",
              "    <path d=\"M18.56 5.44l.94 2.06.94-2.06 2.06-.94-2.06-.94-.94-2.06-.94 2.06-2.06.94zm-11 1L8.5 8.5l.94-2.06 2.06-.94-2.06-.94L8.5 2.5l-.94 2.06-2.06.94zm10 10l.94 2.06.94-2.06 2.06-.94-2.06-.94-.94-2.06-.94 2.06-2.06.94z\"/><path d=\"M17.41 7.96l-1.37-1.37c-.4-.4-.92-.59-1.43-.59-.52 0-1.04.2-1.43.59L10.3 9.45l-7.72 7.72c-.78.78-.78 2.05 0 2.83L4 21.41c.39.39.9.59 1.41.59.51 0 1.02-.2 1.41-.59l7.78-7.78 2.81-2.81c.8-.78.8-2.07 0-2.86zM5.41 20L4 18.59l7.72-7.72 1.47 1.35L5.41 20z\"/>\n",
              "  </svg>\n",
              "      </button>\n",
              "      \n",
              "  <style>\n",
              "    .colab-df-container {\n",
              "      display:flex;\n",
              "      flex-wrap:wrap;\n",
              "      gap: 12px;\n",
              "    }\n",
              "\n",
              "    .colab-df-convert {\n",
              "      background-color: #E8F0FE;\n",
              "      border: none;\n",
              "      border-radius: 50%;\n",
              "      cursor: pointer;\n",
              "      display: none;\n",
              "      fill: #1967D2;\n",
              "      height: 32px;\n",
              "      padding: 0 0 0 0;\n",
              "      width: 32px;\n",
              "    }\n",
              "\n",
              "    .colab-df-convert:hover {\n",
              "      background-color: #E2EBFA;\n",
              "      box-shadow: 0px 1px 2px rgba(60, 64, 67, 0.3), 0px 1px 3px 1px rgba(60, 64, 67, 0.15);\n",
              "      fill: #174EA6;\n",
              "    }\n",
              "\n",
              "    [theme=dark] .colab-df-convert {\n",
              "      background-color: #3B4455;\n",
              "      fill: #D2E3FC;\n",
              "    }\n",
              "\n",
              "    [theme=dark] .colab-df-convert:hover {\n",
              "      background-color: #434B5C;\n",
              "      box-shadow: 0px 1px 3px 1px rgba(0, 0, 0, 0.15);\n",
              "      filter: drop-shadow(0px 1px 2px rgba(0, 0, 0, 0.3));\n",
              "      fill: #FFFFFF;\n",
              "    }\n",
              "  </style>\n",
              "\n",
              "      <script>\n",
              "        const buttonEl =\n",
              "          document.querySelector('#df-42214a3b-9bb5-4edf-82dc-272716de2652 button.colab-df-convert');\n",
              "        buttonEl.style.display =\n",
              "          google.colab.kernel.accessAllowed ? 'block' : 'none';\n",
              "\n",
              "        async function convertToInteractive(key) {\n",
              "          const element = document.querySelector('#df-42214a3b-9bb5-4edf-82dc-272716de2652');\n",
              "          const dataTable =\n",
              "            await google.colab.kernel.invokeFunction('convertToInteractive',\n",
              "                                                     [key], {});\n",
              "          if (!dataTable) return;\n",
              "\n",
              "          const docLinkHtml = 'Like what you see? Visit the ' +\n",
              "            '<a target=\"_blank\" href=https://colab.research.google.com/notebooks/data_table.ipynb>data table notebook</a>'\n",
              "            + ' to learn more about interactive tables.';\n",
              "          element.innerHTML = '';\n",
              "          dataTable['output_type'] = 'display_data';\n",
              "          await google.colab.output.renderOutput(dataTable, element);\n",
              "          const docLink = document.createElement('div');\n",
              "          docLink.innerHTML = docLinkHtml;\n",
              "          element.appendChild(docLink);\n",
              "        }\n",
              "      </script>\n",
              "    </div>\n",
              "  </div>\n",
              "  "
            ]
          },
          "metadata": {},
          "execution_count": 8
        }
      ],
      "source": [
        "user.sample(5)"
      ]
    },
    {
      "cell_type": "code",
      "execution_count": 9,
      "metadata": {
        "colab": {
          "base_uri": "https://localhost:8080/"
        },
        "id": "nDUQQd-xket0",
        "outputId": "39091b6f-6cbb-4193-fa49-73ba84cc5648"
      },
      "outputs": [
        {
          "output_type": "stream",
          "name": "stdout",
          "text": [
            "<class 'pandas.core.frame.DataFrame'>\n",
            "RangeIndex: 440317 entries, 0 to 440316\n",
            "Data columns (total 4 columns):\n",
            " #   Column      Non-Null Count   Dtype  \n",
            "---  ------      --------------   -----  \n",
            " 0   user_id     440317 non-null  object \n",
            " 1   event_dt    440317 non-null  object \n",
            " 2   event_name  440317 non-null  object \n",
            " 3   details     62740 non-null   float64\n",
            "dtypes: float64(1), object(3)\n",
            "memory usage: 13.4+ MB\n"
          ]
        }
      ],
      "source": [
        "event.info()"
      ]
    },
    {
      "cell_type": "code",
      "execution_count": 10,
      "metadata": {
        "colab": {
          "base_uri": "https://localhost:8080/",
          "height": 363
        },
        "id": "7RJv4lg_kk6m",
        "outputId": "702f873a-d0c7-4207-9c3f-509e4b6e3367"
      },
      "outputs": [
        {
          "output_type": "execute_result",
          "data": {
            "text/plain": [
              "                 user_id             event_dt    event_name  details\n",
              "22782   925035671E5B5B69  2020-12-16 20:48:35      purchase   4.9900\n",
              "390969  0538583C5D467725  2020-12-22 08:46:32         login      NaN\n",
              "307924  3223DDF32CB50F1F  2020-12-15 06:26:50         login      NaN\n",
              "34491   D42A43550ACFDC29  2020-12-20 09:35:28      purchase   9.9900\n",
              "42338   2C02F811D88E0133  2020-12-21 05:32:49      purchase   9.9900\n",
              "270961  B824B5B5675B981D  2020-12-10 00:26:28         login      NaN\n",
              "428971  8E4D3E1EFE5382A0  2020-12-27 03:16:34         login      NaN\n",
              "374353  E47B9B89C3AE56A7  2020-12-21 03:18:41         login      NaN\n",
              "199622  E4026B1490C02D0D  2020-12-20 00:01:37  product_page      NaN\n",
              "366310  523F2B641AE036E0  2020-12-20 17:59:51         login      NaN"
            ],
            "text/html": [
              "\n",
              "  <div id=\"df-f0eecd93-e7ad-4806-9930-0549e0d8e8ac\">\n",
              "    <div class=\"colab-df-container\">\n",
              "      <div>\n",
              "<style scoped>\n",
              "    .dataframe tbody tr th:only-of-type {\n",
              "        vertical-align: middle;\n",
              "    }\n",
              "\n",
              "    .dataframe tbody tr th {\n",
              "        vertical-align: top;\n",
              "    }\n",
              "\n",
              "    .dataframe thead th {\n",
              "        text-align: right;\n",
              "    }\n",
              "</style>\n",
              "<table border=\"1\" class=\"dataframe\">\n",
              "  <thead>\n",
              "    <tr style=\"text-align: right;\">\n",
              "      <th></th>\n",
              "      <th>user_id</th>\n",
              "      <th>event_dt</th>\n",
              "      <th>event_name</th>\n",
              "      <th>details</th>\n",
              "    </tr>\n",
              "  </thead>\n",
              "  <tbody>\n",
              "    <tr>\n",
              "      <th>22782</th>\n",
              "      <td>925035671E5B5B69</td>\n",
              "      <td>2020-12-16 20:48:35</td>\n",
              "      <td>purchase</td>\n",
              "      <td>4.9900</td>\n",
              "    </tr>\n",
              "    <tr>\n",
              "      <th>390969</th>\n",
              "      <td>0538583C5D467725</td>\n",
              "      <td>2020-12-22 08:46:32</td>\n",
              "      <td>login</td>\n",
              "      <td>NaN</td>\n",
              "    </tr>\n",
              "    <tr>\n",
              "      <th>307924</th>\n",
              "      <td>3223DDF32CB50F1F</td>\n",
              "      <td>2020-12-15 06:26:50</td>\n",
              "      <td>login</td>\n",
              "      <td>NaN</td>\n",
              "    </tr>\n",
              "    <tr>\n",
              "      <th>34491</th>\n",
              "      <td>D42A43550ACFDC29</td>\n",
              "      <td>2020-12-20 09:35:28</td>\n",
              "      <td>purchase</td>\n",
              "      <td>9.9900</td>\n",
              "    </tr>\n",
              "    <tr>\n",
              "      <th>42338</th>\n",
              "      <td>2C02F811D88E0133</td>\n",
              "      <td>2020-12-21 05:32:49</td>\n",
              "      <td>purchase</td>\n",
              "      <td>9.9900</td>\n",
              "    </tr>\n",
              "    <tr>\n",
              "      <th>270961</th>\n",
              "      <td>B824B5B5675B981D</td>\n",
              "      <td>2020-12-10 00:26:28</td>\n",
              "      <td>login</td>\n",
              "      <td>NaN</td>\n",
              "    </tr>\n",
              "    <tr>\n",
              "      <th>428971</th>\n",
              "      <td>8E4D3E1EFE5382A0</td>\n",
              "      <td>2020-12-27 03:16:34</td>\n",
              "      <td>login</td>\n",
              "      <td>NaN</td>\n",
              "    </tr>\n",
              "    <tr>\n",
              "      <th>374353</th>\n",
              "      <td>E47B9B89C3AE56A7</td>\n",
              "      <td>2020-12-21 03:18:41</td>\n",
              "      <td>login</td>\n",
              "      <td>NaN</td>\n",
              "    </tr>\n",
              "    <tr>\n",
              "      <th>199622</th>\n",
              "      <td>E4026B1490C02D0D</td>\n",
              "      <td>2020-12-20 00:01:37</td>\n",
              "      <td>product_page</td>\n",
              "      <td>NaN</td>\n",
              "    </tr>\n",
              "    <tr>\n",
              "      <th>366310</th>\n",
              "      <td>523F2B641AE036E0</td>\n",
              "      <td>2020-12-20 17:59:51</td>\n",
              "      <td>login</td>\n",
              "      <td>NaN</td>\n",
              "    </tr>\n",
              "  </tbody>\n",
              "</table>\n",
              "</div>\n",
              "      <button class=\"colab-df-convert\" onclick=\"convertToInteractive('df-f0eecd93-e7ad-4806-9930-0549e0d8e8ac')\"\n",
              "              title=\"Convert this dataframe to an interactive table.\"\n",
              "              style=\"display:none;\">\n",
              "        \n",
              "  <svg xmlns=\"http://www.w3.org/2000/svg\" height=\"24px\"viewBox=\"0 0 24 24\"\n",
              "       width=\"24px\">\n",
              "    <path d=\"M0 0h24v24H0V0z\" fill=\"none\"/>\n",
              "    <path d=\"M18.56 5.44l.94 2.06.94-2.06 2.06-.94-2.06-.94-.94-2.06-.94 2.06-2.06.94zm-11 1L8.5 8.5l.94-2.06 2.06-.94-2.06-.94L8.5 2.5l-.94 2.06-2.06.94zm10 10l.94 2.06.94-2.06 2.06-.94-2.06-.94-.94-2.06-.94 2.06-2.06.94z\"/><path d=\"M17.41 7.96l-1.37-1.37c-.4-.4-.92-.59-1.43-.59-.52 0-1.04.2-1.43.59L10.3 9.45l-7.72 7.72c-.78.78-.78 2.05 0 2.83L4 21.41c.39.39.9.59 1.41.59.51 0 1.02-.2 1.41-.59l7.78-7.78 2.81-2.81c.8-.78.8-2.07 0-2.86zM5.41 20L4 18.59l7.72-7.72 1.47 1.35L5.41 20z\"/>\n",
              "  </svg>\n",
              "      </button>\n",
              "      \n",
              "  <style>\n",
              "    .colab-df-container {\n",
              "      display:flex;\n",
              "      flex-wrap:wrap;\n",
              "      gap: 12px;\n",
              "    }\n",
              "\n",
              "    .colab-df-convert {\n",
              "      background-color: #E8F0FE;\n",
              "      border: none;\n",
              "      border-radius: 50%;\n",
              "      cursor: pointer;\n",
              "      display: none;\n",
              "      fill: #1967D2;\n",
              "      height: 32px;\n",
              "      padding: 0 0 0 0;\n",
              "      width: 32px;\n",
              "    }\n",
              "\n",
              "    .colab-df-convert:hover {\n",
              "      background-color: #E2EBFA;\n",
              "      box-shadow: 0px 1px 2px rgba(60, 64, 67, 0.3), 0px 1px 3px 1px rgba(60, 64, 67, 0.15);\n",
              "      fill: #174EA6;\n",
              "    }\n",
              "\n",
              "    [theme=dark] .colab-df-convert {\n",
              "      background-color: #3B4455;\n",
              "      fill: #D2E3FC;\n",
              "    }\n",
              "\n",
              "    [theme=dark] .colab-df-convert:hover {\n",
              "      background-color: #434B5C;\n",
              "      box-shadow: 0px 1px 3px 1px rgba(0, 0, 0, 0.15);\n",
              "      filter: drop-shadow(0px 1px 2px rgba(0, 0, 0, 0.3));\n",
              "      fill: #FFFFFF;\n",
              "    }\n",
              "  </style>\n",
              "\n",
              "      <script>\n",
              "        const buttonEl =\n",
              "          document.querySelector('#df-f0eecd93-e7ad-4806-9930-0549e0d8e8ac button.colab-df-convert');\n",
              "        buttonEl.style.display =\n",
              "          google.colab.kernel.accessAllowed ? 'block' : 'none';\n",
              "\n",
              "        async function convertToInteractive(key) {\n",
              "          const element = document.querySelector('#df-f0eecd93-e7ad-4806-9930-0549e0d8e8ac');\n",
              "          const dataTable =\n",
              "            await google.colab.kernel.invokeFunction('convertToInteractive',\n",
              "                                                     [key], {});\n",
              "          if (!dataTable) return;\n",
              "\n",
              "          const docLinkHtml = 'Like what you see? Visit the ' +\n",
              "            '<a target=\"_blank\" href=https://colab.research.google.com/notebooks/data_table.ipynb>data table notebook</a>'\n",
              "            + ' to learn more about interactive tables.';\n",
              "          element.innerHTML = '';\n",
              "          dataTable['output_type'] = 'display_data';\n",
              "          await google.colab.output.renderOutput(dataTable, element);\n",
              "          const docLink = document.createElement('div');\n",
              "          docLink.innerHTML = docLinkHtml;\n",
              "          element.appendChild(docLink);\n",
              "        }\n",
              "      </script>\n",
              "    </div>\n",
              "  </div>\n",
              "  "
            ]
          },
          "metadata": {},
          "execution_count": 10
        }
      ],
      "source": [
        "event.sample(10)"
      ]
    },
    {
      "cell_type": "code",
      "execution_count": 11,
      "metadata": {
        "colab": {
          "base_uri": "https://localhost:8080/"
        },
        "id": "lTLZLP63k7KT",
        "outputId": "152a5a9f-b0cd-4fd5-e41f-87e877289ca9"
      },
      "outputs": [
        {
          "output_type": "stream",
          "name": "stdout",
          "text": [
            "<class 'pandas.core.frame.DataFrame'>\n",
            "RangeIndex: 18268 entries, 0 to 18267\n",
            "Data columns (total 3 columns):\n",
            " #   Column   Non-Null Count  Dtype \n",
            "---  ------   --------------  ----- \n",
            " 0   user_id  18268 non-null  object\n",
            " 1   group    18268 non-null  object\n",
            " 2   ab_test  18268 non-null  object\n",
            "dtypes: object(3)\n",
            "memory usage: 428.3+ KB\n"
          ]
        }
      ],
      "source": [
        "member.info()"
      ]
    },
    {
      "cell_type": "code",
      "execution_count": 12,
      "metadata": {
        "colab": {
          "base_uri": "https://localhost:8080/",
          "height": 206
        },
        "id": "Y3Wl_2gwlgSU",
        "outputId": "26e3100d-3f7b-45a2-cf51-897c1ffc5fef"
      },
      "outputs": [
        {
          "output_type": "execute_result",
          "data": {
            "text/plain": [
              "                user_id group                  ab_test\n",
              "5739   EDDE06B4239A55EE     A  recommender_system_test\n",
              "6288   670F6E3FE8D22F88     A  recommender_system_test\n",
              "12207  9EB541FC8B3A079F     B        interface_eu_test\n",
              "4859   4352539ED30E5ACA     A  recommender_system_test\n",
              "6818   7F916E83AEE36281     B        interface_eu_test"
            ],
            "text/html": [
              "\n",
              "  <div id=\"df-7218ffa8-991a-4110-a952-1a14cb65af2c\">\n",
              "    <div class=\"colab-df-container\">\n",
              "      <div>\n",
              "<style scoped>\n",
              "    .dataframe tbody tr th:only-of-type {\n",
              "        vertical-align: middle;\n",
              "    }\n",
              "\n",
              "    .dataframe tbody tr th {\n",
              "        vertical-align: top;\n",
              "    }\n",
              "\n",
              "    .dataframe thead th {\n",
              "        text-align: right;\n",
              "    }\n",
              "</style>\n",
              "<table border=\"1\" class=\"dataframe\">\n",
              "  <thead>\n",
              "    <tr style=\"text-align: right;\">\n",
              "      <th></th>\n",
              "      <th>user_id</th>\n",
              "      <th>group</th>\n",
              "      <th>ab_test</th>\n",
              "    </tr>\n",
              "  </thead>\n",
              "  <tbody>\n",
              "    <tr>\n",
              "      <th>5739</th>\n",
              "      <td>EDDE06B4239A55EE</td>\n",
              "      <td>A</td>\n",
              "      <td>recommender_system_test</td>\n",
              "    </tr>\n",
              "    <tr>\n",
              "      <th>6288</th>\n",
              "      <td>670F6E3FE8D22F88</td>\n",
              "      <td>A</td>\n",
              "      <td>recommender_system_test</td>\n",
              "    </tr>\n",
              "    <tr>\n",
              "      <th>12207</th>\n",
              "      <td>9EB541FC8B3A079F</td>\n",
              "      <td>B</td>\n",
              "      <td>interface_eu_test</td>\n",
              "    </tr>\n",
              "    <tr>\n",
              "      <th>4859</th>\n",
              "      <td>4352539ED30E5ACA</td>\n",
              "      <td>A</td>\n",
              "      <td>recommender_system_test</td>\n",
              "    </tr>\n",
              "    <tr>\n",
              "      <th>6818</th>\n",
              "      <td>7F916E83AEE36281</td>\n",
              "      <td>B</td>\n",
              "      <td>interface_eu_test</td>\n",
              "    </tr>\n",
              "  </tbody>\n",
              "</table>\n",
              "</div>\n",
              "      <button class=\"colab-df-convert\" onclick=\"convertToInteractive('df-7218ffa8-991a-4110-a952-1a14cb65af2c')\"\n",
              "              title=\"Convert this dataframe to an interactive table.\"\n",
              "              style=\"display:none;\">\n",
              "        \n",
              "  <svg xmlns=\"http://www.w3.org/2000/svg\" height=\"24px\"viewBox=\"0 0 24 24\"\n",
              "       width=\"24px\">\n",
              "    <path d=\"M0 0h24v24H0V0z\" fill=\"none\"/>\n",
              "    <path d=\"M18.56 5.44l.94 2.06.94-2.06 2.06-.94-2.06-.94-.94-2.06-.94 2.06-2.06.94zm-11 1L8.5 8.5l.94-2.06 2.06-.94-2.06-.94L8.5 2.5l-.94 2.06-2.06.94zm10 10l.94 2.06.94-2.06 2.06-.94-2.06-.94-.94-2.06-.94 2.06-2.06.94z\"/><path d=\"M17.41 7.96l-1.37-1.37c-.4-.4-.92-.59-1.43-.59-.52 0-1.04.2-1.43.59L10.3 9.45l-7.72 7.72c-.78.78-.78 2.05 0 2.83L4 21.41c.39.39.9.59 1.41.59.51 0 1.02-.2 1.41-.59l7.78-7.78 2.81-2.81c.8-.78.8-2.07 0-2.86zM5.41 20L4 18.59l7.72-7.72 1.47 1.35L5.41 20z\"/>\n",
              "  </svg>\n",
              "      </button>\n",
              "      \n",
              "  <style>\n",
              "    .colab-df-container {\n",
              "      display:flex;\n",
              "      flex-wrap:wrap;\n",
              "      gap: 12px;\n",
              "    }\n",
              "\n",
              "    .colab-df-convert {\n",
              "      background-color: #E8F0FE;\n",
              "      border: none;\n",
              "      border-radius: 50%;\n",
              "      cursor: pointer;\n",
              "      display: none;\n",
              "      fill: #1967D2;\n",
              "      height: 32px;\n",
              "      padding: 0 0 0 0;\n",
              "      width: 32px;\n",
              "    }\n",
              "\n",
              "    .colab-df-convert:hover {\n",
              "      background-color: #E2EBFA;\n",
              "      box-shadow: 0px 1px 2px rgba(60, 64, 67, 0.3), 0px 1px 3px 1px rgba(60, 64, 67, 0.15);\n",
              "      fill: #174EA6;\n",
              "    }\n",
              "\n",
              "    [theme=dark] .colab-df-convert {\n",
              "      background-color: #3B4455;\n",
              "      fill: #D2E3FC;\n",
              "    }\n",
              "\n",
              "    [theme=dark] .colab-df-convert:hover {\n",
              "      background-color: #434B5C;\n",
              "      box-shadow: 0px 1px 3px 1px rgba(0, 0, 0, 0.15);\n",
              "      filter: drop-shadow(0px 1px 2px rgba(0, 0, 0, 0.3));\n",
              "      fill: #FFFFFF;\n",
              "    }\n",
              "  </style>\n",
              "\n",
              "      <script>\n",
              "        const buttonEl =\n",
              "          document.querySelector('#df-7218ffa8-991a-4110-a952-1a14cb65af2c button.colab-df-convert');\n",
              "        buttonEl.style.display =\n",
              "          google.colab.kernel.accessAllowed ? 'block' : 'none';\n",
              "\n",
              "        async function convertToInteractive(key) {\n",
              "          const element = document.querySelector('#df-7218ffa8-991a-4110-a952-1a14cb65af2c');\n",
              "          const dataTable =\n",
              "            await google.colab.kernel.invokeFunction('convertToInteractive',\n",
              "                                                     [key], {});\n",
              "          if (!dataTable) return;\n",
              "\n",
              "          const docLinkHtml = 'Like what you see? Visit the ' +\n",
              "            '<a target=\"_blank\" href=https://colab.research.google.com/notebooks/data_table.ipynb>data table notebook</a>'\n",
              "            + ' to learn more about interactive tables.';\n",
              "          element.innerHTML = '';\n",
              "          dataTable['output_type'] = 'display_data';\n",
              "          await google.colab.output.renderOutput(dataTable, element);\n",
              "          const docLink = document.createElement('div');\n",
              "          docLink.innerHTML = docLinkHtml;\n",
              "          element.appendChild(docLink);\n",
              "        }\n",
              "      </script>\n",
              "    </div>\n",
              "  </div>\n",
              "  "
            ]
          },
          "metadata": {},
          "execution_count": 12
        }
      ],
      "source": [
        "member.sample(5)"
      ]
    },
    {
      "cell_type": "markdown",
      "metadata": {
        "id": "n4ZMeTc-nc5J"
      },
      "source": [
        "## Предобработка данных"
      ]
    },
    {
      "cell_type": "markdown",
      "metadata": {
        "id": "5-fW8YKmnsNM"
      },
      "source": [
        "### Поиск и удаление дубликатов"
      ]
    },
    {
      "cell_type": "code",
      "execution_count": 13,
      "metadata": {
        "colab": {
          "base_uri": "https://localhost:8080/"
        },
        "id": "DKL1M8pGqg8a",
        "outputId": "7508d5a8-1c99-40a8-98ae-185ce839cb2f"
      },
      "outputs": [
        {
          "output_type": "execute_result",
          "data": {
            "text/plain": [
              "0"
            ]
          },
          "metadata": {},
          "execution_count": 13
        }
      ],
      "source": [
        "user.duplicated().sum()"
      ]
    },
    {
      "cell_type": "code",
      "execution_count": 14,
      "metadata": {
        "colab": {
          "base_uri": "https://localhost:8080/"
        },
        "id": "mpm3Nk9tqhDH",
        "outputId": "f3a0e8f3-de28-4ddb-81c1-7f0be161ec2e"
      },
      "outputs": [
        {
          "output_type": "execute_result",
          "data": {
            "text/plain": [
              "0"
            ]
          },
          "metadata": {},
          "execution_count": 14
        }
      ],
      "source": [
        "event.duplicated().sum()"
      ]
    },
    {
      "cell_type": "code",
      "execution_count": 15,
      "metadata": {
        "colab": {
          "base_uri": "https://localhost:8080/"
        },
        "id": "fNBhWyD3qhPU",
        "outputId": "9b6b552b-154d-46e9-ebfc-f47350ce6221"
      },
      "outputs": [
        {
          "output_type": "execute_result",
          "data": {
            "text/plain": [
              "0"
            ]
          },
          "metadata": {},
          "execution_count": 15
        }
      ],
      "source": [
        "member.duplicated().sum()"
      ]
    },
    {
      "cell_type": "markdown",
      "metadata": {
        "id": "faqHdmGGqeEr"
      },
      "source": [
        "Дубликатов не обнаружено"
      ]
    },
    {
      "cell_type": "markdown",
      "metadata": {
        "id": "9p4OR_ypntV2"
      },
      "source": [
        "### Поиск и обработка пропусков"
      ]
    },
    {
      "cell_type": "code",
      "execution_count": 16,
      "metadata": {
        "colab": {
          "base_uri": "https://localhost:8080/"
        },
        "id": "12mucbaCqz4E",
        "outputId": "c448c85b-5895-454f-fe91-b6fbb65aa76d"
      },
      "outputs": [
        {
          "output_type": "execute_result",
          "data": {
            "text/plain": [
              "user_id      0.0000\n",
              "first_date   0.0000\n",
              "region       0.0000\n",
              "device       0.0000\n",
              "dtype: float64"
            ]
          },
          "metadata": {},
          "execution_count": 16
        }
      ],
      "source": [
        "user.isna().mean()"
      ]
    },
    {
      "cell_type": "code",
      "execution_count": 17,
      "metadata": {
        "colab": {
          "base_uri": "https://localhost:8080/"
        },
        "id": "t7Q7OutTq9O9",
        "outputId": "9460c763-40a0-494f-ebb6-3c1b8a628af0"
      },
      "outputs": [
        {
          "output_type": "execute_result",
          "data": {
            "text/plain": [
              "user_id      0.0000\n",
              "event_dt     0.0000\n",
              "event_name   0.0000\n",
              "details      0.8575\n",
              "dtype: float64"
            ]
          },
          "metadata": {},
          "execution_count": 17
        }
      ],
      "source": [
        "event.isna().mean()"
      ]
    },
    {
      "cell_type": "code",
      "execution_count": 18,
      "metadata": {
        "colab": {
          "base_uri": "https://localhost:8080/"
        },
        "id": "d8G2IBxPq9Rz",
        "outputId": "3c2b499e-ad40-4826-d490-14cd4f099e70"
      },
      "outputs": [
        {
          "output_type": "execute_result",
          "data": {
            "text/plain": [
              "user_id   0.0000\n",
              "group     0.0000\n",
              "ab_test   0.0000\n",
              "dtype: float64"
            ]
          },
          "metadata": {},
          "execution_count": 18
        }
      ],
      "source": [
        "member.isna().mean()"
      ]
    },
    {
      "cell_type": "markdown",
      "metadata": {
        "id": "p_D43IclrMmT"
      },
      "source": [
        "Пропуски есть только во одном столбце в датасете event - там указаны размеры платежей, так как не все события связаны с оплатой, то пропуски оправданы. Но проверим:"
      ]
    },
    {
      "cell_type": "code",
      "execution_count": 19,
      "metadata": {
        "colab": {
          "base_uri": "https://localhost:8080/"
        },
        "id": "Ck4lH9OLrr6t",
        "outputId": "355e27eb-c434-4882-c765-0d8447feab77"
      },
      "outputs": [
        {
          "output_type": "execute_result",
          "data": {
            "text/plain": [
              "user_id      0.0000\n",
              "event_dt     0.0000\n",
              "event_name   0.0000\n",
              "details      0.0000\n",
              "dtype: float64"
            ]
          },
          "metadata": {},
          "execution_count": 19
        }
      ],
      "source": [
        "event[event['event_name'] == 'purchase'].isna().mean()"
      ]
    },
    {
      "cell_type": "code",
      "execution_count": 20,
      "metadata": {
        "colab": {
          "base_uri": "https://localhost:8080/"
        },
        "id": "azFx5LXGr8xZ",
        "outputId": "97e108c9-9386-44be-c058-a03b48394048"
      },
      "outputs": [
        {
          "output_type": "execute_result",
          "data": {
            "text/plain": [
              "array([ 99.99,   9.99,   4.99, 499.99,    nan])"
            ]
          },
          "metadata": {},
          "execution_count": 20
        }
      ],
      "source": [
        "event['details'].unique()"
      ]
    },
    {
      "cell_type": "markdown",
      "metadata": {
        "id": "MT8KXtljsDx9"
      },
      "source": [
        "Все так и получается."
      ]
    },
    {
      "cell_type": "markdown",
      "metadata": {
        "id": "KP5MuB8En0b5"
      },
      "source": [
        "### Приведение данных к нужному типу"
      ]
    },
    {
      "cell_type": "code",
      "execution_count": 21,
      "metadata": {
        "colab": {
          "base_uri": "https://localhost:8080/"
        },
        "id": "DHgrer_BsRmS",
        "outputId": "4df3d7f5-7cd3-452c-c437-b026fedce46e",
        "scrolled": true
      },
      "outputs": [
        {
          "output_type": "stream",
          "name": "stdout",
          "text": [
            "<class 'pandas.core.frame.DataFrame'>\n",
            "RangeIndex: 440317 entries, 0 to 440316\n",
            "Data columns (total 4 columns):\n",
            " #   Column      Non-Null Count   Dtype         \n",
            "---  ------      --------------   -----         \n",
            " 0   user_id     440317 non-null  object        \n",
            " 1   event_dt    440317 non-null  datetime64[ns]\n",
            " 2   event_name  440317 non-null  object        \n",
            " 3   details     62740 non-null   float64       \n",
            "dtypes: datetime64[ns](1), float64(1), object(2)\n",
            "memory usage: 13.4+ MB\n"
          ]
        }
      ],
      "source": [
        "marketing['start_dt'] = pd.to_datetime(marketing['start_dt'])\n",
        "marketing['finish_dt'] = pd.to_datetime(marketing['finish_dt'])\n",
        "user['first_date'] = pd.to_datetime(user['first_date'])\n",
        "event['event_dt'] = pd.to_datetime(event['event_dt'])\n",
        "event.info()"
      ]
    },
    {
      "cell_type": "markdown",
      "metadata": {
        "id": "gjkkJ2u1tHd7"
      },
      "source": [
        "Привели время к datetime64"
      ]
    },
    {
      "cell_type": "markdown",
      "metadata": {
        "id": "TK28JWFmoMjW"
      },
      "source": [
        "## Оценка корректности проведения теста"
      ]
    },
    {
      "cell_type": "markdown",
      "metadata": {
        "id": "OuDCFRmNdHTS"
      },
      "source": [
        "Кажется, что нужно тут отфильтровать всех пользователей, которые в двух группах одновременно, и после фильтрации проверять на соответствие данных ТЗ.\n"
      ]
    },
    {
      "cell_type": "code",
      "execution_count": 22,
      "metadata": {
        "id": "jUqtyEi-dHTT",
        "outputId": "e47ccc97-7ed9-4084-f9ea-0d50c228152c",
        "colab": {
          "base_uri": "https://localhost:8080/",
          "height": 977
        }
      },
      "outputs": [
        {
          "output_type": "stream",
          "name": "stdout",
          "text": [
            "<class 'pandas.core.frame.DataFrame'>\n",
            "RangeIndex: 18268 entries, 0 to 18267\n",
            "Data columns (total 3 columns):\n",
            " #   Column   Non-Null Count  Dtype \n",
            "---  ------   --------------  ----- \n",
            " 0   user_id  18268 non-null  object\n",
            " 1   group    18268 non-null  object\n",
            " 2   ab_test  18268 non-null  object\n",
            "dtypes: object(3)\n",
            "memory usage: 428.3+ KB\n",
            "<class 'pandas.core.frame.DataFrame'>\n",
            "Int64Index: 16666 entries, 16665 to 0\n",
            "Data columns (total 2 columns):\n",
            " #   Column   Non-Null Count  Dtype \n",
            "---  ------   --------------  ----- \n",
            " 0   user_id  16666 non-null  object\n",
            " 1   count    16666 non-null  int64 \n",
            "dtypes: int64(1), object(1)\n",
            "memory usage: 390.6+ KB\n",
            "<class 'pandas.core.frame.DataFrame'>\n",
            "Int64Index: 16716 entries, 0 to 16715\n",
            "Data columns (total 4 columns):\n",
            " #   Column   Non-Null Count  Dtype \n",
            "---  ------   --------------  ----- \n",
            " 0   user_id  16716 non-null  object\n",
            " 1   count    16716 non-null  int64 \n",
            " 2   group    16716 non-null  object\n",
            " 3   ab_test  16716 non-null  object\n",
            "dtypes: int64(1), object(3)\n",
            "memory usage: 653.0+ KB\n"
          ]
        },
        {
          "output_type": "execute_result",
          "data": {
            "text/plain": [
              "               user_id  group\n",
              "5924  FFED90241D04503F      1\n",
              "5923  FFE858A7845F005E      1\n",
              "5922  FFC2C5F898D1245B      1\n",
              "5921  FFB3F647898BA928      1\n",
              "5920  FFAE9489C76F352B      1\n",
              "...                ...    ...\n",
              "4     00341D8401F0F665      1\n",
              "3     001C05E87D336C59      1\n",
              "2     0010A1C096941592      1\n",
              "1     001064FEAAB631A1      1\n",
              "0     000ABE35EE11412F      1\n",
              "\n",
              "[5925 rows x 2 columns]"
            ],
            "text/html": [
              "\n",
              "  <div id=\"df-bca49677-4d4e-453b-9ef2-b38b5dbccf63\">\n",
              "    <div class=\"colab-df-container\">\n",
              "      <div>\n",
              "<style scoped>\n",
              "    .dataframe tbody tr th:only-of-type {\n",
              "        vertical-align: middle;\n",
              "    }\n",
              "\n",
              "    .dataframe tbody tr th {\n",
              "        vertical-align: top;\n",
              "    }\n",
              "\n",
              "    .dataframe thead th {\n",
              "        text-align: right;\n",
              "    }\n",
              "</style>\n",
              "<table border=\"1\" class=\"dataframe\">\n",
              "  <thead>\n",
              "    <tr style=\"text-align: right;\">\n",
              "      <th></th>\n",
              "      <th>user_id</th>\n",
              "      <th>group</th>\n",
              "    </tr>\n",
              "  </thead>\n",
              "  <tbody>\n",
              "    <tr>\n",
              "      <th>5924</th>\n",
              "      <td>FFED90241D04503F</td>\n",
              "      <td>1</td>\n",
              "    </tr>\n",
              "    <tr>\n",
              "      <th>5923</th>\n",
              "      <td>FFE858A7845F005E</td>\n",
              "      <td>1</td>\n",
              "    </tr>\n",
              "    <tr>\n",
              "      <th>5922</th>\n",
              "      <td>FFC2C5F898D1245B</td>\n",
              "      <td>1</td>\n",
              "    </tr>\n",
              "    <tr>\n",
              "      <th>5921</th>\n",
              "      <td>FFB3F647898BA928</td>\n",
              "      <td>1</td>\n",
              "    </tr>\n",
              "    <tr>\n",
              "      <th>5920</th>\n",
              "      <td>FFAE9489C76F352B</td>\n",
              "      <td>1</td>\n",
              "    </tr>\n",
              "    <tr>\n",
              "      <th>...</th>\n",
              "      <td>...</td>\n",
              "      <td>...</td>\n",
              "    </tr>\n",
              "    <tr>\n",
              "      <th>4</th>\n",
              "      <td>00341D8401F0F665</td>\n",
              "      <td>1</td>\n",
              "    </tr>\n",
              "    <tr>\n",
              "      <th>3</th>\n",
              "      <td>001C05E87D336C59</td>\n",
              "      <td>1</td>\n",
              "    </tr>\n",
              "    <tr>\n",
              "      <th>2</th>\n",
              "      <td>0010A1C096941592</td>\n",
              "      <td>1</td>\n",
              "    </tr>\n",
              "    <tr>\n",
              "      <th>1</th>\n",
              "      <td>001064FEAAB631A1</td>\n",
              "      <td>1</td>\n",
              "    </tr>\n",
              "    <tr>\n",
              "      <th>0</th>\n",
              "      <td>000ABE35EE11412F</td>\n",
              "      <td>1</td>\n",
              "    </tr>\n",
              "  </tbody>\n",
              "</table>\n",
              "<p>5925 rows × 2 columns</p>\n",
              "</div>\n",
              "      <button class=\"colab-df-convert\" onclick=\"convertToInteractive('df-bca49677-4d4e-453b-9ef2-b38b5dbccf63')\"\n",
              "              title=\"Convert this dataframe to an interactive table.\"\n",
              "              style=\"display:none;\">\n",
              "        \n",
              "  <svg xmlns=\"http://www.w3.org/2000/svg\" height=\"24px\"viewBox=\"0 0 24 24\"\n",
              "       width=\"24px\">\n",
              "    <path d=\"M0 0h24v24H0V0z\" fill=\"none\"/>\n",
              "    <path d=\"M18.56 5.44l.94 2.06.94-2.06 2.06-.94-2.06-.94-.94-2.06-.94 2.06-2.06.94zm-11 1L8.5 8.5l.94-2.06 2.06-.94-2.06-.94L8.5 2.5l-.94 2.06-2.06.94zm10 10l.94 2.06.94-2.06 2.06-.94-2.06-.94-.94-2.06-.94 2.06-2.06.94z\"/><path d=\"M17.41 7.96l-1.37-1.37c-.4-.4-.92-.59-1.43-.59-.52 0-1.04.2-1.43.59L10.3 9.45l-7.72 7.72c-.78.78-.78 2.05 0 2.83L4 21.41c.39.39.9.59 1.41.59.51 0 1.02-.2 1.41-.59l7.78-7.78 2.81-2.81c.8-.78.8-2.07 0-2.86zM5.41 20L4 18.59l7.72-7.72 1.47 1.35L5.41 20z\"/>\n",
              "  </svg>\n",
              "      </button>\n",
              "      \n",
              "  <style>\n",
              "    .colab-df-container {\n",
              "      display:flex;\n",
              "      flex-wrap:wrap;\n",
              "      gap: 12px;\n",
              "    }\n",
              "\n",
              "    .colab-df-convert {\n",
              "      background-color: #E8F0FE;\n",
              "      border: none;\n",
              "      border-radius: 50%;\n",
              "      cursor: pointer;\n",
              "      display: none;\n",
              "      fill: #1967D2;\n",
              "      height: 32px;\n",
              "      padding: 0 0 0 0;\n",
              "      width: 32px;\n",
              "    }\n",
              "\n",
              "    .colab-df-convert:hover {\n",
              "      background-color: #E2EBFA;\n",
              "      box-shadow: 0px 1px 2px rgba(60, 64, 67, 0.3), 0px 1px 3px 1px rgba(60, 64, 67, 0.15);\n",
              "      fill: #174EA6;\n",
              "    }\n",
              "\n",
              "    [theme=dark] .colab-df-convert {\n",
              "      background-color: #3B4455;\n",
              "      fill: #D2E3FC;\n",
              "    }\n",
              "\n",
              "    [theme=dark] .colab-df-convert:hover {\n",
              "      background-color: #434B5C;\n",
              "      box-shadow: 0px 1px 3px 1px rgba(0, 0, 0, 0.15);\n",
              "      filter: drop-shadow(0px 1px 2px rgba(0, 0, 0, 0.3));\n",
              "      fill: #FFFFFF;\n",
              "    }\n",
              "  </style>\n",
              "\n",
              "      <script>\n",
              "        const buttonEl =\n",
              "          document.querySelector('#df-bca49677-4d4e-453b-9ef2-b38b5dbccf63 button.colab-df-convert');\n",
              "        buttonEl.style.display =\n",
              "          google.colab.kernel.accessAllowed ? 'block' : 'none';\n",
              "\n",
              "        async function convertToInteractive(key) {\n",
              "          const element = document.querySelector('#df-bca49677-4d4e-453b-9ef2-b38b5dbccf63');\n",
              "          const dataTable =\n",
              "            await google.colab.kernel.invokeFunction('convertToInteractive',\n",
              "                                                     [key], {});\n",
              "          if (!dataTable) return;\n",
              "\n",
              "          const docLinkHtml = 'Like what you see? Visit the ' +\n",
              "            '<a target=\"_blank\" href=https://colab.research.google.com/notebooks/data_table.ipynb>data table notebook</a>'\n",
              "            + ' to learn more about interactive tables.';\n",
              "          element.innerHTML = '';\n",
              "          dataTable['output_type'] = 'display_data';\n",
              "          await google.colab.output.renderOutput(dataTable, element);\n",
              "          const docLink = document.createElement('div');\n",
              "          docLink.innerHTML = docLinkHtml;\n",
              "          element.appendChild(docLink);\n",
              "        }\n",
              "      </script>\n",
              "    </div>\n",
              "  </div>\n",
              "  "
            ]
          },
          "metadata": {},
          "execution_count": 22
        }
      ],
      "source": [
        "member.head(1)\n",
        "\n",
        "member.info()\n",
        "\n",
        "temp = member.groupby('user_id')['group'].nunique().reset_index().sort_values(by = 'user_id', ascending= False)\n",
        "temp.columns = ['user_id', 'count']\n",
        "temp.info()\n",
        "\n",
        "temp = temp[temp['count'] == 1]\n",
        "member = temp.merge(member, on = 'user_id', how = 'left')\n",
        "member.info()\n",
        "\n",
        "member = member[member['ab_test'] == 'recommender_system_test']\n",
        "\n",
        "member['user_id'].nunique()\n",
        "\n",
        "member['user_id'].count()\n",
        "\n",
        "member.groupby('user_id')['group'].count().reset_index().sort_values(by = 'user_id', ascending= False)"
      ]
    },
    {
      "cell_type": "markdown",
      "metadata": {
        "id": "1NHEVJqhod9o"
      },
      "source": [
        "### Соответствие данных требованиям технического задания. Проверка корректность всех пунктов технического задания."
      ]
    },
    {
      "cell_type": "markdown",
      "metadata": {
        "id": "fKSbjlhOt8d3"
      },
      "source": [
        "#### Группы: А (контрольная), B (новая платёжная воронка)"
      ]
    },
    {
      "cell_type": "code",
      "execution_count": 23,
      "metadata": {
        "colab": {
          "base_uri": "https://localhost:8080/"
        },
        "id": "C-nxaIhWuCG5",
        "outputId": "d3a16d12-6327-4135-ae1d-964c0472a460"
      },
      "outputs": [
        {
          "output_type": "execute_result",
          "data": {
            "text/plain": [
              "group\n",
              "A    3385\n",
              "B    2540\n",
              "Name: user_id, dtype: int64"
            ]
          },
          "metadata": {},
          "execution_count": 23
        }
      ],
      "source": [
        "member[member['ab_test'] == 'recommender_system_test'].groupby('group')['user_id'].nunique()"
      ]
    },
    {
      "cell_type": "markdown",
      "metadata": {
        "id": "YiAf5cqUucjl"
      },
      "source": [
        "Две группы тестируемых."
      ]
    },
    {
      "cell_type": "markdown",
      "metadata": {
        "id": "C86QsHslutKO"
      },
      "source": [
        "#### Дата запуска: 2020-12-07"
      ]
    },
    {
      "cell_type": "code",
      "execution_count": 24,
      "metadata": {
        "colab": {
          "base_uri": "https://localhost:8080/"
        },
        "id": "IbA2qnq-u13v",
        "outputId": "1c20a9a5-bec4-45a4-81df-105d1e98bcc1"
      },
      "outputs": [
        {
          "output_type": "execute_result",
          "data": {
            "text/plain": [
              "Timestamp('2020-12-07 00:00:00')"
            ]
          },
          "metadata": {},
          "execution_count": 24
        }
      ],
      "source": [
        "user['first_date'].min()"
      ]
    },
    {
      "cell_type": "markdown",
      "metadata": {
        "id": "3FrwPll9uyMi"
      },
      "source": [
        "Первые пользователи действительно зарегистрировались 7 декабря."
      ]
    },
    {
      "cell_type": "code",
      "execution_count": 25,
      "metadata": {
        "colab": {
          "base_uri": "https://localhost:8080/"
        },
        "id": "hzDxvUvwvPyi",
        "outputId": "551273da-c574-4371-b633-0b2c3875fa0b"
      },
      "outputs": [
        {
          "output_type": "execute_result",
          "data": {
            "text/plain": [
              "Timestamp('2020-12-07 00:00:33')"
            ]
          },
          "metadata": {},
          "execution_count": 25
        }
      ],
      "source": [
        "event['event_dt'].min()"
      ]
    },
    {
      "cell_type": "markdown",
      "metadata": {
        "id": "lrfiF0mRveYf"
      },
      "source": [
        "События также начинаются с этого числа."
      ]
    },
    {
      "cell_type": "markdown",
      "metadata": {
        "id": "jCFd83L0vE4y"
      },
      "source": [
        "#### Дата остановки набора новых пользователей: 2020-12-21"
      ]
    },
    {
      "cell_type": "code",
      "execution_count": 26,
      "metadata": {
        "id": "iDuXsYLNdHTc",
        "outputId": "fe909472-9621-49cd-abf8-c481b1f53a49",
        "colab": {
          "base_uri": "https://localhost:8080/",
          "height": 206
        }
      },
      "outputs": [
        {
          "output_type": "execute_result",
          "data": {
            "text/plain": [
              "            user_id  count group                  ab_test first_date region  \\\n",
              "0  FFED90241D04503F      1     B  recommender_system_test 2020-12-08     EU   \n",
              "1  FFE858A7845F005E      1     A  recommender_system_test 2020-12-08     EU   \n",
              "2  FFC2C5F898D1245B      1     B  recommender_system_test 2020-12-10     EU   \n",
              "3  FFB3F647898BA928      1     B  recommender_system_test 2020-12-13     EU   \n",
              "4  FFAE9489C76F352B      1     A  recommender_system_test 2020-12-13     EU   \n",
              "\n",
              "    device  \n",
              "0  Android  \n",
              "1       PC  \n",
              "2  Android  \n",
              "3       PC  \n",
              "4      Mac  "
            ],
            "text/html": [
              "\n",
              "  <div id=\"df-bbc8c40f-cf7b-4fdb-962d-5bd91aee2bb7\">\n",
              "    <div class=\"colab-df-container\">\n",
              "      <div>\n",
              "<style scoped>\n",
              "    .dataframe tbody tr th:only-of-type {\n",
              "        vertical-align: middle;\n",
              "    }\n",
              "\n",
              "    .dataframe tbody tr th {\n",
              "        vertical-align: top;\n",
              "    }\n",
              "\n",
              "    .dataframe thead th {\n",
              "        text-align: right;\n",
              "    }\n",
              "</style>\n",
              "<table border=\"1\" class=\"dataframe\">\n",
              "  <thead>\n",
              "    <tr style=\"text-align: right;\">\n",
              "      <th></th>\n",
              "      <th>user_id</th>\n",
              "      <th>count</th>\n",
              "      <th>group</th>\n",
              "      <th>ab_test</th>\n",
              "      <th>first_date</th>\n",
              "      <th>region</th>\n",
              "      <th>device</th>\n",
              "    </tr>\n",
              "  </thead>\n",
              "  <tbody>\n",
              "    <tr>\n",
              "      <th>0</th>\n",
              "      <td>FFED90241D04503F</td>\n",
              "      <td>1</td>\n",
              "      <td>B</td>\n",
              "      <td>recommender_system_test</td>\n",
              "      <td>2020-12-08</td>\n",
              "      <td>EU</td>\n",
              "      <td>Android</td>\n",
              "    </tr>\n",
              "    <tr>\n",
              "      <th>1</th>\n",
              "      <td>FFE858A7845F005E</td>\n",
              "      <td>1</td>\n",
              "      <td>A</td>\n",
              "      <td>recommender_system_test</td>\n",
              "      <td>2020-12-08</td>\n",
              "      <td>EU</td>\n",
              "      <td>PC</td>\n",
              "    </tr>\n",
              "    <tr>\n",
              "      <th>2</th>\n",
              "      <td>FFC2C5F898D1245B</td>\n",
              "      <td>1</td>\n",
              "      <td>B</td>\n",
              "      <td>recommender_system_test</td>\n",
              "      <td>2020-12-10</td>\n",
              "      <td>EU</td>\n",
              "      <td>Android</td>\n",
              "    </tr>\n",
              "    <tr>\n",
              "      <th>3</th>\n",
              "      <td>FFB3F647898BA928</td>\n",
              "      <td>1</td>\n",
              "      <td>B</td>\n",
              "      <td>recommender_system_test</td>\n",
              "      <td>2020-12-13</td>\n",
              "      <td>EU</td>\n",
              "      <td>PC</td>\n",
              "    </tr>\n",
              "    <tr>\n",
              "      <th>4</th>\n",
              "      <td>FFAE9489C76F352B</td>\n",
              "      <td>1</td>\n",
              "      <td>A</td>\n",
              "      <td>recommender_system_test</td>\n",
              "      <td>2020-12-13</td>\n",
              "      <td>EU</td>\n",
              "      <td>Mac</td>\n",
              "    </tr>\n",
              "  </tbody>\n",
              "</table>\n",
              "</div>\n",
              "      <button class=\"colab-df-convert\" onclick=\"convertToInteractive('df-bbc8c40f-cf7b-4fdb-962d-5bd91aee2bb7')\"\n",
              "              title=\"Convert this dataframe to an interactive table.\"\n",
              "              style=\"display:none;\">\n",
              "        \n",
              "  <svg xmlns=\"http://www.w3.org/2000/svg\" height=\"24px\"viewBox=\"0 0 24 24\"\n",
              "       width=\"24px\">\n",
              "    <path d=\"M0 0h24v24H0V0z\" fill=\"none\"/>\n",
              "    <path d=\"M18.56 5.44l.94 2.06.94-2.06 2.06-.94-2.06-.94-.94-2.06-.94 2.06-2.06.94zm-11 1L8.5 8.5l.94-2.06 2.06-.94-2.06-.94L8.5 2.5l-.94 2.06-2.06.94zm10 10l.94 2.06.94-2.06 2.06-.94-2.06-.94-.94-2.06-.94 2.06-2.06.94z\"/><path d=\"M17.41 7.96l-1.37-1.37c-.4-.4-.92-.59-1.43-.59-.52 0-1.04.2-1.43.59L10.3 9.45l-7.72 7.72c-.78.78-.78 2.05 0 2.83L4 21.41c.39.39.9.59 1.41.59.51 0 1.02-.2 1.41-.59l7.78-7.78 2.81-2.81c.8-.78.8-2.07 0-2.86zM5.41 20L4 18.59l7.72-7.72 1.47 1.35L5.41 20z\"/>\n",
              "  </svg>\n",
              "      </button>\n",
              "      \n",
              "  <style>\n",
              "    .colab-df-container {\n",
              "      display:flex;\n",
              "      flex-wrap:wrap;\n",
              "      gap: 12px;\n",
              "    }\n",
              "\n",
              "    .colab-df-convert {\n",
              "      background-color: #E8F0FE;\n",
              "      border: none;\n",
              "      border-radius: 50%;\n",
              "      cursor: pointer;\n",
              "      display: none;\n",
              "      fill: #1967D2;\n",
              "      height: 32px;\n",
              "      padding: 0 0 0 0;\n",
              "      width: 32px;\n",
              "    }\n",
              "\n",
              "    .colab-df-convert:hover {\n",
              "      background-color: #E2EBFA;\n",
              "      box-shadow: 0px 1px 2px rgba(60, 64, 67, 0.3), 0px 1px 3px 1px rgba(60, 64, 67, 0.15);\n",
              "      fill: #174EA6;\n",
              "    }\n",
              "\n",
              "    [theme=dark] .colab-df-convert {\n",
              "      background-color: #3B4455;\n",
              "      fill: #D2E3FC;\n",
              "    }\n",
              "\n",
              "    [theme=dark] .colab-df-convert:hover {\n",
              "      background-color: #434B5C;\n",
              "      box-shadow: 0px 1px 3px 1px rgba(0, 0, 0, 0.15);\n",
              "      filter: drop-shadow(0px 1px 2px rgba(0, 0, 0, 0.3));\n",
              "      fill: #FFFFFF;\n",
              "    }\n",
              "  </style>\n",
              "\n",
              "      <script>\n",
              "        const buttonEl =\n",
              "          document.querySelector('#df-bbc8c40f-cf7b-4fdb-962d-5bd91aee2bb7 button.colab-df-convert');\n",
              "        buttonEl.style.display =\n",
              "          google.colab.kernel.accessAllowed ? 'block' : 'none';\n",
              "\n",
              "        async function convertToInteractive(key) {\n",
              "          const element = document.querySelector('#df-bbc8c40f-cf7b-4fdb-962d-5bd91aee2bb7');\n",
              "          const dataTable =\n",
              "            await google.colab.kernel.invokeFunction('convertToInteractive',\n",
              "                                                     [key], {});\n",
              "          if (!dataTable) return;\n",
              "\n",
              "          const docLinkHtml = 'Like what you see? Visit the ' +\n",
              "            '<a target=\"_blank\" href=https://colab.research.google.com/notebooks/data_table.ipynb>data table notebook</a>'\n",
              "            + ' to learn more about interactive tables.';\n",
              "          element.innerHTML = '';\n",
              "          dataTable['output_type'] = 'display_data';\n",
              "          await google.colab.output.renderOutput(dataTable, element);\n",
              "          const docLink = document.createElement('div');\n",
              "          docLink.innerHTML = docLinkHtml;\n",
              "          element.appendChild(docLink);\n",
              "        }\n",
              "      </script>\n",
              "    </div>\n",
              "  </div>\n",
              "  "
            ]
          },
          "metadata": {},
          "execution_count": 26
        }
      ],
      "source": [
        "t = member.merge(user, on = 'user_id')\n",
        "t.head()"
      ]
    },
    {
      "cell_type": "code",
      "execution_count": 27,
      "metadata": {
        "id": "HXzjuWsDdHTd",
        "outputId": "e923f88d-219c-4c3f-dd2e-0a342b22b504",
        "colab": {
          "base_uri": "https://localhost:8080/"
        }
      },
      "outputs": [
        {
          "output_type": "execute_result",
          "data": {
            "text/plain": [
              "Timestamp('2020-12-21 00:00:00')"
            ]
          },
          "metadata": {},
          "execution_count": 27
        }
      ],
      "source": [
        "t[t['ab_test'] == 'recommender_system_test']['first_date'].max()"
      ]
    },
    {
      "cell_type": "markdown",
      "metadata": {
        "id": "_4MKx1o0dHTe"
      },
      "source": [
        "Получается, что можно не фильтровать, требования ТЗ выполняются."
      ]
    },
    {
      "cell_type": "markdown",
      "metadata": {
        "id": "RDjU4ka8wR2b"
      },
      "source": [
        "#### Дата остановки: 2021-01-04"
      ]
    },
    {
      "cell_type": "code",
      "execution_count": 28,
      "metadata": {
        "colab": {
          "base_uri": "https://localhost:8080/"
        },
        "id": "iHF3fYs0wWnd",
        "outputId": "5a4079d0-dcfa-48a3-ca68-77d9bba57b31"
      },
      "outputs": [
        {
          "output_type": "execute_result",
          "data": {
            "text/plain": [
              "Timestamp('2020-12-30 23:36:33')"
            ]
          },
          "metadata": {},
          "execution_count": 28
        }
      ],
      "source": [
        "event['event_dt'].max()"
      ]
    },
    {
      "cell_type": "markdown",
      "metadata": {
        "id": "W4ST1TcFwgnK"
      },
      "source": [
        "Похоже.что у нас данные только доконца года, в целом это удовлетворяет условию, но то что нет данных за первые 4 дня 2021 года странно."
      ]
    },
    {
      "cell_type": "markdown",
      "metadata": {
        "id": "eFdn6eBNdHTh"
      },
      "source": [
        "\n",
        "Нужно учесть, что не все пользователи 14 дней прожили, рассчитаем лайфтаймы и оставим только те, котрые меньше или равны 14 дням."
      ]
    },
    {
      "cell_type": "code",
      "execution_count": 29,
      "metadata": {
        "id": "CHYKqOS7dHTj",
        "outputId": "7d6158a5-14d9-499a-c063-e8b5f416371f",
        "colab": {
          "base_uri": "https://localhost:8080/",
          "height": 206
        }
      },
      "outputs": [
        {
          "output_type": "execute_result",
          "data": {
            "text/plain": [
              "            user_id            event_dt event_name  details first_date  \\\n",
              "0  E1BDDCE0DAFA2679 2020-12-07 20:22:03   purchase  99.9900 2020-12-07   \n",
              "1  E1BDDCE0DAFA2679 2020-12-09 06:21:35   purchase   9.9900 2020-12-07   \n",
              "2  E1BDDCE0DAFA2679 2020-12-25 08:26:03   purchase 499.9900 2020-12-07   \n",
              "3  E1BDDCE0DAFA2679 2020-12-07 20:22:03      login      NaN 2020-12-07   \n",
              "4  E1BDDCE0DAFA2679 2020-12-09 06:21:35      login      NaN 2020-12-07   \n",
              "\n",
              "      region  device  \n",
              "0  N.America  iPhone  \n",
              "1  N.America  iPhone  \n",
              "2  N.America  iPhone  \n",
              "3  N.America  iPhone  \n",
              "4  N.America  iPhone  "
            ],
            "text/html": [
              "\n",
              "  <div id=\"df-0a48bd91-59d8-4d36-b811-1c1c706bc609\">\n",
              "    <div class=\"colab-df-container\">\n",
              "      <div>\n",
              "<style scoped>\n",
              "    .dataframe tbody tr th:only-of-type {\n",
              "        vertical-align: middle;\n",
              "    }\n",
              "\n",
              "    .dataframe tbody tr th {\n",
              "        vertical-align: top;\n",
              "    }\n",
              "\n",
              "    .dataframe thead th {\n",
              "        text-align: right;\n",
              "    }\n",
              "</style>\n",
              "<table border=\"1\" class=\"dataframe\">\n",
              "  <thead>\n",
              "    <tr style=\"text-align: right;\">\n",
              "      <th></th>\n",
              "      <th>user_id</th>\n",
              "      <th>event_dt</th>\n",
              "      <th>event_name</th>\n",
              "      <th>details</th>\n",
              "      <th>first_date</th>\n",
              "      <th>region</th>\n",
              "      <th>device</th>\n",
              "    </tr>\n",
              "  </thead>\n",
              "  <tbody>\n",
              "    <tr>\n",
              "      <th>0</th>\n",
              "      <td>E1BDDCE0DAFA2679</td>\n",
              "      <td>2020-12-07 20:22:03</td>\n",
              "      <td>purchase</td>\n",
              "      <td>99.9900</td>\n",
              "      <td>2020-12-07</td>\n",
              "      <td>N.America</td>\n",
              "      <td>iPhone</td>\n",
              "    </tr>\n",
              "    <tr>\n",
              "      <th>1</th>\n",
              "      <td>E1BDDCE0DAFA2679</td>\n",
              "      <td>2020-12-09 06:21:35</td>\n",
              "      <td>purchase</td>\n",
              "      <td>9.9900</td>\n",
              "      <td>2020-12-07</td>\n",
              "      <td>N.America</td>\n",
              "      <td>iPhone</td>\n",
              "    </tr>\n",
              "    <tr>\n",
              "      <th>2</th>\n",
              "      <td>E1BDDCE0DAFA2679</td>\n",
              "      <td>2020-12-25 08:26:03</td>\n",
              "      <td>purchase</td>\n",
              "      <td>499.9900</td>\n",
              "      <td>2020-12-07</td>\n",
              "      <td>N.America</td>\n",
              "      <td>iPhone</td>\n",
              "    </tr>\n",
              "    <tr>\n",
              "      <th>3</th>\n",
              "      <td>E1BDDCE0DAFA2679</td>\n",
              "      <td>2020-12-07 20:22:03</td>\n",
              "      <td>login</td>\n",
              "      <td>NaN</td>\n",
              "      <td>2020-12-07</td>\n",
              "      <td>N.America</td>\n",
              "      <td>iPhone</td>\n",
              "    </tr>\n",
              "    <tr>\n",
              "      <th>4</th>\n",
              "      <td>E1BDDCE0DAFA2679</td>\n",
              "      <td>2020-12-09 06:21:35</td>\n",
              "      <td>login</td>\n",
              "      <td>NaN</td>\n",
              "      <td>2020-12-07</td>\n",
              "      <td>N.America</td>\n",
              "      <td>iPhone</td>\n",
              "    </tr>\n",
              "  </tbody>\n",
              "</table>\n",
              "</div>\n",
              "      <button class=\"colab-df-convert\" onclick=\"convertToInteractive('df-0a48bd91-59d8-4d36-b811-1c1c706bc609')\"\n",
              "              title=\"Convert this dataframe to an interactive table.\"\n",
              "              style=\"display:none;\">\n",
              "        \n",
              "  <svg xmlns=\"http://www.w3.org/2000/svg\" height=\"24px\"viewBox=\"0 0 24 24\"\n",
              "       width=\"24px\">\n",
              "    <path d=\"M0 0h24v24H0V0z\" fill=\"none\"/>\n",
              "    <path d=\"M18.56 5.44l.94 2.06.94-2.06 2.06-.94-2.06-.94-.94-2.06-.94 2.06-2.06.94zm-11 1L8.5 8.5l.94-2.06 2.06-.94-2.06-.94L8.5 2.5l-.94 2.06-2.06.94zm10 10l.94 2.06.94-2.06 2.06-.94-2.06-.94-.94-2.06-.94 2.06-2.06.94z\"/><path d=\"M17.41 7.96l-1.37-1.37c-.4-.4-.92-.59-1.43-.59-.52 0-1.04.2-1.43.59L10.3 9.45l-7.72 7.72c-.78.78-.78 2.05 0 2.83L4 21.41c.39.39.9.59 1.41.59.51 0 1.02-.2 1.41-.59l7.78-7.78 2.81-2.81c.8-.78.8-2.07 0-2.86zM5.41 20L4 18.59l7.72-7.72 1.47 1.35L5.41 20z\"/>\n",
              "  </svg>\n",
              "      </button>\n",
              "      \n",
              "  <style>\n",
              "    .colab-df-container {\n",
              "      display:flex;\n",
              "      flex-wrap:wrap;\n",
              "      gap: 12px;\n",
              "    }\n",
              "\n",
              "    .colab-df-convert {\n",
              "      background-color: #E8F0FE;\n",
              "      border: none;\n",
              "      border-radius: 50%;\n",
              "      cursor: pointer;\n",
              "      display: none;\n",
              "      fill: #1967D2;\n",
              "      height: 32px;\n",
              "      padding: 0 0 0 0;\n",
              "      width: 32px;\n",
              "    }\n",
              "\n",
              "    .colab-df-convert:hover {\n",
              "      background-color: #E2EBFA;\n",
              "      box-shadow: 0px 1px 2px rgba(60, 64, 67, 0.3), 0px 1px 3px 1px rgba(60, 64, 67, 0.15);\n",
              "      fill: #174EA6;\n",
              "    }\n",
              "\n",
              "    [theme=dark] .colab-df-convert {\n",
              "      background-color: #3B4455;\n",
              "      fill: #D2E3FC;\n",
              "    }\n",
              "\n",
              "    [theme=dark] .colab-df-convert:hover {\n",
              "      background-color: #434B5C;\n",
              "      box-shadow: 0px 1px 3px 1px rgba(0, 0, 0, 0.15);\n",
              "      filter: drop-shadow(0px 1px 2px rgba(0, 0, 0, 0.3));\n",
              "      fill: #FFFFFF;\n",
              "    }\n",
              "  </style>\n",
              "\n",
              "      <script>\n",
              "        const buttonEl =\n",
              "          document.querySelector('#df-0a48bd91-59d8-4d36-b811-1c1c706bc609 button.colab-df-convert');\n",
              "        buttonEl.style.display =\n",
              "          google.colab.kernel.accessAllowed ? 'block' : 'none';\n",
              "\n",
              "        async function convertToInteractive(key) {\n",
              "          const element = document.querySelector('#df-0a48bd91-59d8-4d36-b811-1c1c706bc609');\n",
              "          const dataTable =\n",
              "            await google.colab.kernel.invokeFunction('convertToInteractive',\n",
              "                                                     [key], {});\n",
              "          if (!dataTable) return;\n",
              "\n",
              "          const docLinkHtml = 'Like what you see? Visit the ' +\n",
              "            '<a target=\"_blank\" href=https://colab.research.google.com/notebooks/data_table.ipynb>data table notebook</a>'\n",
              "            + ' to learn more about interactive tables.';\n",
              "          element.innerHTML = '';\n",
              "          dataTable['output_type'] = 'display_data';\n",
              "          await google.colab.output.renderOutput(dataTable, element);\n",
              "          const docLink = document.createElement('div');\n",
              "          docLink.innerHTML = docLinkHtml;\n",
              "          element.appendChild(docLink);\n",
              "        }\n",
              "      </script>\n",
              "    </div>\n",
              "  </div>\n",
              "  "
            ]
          },
          "metadata": {},
          "execution_count": 29
        }
      ],
      "source": [
        "event = event.merge(user, on = 'user_id')\n",
        "event.head()"
      ]
    },
    {
      "cell_type": "code",
      "execution_count": 30,
      "metadata": {
        "id": "XGTVHS0cdHTj",
        "outputId": "4fbd81ae-66c7-4e70-e0c0-fa2f14582d47",
        "colab": {
          "base_uri": "https://localhost:8080/",
          "height": 206
        }
      },
      "outputs": [
        {
          "output_type": "execute_result",
          "data": {
            "text/plain": [
              "            user_id            event_dt event_name  details first_date  \\\n",
              "0  E1BDDCE0DAFA2679 2020-12-07 20:22:03   purchase  99.9900 2020-12-07   \n",
              "1  E1BDDCE0DAFA2679 2020-12-09 06:21:35   purchase   9.9900 2020-12-07   \n",
              "2  E1BDDCE0DAFA2679 2020-12-25 08:26:03   purchase 499.9900 2020-12-07   \n",
              "3  E1BDDCE0DAFA2679 2020-12-07 20:22:03      login      NaN 2020-12-07   \n",
              "4  E1BDDCE0DAFA2679 2020-12-09 06:21:35      login      NaN 2020-12-07   \n",
              "\n",
              "      region  device            delta  \n",
              "0  N.America  iPhone  0 days 20:22:03  \n",
              "1  N.America  iPhone  2 days 06:21:35  \n",
              "2  N.America  iPhone 18 days 08:26:03  \n",
              "3  N.America  iPhone  0 days 20:22:03  \n",
              "4  N.America  iPhone  2 days 06:21:35  "
            ],
            "text/html": [
              "\n",
              "  <div id=\"df-1a295a82-be03-4f73-9884-0855934ac8d5\">\n",
              "    <div class=\"colab-df-container\">\n",
              "      <div>\n",
              "<style scoped>\n",
              "    .dataframe tbody tr th:only-of-type {\n",
              "        vertical-align: middle;\n",
              "    }\n",
              "\n",
              "    .dataframe tbody tr th {\n",
              "        vertical-align: top;\n",
              "    }\n",
              "\n",
              "    .dataframe thead th {\n",
              "        text-align: right;\n",
              "    }\n",
              "</style>\n",
              "<table border=\"1\" class=\"dataframe\">\n",
              "  <thead>\n",
              "    <tr style=\"text-align: right;\">\n",
              "      <th></th>\n",
              "      <th>user_id</th>\n",
              "      <th>event_dt</th>\n",
              "      <th>event_name</th>\n",
              "      <th>details</th>\n",
              "      <th>first_date</th>\n",
              "      <th>region</th>\n",
              "      <th>device</th>\n",
              "      <th>delta</th>\n",
              "    </tr>\n",
              "  </thead>\n",
              "  <tbody>\n",
              "    <tr>\n",
              "      <th>0</th>\n",
              "      <td>E1BDDCE0DAFA2679</td>\n",
              "      <td>2020-12-07 20:22:03</td>\n",
              "      <td>purchase</td>\n",
              "      <td>99.9900</td>\n",
              "      <td>2020-12-07</td>\n",
              "      <td>N.America</td>\n",
              "      <td>iPhone</td>\n",
              "      <td>0 days 20:22:03</td>\n",
              "    </tr>\n",
              "    <tr>\n",
              "      <th>1</th>\n",
              "      <td>E1BDDCE0DAFA2679</td>\n",
              "      <td>2020-12-09 06:21:35</td>\n",
              "      <td>purchase</td>\n",
              "      <td>9.9900</td>\n",
              "      <td>2020-12-07</td>\n",
              "      <td>N.America</td>\n",
              "      <td>iPhone</td>\n",
              "      <td>2 days 06:21:35</td>\n",
              "    </tr>\n",
              "    <tr>\n",
              "      <th>2</th>\n",
              "      <td>E1BDDCE0DAFA2679</td>\n",
              "      <td>2020-12-25 08:26:03</td>\n",
              "      <td>purchase</td>\n",
              "      <td>499.9900</td>\n",
              "      <td>2020-12-07</td>\n",
              "      <td>N.America</td>\n",
              "      <td>iPhone</td>\n",
              "      <td>18 days 08:26:03</td>\n",
              "    </tr>\n",
              "    <tr>\n",
              "      <th>3</th>\n",
              "      <td>E1BDDCE0DAFA2679</td>\n",
              "      <td>2020-12-07 20:22:03</td>\n",
              "      <td>login</td>\n",
              "      <td>NaN</td>\n",
              "      <td>2020-12-07</td>\n",
              "      <td>N.America</td>\n",
              "      <td>iPhone</td>\n",
              "      <td>0 days 20:22:03</td>\n",
              "    </tr>\n",
              "    <tr>\n",
              "      <th>4</th>\n",
              "      <td>E1BDDCE0DAFA2679</td>\n",
              "      <td>2020-12-09 06:21:35</td>\n",
              "      <td>login</td>\n",
              "      <td>NaN</td>\n",
              "      <td>2020-12-07</td>\n",
              "      <td>N.America</td>\n",
              "      <td>iPhone</td>\n",
              "      <td>2 days 06:21:35</td>\n",
              "    </tr>\n",
              "  </tbody>\n",
              "</table>\n",
              "</div>\n",
              "      <button class=\"colab-df-convert\" onclick=\"convertToInteractive('df-1a295a82-be03-4f73-9884-0855934ac8d5')\"\n",
              "              title=\"Convert this dataframe to an interactive table.\"\n",
              "              style=\"display:none;\">\n",
              "        \n",
              "  <svg xmlns=\"http://www.w3.org/2000/svg\" height=\"24px\"viewBox=\"0 0 24 24\"\n",
              "       width=\"24px\">\n",
              "    <path d=\"M0 0h24v24H0V0z\" fill=\"none\"/>\n",
              "    <path d=\"M18.56 5.44l.94 2.06.94-2.06 2.06-.94-2.06-.94-.94-2.06-.94 2.06-2.06.94zm-11 1L8.5 8.5l.94-2.06 2.06-.94-2.06-.94L8.5 2.5l-.94 2.06-2.06.94zm10 10l.94 2.06.94-2.06 2.06-.94-2.06-.94-.94-2.06-.94 2.06-2.06.94z\"/><path d=\"M17.41 7.96l-1.37-1.37c-.4-.4-.92-.59-1.43-.59-.52 0-1.04.2-1.43.59L10.3 9.45l-7.72 7.72c-.78.78-.78 2.05 0 2.83L4 21.41c.39.39.9.59 1.41.59.51 0 1.02-.2 1.41-.59l7.78-7.78 2.81-2.81c.8-.78.8-2.07 0-2.86zM5.41 20L4 18.59l7.72-7.72 1.47 1.35L5.41 20z\"/>\n",
              "  </svg>\n",
              "      </button>\n",
              "      \n",
              "  <style>\n",
              "    .colab-df-container {\n",
              "      display:flex;\n",
              "      flex-wrap:wrap;\n",
              "      gap: 12px;\n",
              "    }\n",
              "\n",
              "    .colab-df-convert {\n",
              "      background-color: #E8F0FE;\n",
              "      border: none;\n",
              "      border-radius: 50%;\n",
              "      cursor: pointer;\n",
              "      display: none;\n",
              "      fill: #1967D2;\n",
              "      height: 32px;\n",
              "      padding: 0 0 0 0;\n",
              "      width: 32px;\n",
              "    }\n",
              "\n",
              "    .colab-df-convert:hover {\n",
              "      background-color: #E2EBFA;\n",
              "      box-shadow: 0px 1px 2px rgba(60, 64, 67, 0.3), 0px 1px 3px 1px rgba(60, 64, 67, 0.15);\n",
              "      fill: #174EA6;\n",
              "    }\n",
              "\n",
              "    [theme=dark] .colab-df-convert {\n",
              "      background-color: #3B4455;\n",
              "      fill: #D2E3FC;\n",
              "    }\n",
              "\n",
              "    [theme=dark] .colab-df-convert:hover {\n",
              "      background-color: #434B5C;\n",
              "      box-shadow: 0px 1px 3px 1px rgba(0, 0, 0, 0.15);\n",
              "      filter: drop-shadow(0px 1px 2px rgba(0, 0, 0, 0.3));\n",
              "      fill: #FFFFFF;\n",
              "    }\n",
              "  </style>\n",
              "\n",
              "      <script>\n",
              "        const buttonEl =\n",
              "          document.querySelector('#df-1a295a82-be03-4f73-9884-0855934ac8d5 button.colab-df-convert');\n",
              "        buttonEl.style.display =\n",
              "          google.colab.kernel.accessAllowed ? 'block' : 'none';\n",
              "\n",
              "        async function convertToInteractive(key) {\n",
              "          const element = document.querySelector('#df-1a295a82-be03-4f73-9884-0855934ac8d5');\n",
              "          const dataTable =\n",
              "            await google.colab.kernel.invokeFunction('convertToInteractive',\n",
              "                                                     [key], {});\n",
              "          if (!dataTable) return;\n",
              "\n",
              "          const docLinkHtml = 'Like what you see? Visit the ' +\n",
              "            '<a target=\"_blank\" href=https://colab.research.google.com/notebooks/data_table.ipynb>data table notebook</a>'\n",
              "            + ' to learn more about interactive tables.';\n",
              "          element.innerHTML = '';\n",
              "          dataTable['output_type'] = 'display_data';\n",
              "          await google.colab.output.renderOutput(dataTable, element);\n",
              "          const docLink = document.createElement('div');\n",
              "          docLink.innerHTML = docLinkHtml;\n",
              "          element.appendChild(docLink);\n",
              "        }\n",
              "      </script>\n",
              "    </div>\n",
              "  </div>\n",
              "  "
            ]
          },
          "metadata": {},
          "execution_count": 30
        }
      ],
      "source": [
        "event['delta'] = event['event_dt'] - event['first_date']\n",
        "event.head()"
      ]
    },
    {
      "cell_type": "code",
      "execution_count": 31,
      "metadata": {
        "id": "5rDH-4uIdHTk",
        "outputId": "d0995bfd-4842-488e-afdb-392d19f6063d",
        "colab": {
          "base_uri": "https://localhost:8080/",
          "height": 206
        }
      },
      "outputs": [
        {
          "output_type": "execute_result",
          "data": {
            "text/plain": [
              "            user_id            event_dt event_name  details first_date  \\\n",
              "0  E1BDDCE0DAFA2679 2020-12-07 20:22:03   purchase  99.9900 2020-12-07   \n",
              "1  E1BDDCE0DAFA2679 2020-12-09 06:21:35   purchase   9.9900 2020-12-07   \n",
              "2  E1BDDCE0DAFA2679 2020-12-07 20:22:03      login      NaN 2020-12-07   \n",
              "3  E1BDDCE0DAFA2679 2020-12-09 06:21:35      login      NaN 2020-12-07   \n",
              "4  7B6452F081F49504 2020-12-07 09:22:53   purchase   9.9900 2020-12-07   \n",
              "\n",
              "      region  device           delta  \n",
              "0  N.America  iPhone 0 days 20:22:03  \n",
              "1  N.America  iPhone 2 days 06:21:35  \n",
              "2  N.America  iPhone 0 days 20:22:03  \n",
              "3  N.America  iPhone 2 days 06:21:35  \n",
              "4         EU  iPhone 0 days 09:22:53  "
            ],
            "text/html": [
              "\n",
              "  <div id=\"df-87b516ff-d359-4c7b-ac21-4ee3b41dcf01\">\n",
              "    <div class=\"colab-df-container\">\n",
              "      <div>\n",
              "<style scoped>\n",
              "    .dataframe tbody tr th:only-of-type {\n",
              "        vertical-align: middle;\n",
              "    }\n",
              "\n",
              "    .dataframe tbody tr th {\n",
              "        vertical-align: top;\n",
              "    }\n",
              "\n",
              "    .dataframe thead th {\n",
              "        text-align: right;\n",
              "    }\n",
              "</style>\n",
              "<table border=\"1\" class=\"dataframe\">\n",
              "  <thead>\n",
              "    <tr style=\"text-align: right;\">\n",
              "      <th></th>\n",
              "      <th>user_id</th>\n",
              "      <th>event_dt</th>\n",
              "      <th>event_name</th>\n",
              "      <th>details</th>\n",
              "      <th>first_date</th>\n",
              "      <th>region</th>\n",
              "      <th>device</th>\n",
              "      <th>delta</th>\n",
              "    </tr>\n",
              "  </thead>\n",
              "  <tbody>\n",
              "    <tr>\n",
              "      <th>0</th>\n",
              "      <td>E1BDDCE0DAFA2679</td>\n",
              "      <td>2020-12-07 20:22:03</td>\n",
              "      <td>purchase</td>\n",
              "      <td>99.9900</td>\n",
              "      <td>2020-12-07</td>\n",
              "      <td>N.America</td>\n",
              "      <td>iPhone</td>\n",
              "      <td>0 days 20:22:03</td>\n",
              "    </tr>\n",
              "    <tr>\n",
              "      <th>1</th>\n",
              "      <td>E1BDDCE0DAFA2679</td>\n",
              "      <td>2020-12-09 06:21:35</td>\n",
              "      <td>purchase</td>\n",
              "      <td>9.9900</td>\n",
              "      <td>2020-12-07</td>\n",
              "      <td>N.America</td>\n",
              "      <td>iPhone</td>\n",
              "      <td>2 days 06:21:35</td>\n",
              "    </tr>\n",
              "    <tr>\n",
              "      <th>2</th>\n",
              "      <td>E1BDDCE0DAFA2679</td>\n",
              "      <td>2020-12-07 20:22:03</td>\n",
              "      <td>login</td>\n",
              "      <td>NaN</td>\n",
              "      <td>2020-12-07</td>\n",
              "      <td>N.America</td>\n",
              "      <td>iPhone</td>\n",
              "      <td>0 days 20:22:03</td>\n",
              "    </tr>\n",
              "    <tr>\n",
              "      <th>3</th>\n",
              "      <td>E1BDDCE0DAFA2679</td>\n",
              "      <td>2020-12-09 06:21:35</td>\n",
              "      <td>login</td>\n",
              "      <td>NaN</td>\n",
              "      <td>2020-12-07</td>\n",
              "      <td>N.America</td>\n",
              "      <td>iPhone</td>\n",
              "      <td>2 days 06:21:35</td>\n",
              "    </tr>\n",
              "    <tr>\n",
              "      <th>4</th>\n",
              "      <td>7B6452F081F49504</td>\n",
              "      <td>2020-12-07 09:22:53</td>\n",
              "      <td>purchase</td>\n",
              "      <td>9.9900</td>\n",
              "      <td>2020-12-07</td>\n",
              "      <td>EU</td>\n",
              "      <td>iPhone</td>\n",
              "      <td>0 days 09:22:53</td>\n",
              "    </tr>\n",
              "  </tbody>\n",
              "</table>\n",
              "</div>\n",
              "      <button class=\"colab-df-convert\" onclick=\"convertToInteractive('df-87b516ff-d359-4c7b-ac21-4ee3b41dcf01')\"\n",
              "              title=\"Convert this dataframe to an interactive table.\"\n",
              "              style=\"display:none;\">\n",
              "        \n",
              "  <svg xmlns=\"http://www.w3.org/2000/svg\" height=\"24px\"viewBox=\"0 0 24 24\"\n",
              "       width=\"24px\">\n",
              "    <path d=\"M0 0h24v24H0V0z\" fill=\"none\"/>\n",
              "    <path d=\"M18.56 5.44l.94 2.06.94-2.06 2.06-.94-2.06-.94-.94-2.06-.94 2.06-2.06.94zm-11 1L8.5 8.5l.94-2.06 2.06-.94-2.06-.94L8.5 2.5l-.94 2.06-2.06.94zm10 10l.94 2.06.94-2.06 2.06-.94-2.06-.94-.94-2.06-.94 2.06-2.06.94z\"/><path d=\"M17.41 7.96l-1.37-1.37c-.4-.4-.92-.59-1.43-.59-.52 0-1.04.2-1.43.59L10.3 9.45l-7.72 7.72c-.78.78-.78 2.05 0 2.83L4 21.41c.39.39.9.59 1.41.59.51 0 1.02-.2 1.41-.59l7.78-7.78 2.81-2.81c.8-.78.8-2.07 0-2.86zM5.41 20L4 18.59l7.72-7.72 1.47 1.35L5.41 20z\"/>\n",
              "  </svg>\n",
              "      </button>\n",
              "      \n",
              "  <style>\n",
              "    .colab-df-container {\n",
              "      display:flex;\n",
              "      flex-wrap:wrap;\n",
              "      gap: 12px;\n",
              "    }\n",
              "\n",
              "    .colab-df-convert {\n",
              "      background-color: #E8F0FE;\n",
              "      border: none;\n",
              "      border-radius: 50%;\n",
              "      cursor: pointer;\n",
              "      display: none;\n",
              "      fill: #1967D2;\n",
              "      height: 32px;\n",
              "      padding: 0 0 0 0;\n",
              "      width: 32px;\n",
              "    }\n",
              "\n",
              "    .colab-df-convert:hover {\n",
              "      background-color: #E2EBFA;\n",
              "      box-shadow: 0px 1px 2px rgba(60, 64, 67, 0.3), 0px 1px 3px 1px rgba(60, 64, 67, 0.15);\n",
              "      fill: #174EA6;\n",
              "    }\n",
              "\n",
              "    [theme=dark] .colab-df-convert {\n",
              "      background-color: #3B4455;\n",
              "      fill: #D2E3FC;\n",
              "    }\n",
              "\n",
              "    [theme=dark] .colab-df-convert:hover {\n",
              "      background-color: #434B5C;\n",
              "      box-shadow: 0px 1px 3px 1px rgba(0, 0, 0, 0.15);\n",
              "      filter: drop-shadow(0px 1px 2px rgba(0, 0, 0, 0.3));\n",
              "      fill: #FFFFFF;\n",
              "    }\n",
              "  </style>\n",
              "\n",
              "      <script>\n",
              "        const buttonEl =\n",
              "          document.querySelector('#df-87b516ff-d359-4c7b-ac21-4ee3b41dcf01 button.colab-df-convert');\n",
              "        buttonEl.style.display =\n",
              "          google.colab.kernel.accessAllowed ? 'block' : 'none';\n",
              "\n",
              "        async function convertToInteractive(key) {\n",
              "          const element = document.querySelector('#df-87b516ff-d359-4c7b-ac21-4ee3b41dcf01');\n",
              "          const dataTable =\n",
              "            await google.colab.kernel.invokeFunction('convertToInteractive',\n",
              "                                                     [key], {});\n",
              "          if (!dataTable) return;\n",
              "\n",
              "          const docLinkHtml = 'Like what you see? Visit the ' +\n",
              "            '<a target=\"_blank\" href=https://colab.research.google.com/notebooks/data_table.ipynb>data table notebook</a>'\n",
              "            + ' to learn more about interactive tables.';\n",
              "          element.innerHTML = '';\n",
              "          dataTable['output_type'] = 'display_data';\n",
              "          await google.colab.output.renderOutput(dataTable, element);\n",
              "          const docLink = document.createElement('div');\n",
              "          docLink.innerHTML = docLinkHtml;\n",
              "          element.appendChild(docLink);\n",
              "        }\n",
              "      </script>\n",
              "    </div>\n",
              "  </div>\n",
              "  "
            ]
          },
          "metadata": {},
          "execution_count": 31
        }
      ],
      "source": [
        "event = event[event['delta'] <= pd.Timedelta(days = 14)]\n",
        "event.reset_index(drop=True).head()"
      ]
    },
    {
      "cell_type": "markdown",
      "source": [
        "Сделано"
      ],
      "metadata": {
        "id": "ORXNBCgPK8an"
      }
    },
    {
      "cell_type": "markdown",
      "metadata": {
        "id": "HtsL1csLx2h4"
      },
      "source": [
        "#### Аудитория: 15% новых пользователей из региона EU"
      ]
    },
    {
      "cell_type": "code",
      "execution_count": 32,
      "metadata": {
        "colab": {
          "base_uri": "https://localhost:8080/",
          "height": 143
        },
        "id": "R38vW9h9x7gk",
        "outputId": "29e1d5ad-7dbf-4ec7-db39-42ce09a2d851"
      },
      "outputs": [
        {
          "output_type": "execute_result",
          "data": {
            "text/plain": [
              "                user_id first_date     region   device\n",
              "55626  601D417A2653D485 2020-12-13         EU       PC\n",
              "54875  846F1941702D06BA 2020-12-13  N.America  Android\n",
              "43044  00B338BB985FB9EC 2020-12-18         EU       PC"
            ],
            "text/html": [
              "\n",
              "  <div id=\"df-21c7de4b-ee05-4b9c-a95b-48b3d3b7129e\">\n",
              "    <div class=\"colab-df-container\">\n",
              "      <div>\n",
              "<style scoped>\n",
              "    .dataframe tbody tr th:only-of-type {\n",
              "        vertical-align: middle;\n",
              "    }\n",
              "\n",
              "    .dataframe tbody tr th {\n",
              "        vertical-align: top;\n",
              "    }\n",
              "\n",
              "    .dataframe thead th {\n",
              "        text-align: right;\n",
              "    }\n",
              "</style>\n",
              "<table border=\"1\" class=\"dataframe\">\n",
              "  <thead>\n",
              "    <tr style=\"text-align: right;\">\n",
              "      <th></th>\n",
              "      <th>user_id</th>\n",
              "      <th>first_date</th>\n",
              "      <th>region</th>\n",
              "      <th>device</th>\n",
              "    </tr>\n",
              "  </thead>\n",
              "  <tbody>\n",
              "    <tr>\n",
              "      <th>55626</th>\n",
              "      <td>601D417A2653D485</td>\n",
              "      <td>2020-12-13</td>\n",
              "      <td>EU</td>\n",
              "      <td>PC</td>\n",
              "    </tr>\n",
              "    <tr>\n",
              "      <th>54875</th>\n",
              "      <td>846F1941702D06BA</td>\n",
              "      <td>2020-12-13</td>\n",
              "      <td>N.America</td>\n",
              "      <td>Android</td>\n",
              "    </tr>\n",
              "    <tr>\n",
              "      <th>43044</th>\n",
              "      <td>00B338BB985FB9EC</td>\n",
              "      <td>2020-12-18</td>\n",
              "      <td>EU</td>\n",
              "      <td>PC</td>\n",
              "    </tr>\n",
              "  </tbody>\n",
              "</table>\n",
              "</div>\n",
              "      <button class=\"colab-df-convert\" onclick=\"convertToInteractive('df-21c7de4b-ee05-4b9c-a95b-48b3d3b7129e')\"\n",
              "              title=\"Convert this dataframe to an interactive table.\"\n",
              "              style=\"display:none;\">\n",
              "        \n",
              "  <svg xmlns=\"http://www.w3.org/2000/svg\" height=\"24px\"viewBox=\"0 0 24 24\"\n",
              "       width=\"24px\">\n",
              "    <path d=\"M0 0h24v24H0V0z\" fill=\"none\"/>\n",
              "    <path d=\"M18.56 5.44l.94 2.06.94-2.06 2.06-.94-2.06-.94-.94-2.06-.94 2.06-2.06.94zm-11 1L8.5 8.5l.94-2.06 2.06-.94-2.06-.94L8.5 2.5l-.94 2.06-2.06.94zm10 10l.94 2.06.94-2.06 2.06-.94-2.06-.94-.94-2.06-.94 2.06-2.06.94z\"/><path d=\"M17.41 7.96l-1.37-1.37c-.4-.4-.92-.59-1.43-.59-.52 0-1.04.2-1.43.59L10.3 9.45l-7.72 7.72c-.78.78-.78 2.05 0 2.83L4 21.41c.39.39.9.59 1.41.59.51 0 1.02-.2 1.41-.59l7.78-7.78 2.81-2.81c.8-.78.8-2.07 0-2.86zM5.41 20L4 18.59l7.72-7.72 1.47 1.35L5.41 20z\"/>\n",
              "  </svg>\n",
              "      </button>\n",
              "      \n",
              "  <style>\n",
              "    .colab-df-container {\n",
              "      display:flex;\n",
              "      flex-wrap:wrap;\n",
              "      gap: 12px;\n",
              "    }\n",
              "\n",
              "    .colab-df-convert {\n",
              "      background-color: #E8F0FE;\n",
              "      border: none;\n",
              "      border-radius: 50%;\n",
              "      cursor: pointer;\n",
              "      display: none;\n",
              "      fill: #1967D2;\n",
              "      height: 32px;\n",
              "      padding: 0 0 0 0;\n",
              "      width: 32px;\n",
              "    }\n",
              "\n",
              "    .colab-df-convert:hover {\n",
              "      background-color: #E2EBFA;\n",
              "      box-shadow: 0px 1px 2px rgba(60, 64, 67, 0.3), 0px 1px 3px 1px rgba(60, 64, 67, 0.15);\n",
              "      fill: #174EA6;\n",
              "    }\n",
              "\n",
              "    [theme=dark] .colab-df-convert {\n",
              "      background-color: #3B4455;\n",
              "      fill: #D2E3FC;\n",
              "    }\n",
              "\n",
              "    [theme=dark] .colab-df-convert:hover {\n",
              "      background-color: #434B5C;\n",
              "      box-shadow: 0px 1px 3px 1px rgba(0, 0, 0, 0.15);\n",
              "      filter: drop-shadow(0px 1px 2px rgba(0, 0, 0, 0.3));\n",
              "      fill: #FFFFFF;\n",
              "    }\n",
              "  </style>\n",
              "\n",
              "      <script>\n",
              "        const buttonEl =\n",
              "          document.querySelector('#df-21c7de4b-ee05-4b9c-a95b-48b3d3b7129e button.colab-df-convert');\n",
              "        buttonEl.style.display =\n",
              "          google.colab.kernel.accessAllowed ? 'block' : 'none';\n",
              "\n",
              "        async function convertToInteractive(key) {\n",
              "          const element = document.querySelector('#df-21c7de4b-ee05-4b9c-a95b-48b3d3b7129e');\n",
              "          const dataTable =\n",
              "            await google.colab.kernel.invokeFunction('convertToInteractive',\n",
              "                                                     [key], {});\n",
              "          if (!dataTable) return;\n",
              "\n",
              "          const docLinkHtml = 'Like what you see? Visit the ' +\n",
              "            '<a target=\"_blank\" href=https://colab.research.google.com/notebooks/data_table.ipynb>data table notebook</a>'\n",
              "            + ' to learn more about interactive tables.';\n",
              "          element.innerHTML = '';\n",
              "          dataTable['output_type'] = 'display_data';\n",
              "          await google.colab.output.renderOutput(dataTable, element);\n",
              "          const docLink = document.createElement('div');\n",
              "          docLink.innerHTML = docLinkHtml;\n",
              "          element.appendChild(docLink);\n",
              "        }\n",
              "      </script>\n",
              "    </div>\n",
              "  </div>\n",
              "  "
            ]
          },
          "metadata": {},
          "execution_count": 32
        }
      ],
      "source": [
        "user.sample(3)"
      ]
    },
    {
      "cell_type": "code",
      "execution_count": 33,
      "metadata": {
        "colab": {
          "base_uri": "https://localhost:8080/",
          "height": 143
        },
        "id": "_6suUq7dx7jN",
        "outputId": "eb5aa56e-3ae1-4415-83c7-eead26c15f43"
      },
      "outputs": [
        {
          "output_type": "execute_result",
          "data": {
            "text/plain": [
              "                user_id  count group                  ab_test\n",
              "10712  5CCE6B196E1FF70C      1     B  recommender_system_test\n",
              "5019   B1EC1816EEDF7C5C      1     A  recommender_system_test\n",
              "12663  3EDE089E63723E21      1     B  recommender_system_test"
            ],
            "text/html": [
              "\n",
              "  <div id=\"df-fdf3f4b9-e13e-4b3d-b634-f15290839176\">\n",
              "    <div class=\"colab-df-container\">\n",
              "      <div>\n",
              "<style scoped>\n",
              "    .dataframe tbody tr th:only-of-type {\n",
              "        vertical-align: middle;\n",
              "    }\n",
              "\n",
              "    .dataframe tbody tr th {\n",
              "        vertical-align: top;\n",
              "    }\n",
              "\n",
              "    .dataframe thead th {\n",
              "        text-align: right;\n",
              "    }\n",
              "</style>\n",
              "<table border=\"1\" class=\"dataframe\">\n",
              "  <thead>\n",
              "    <tr style=\"text-align: right;\">\n",
              "      <th></th>\n",
              "      <th>user_id</th>\n",
              "      <th>count</th>\n",
              "      <th>group</th>\n",
              "      <th>ab_test</th>\n",
              "    </tr>\n",
              "  </thead>\n",
              "  <tbody>\n",
              "    <tr>\n",
              "      <th>10712</th>\n",
              "      <td>5CCE6B196E1FF70C</td>\n",
              "      <td>1</td>\n",
              "      <td>B</td>\n",
              "      <td>recommender_system_test</td>\n",
              "    </tr>\n",
              "    <tr>\n",
              "      <th>5019</th>\n",
              "      <td>B1EC1816EEDF7C5C</td>\n",
              "      <td>1</td>\n",
              "      <td>A</td>\n",
              "      <td>recommender_system_test</td>\n",
              "    </tr>\n",
              "    <tr>\n",
              "      <th>12663</th>\n",
              "      <td>3EDE089E63723E21</td>\n",
              "      <td>1</td>\n",
              "      <td>B</td>\n",
              "      <td>recommender_system_test</td>\n",
              "    </tr>\n",
              "  </tbody>\n",
              "</table>\n",
              "</div>\n",
              "      <button class=\"colab-df-convert\" onclick=\"convertToInteractive('df-fdf3f4b9-e13e-4b3d-b634-f15290839176')\"\n",
              "              title=\"Convert this dataframe to an interactive table.\"\n",
              "              style=\"display:none;\">\n",
              "        \n",
              "  <svg xmlns=\"http://www.w3.org/2000/svg\" height=\"24px\"viewBox=\"0 0 24 24\"\n",
              "       width=\"24px\">\n",
              "    <path d=\"M0 0h24v24H0V0z\" fill=\"none\"/>\n",
              "    <path d=\"M18.56 5.44l.94 2.06.94-2.06 2.06-.94-2.06-.94-.94-2.06-.94 2.06-2.06.94zm-11 1L8.5 8.5l.94-2.06 2.06-.94-2.06-.94L8.5 2.5l-.94 2.06-2.06.94zm10 10l.94 2.06.94-2.06 2.06-.94-2.06-.94-.94-2.06-.94 2.06-2.06.94z\"/><path d=\"M17.41 7.96l-1.37-1.37c-.4-.4-.92-.59-1.43-.59-.52 0-1.04.2-1.43.59L10.3 9.45l-7.72 7.72c-.78.78-.78 2.05 0 2.83L4 21.41c.39.39.9.59 1.41.59.51 0 1.02-.2 1.41-.59l7.78-7.78 2.81-2.81c.8-.78.8-2.07 0-2.86zM5.41 20L4 18.59l7.72-7.72 1.47 1.35L5.41 20z\"/>\n",
              "  </svg>\n",
              "      </button>\n",
              "      \n",
              "  <style>\n",
              "    .colab-df-container {\n",
              "      display:flex;\n",
              "      flex-wrap:wrap;\n",
              "      gap: 12px;\n",
              "    }\n",
              "\n",
              "    .colab-df-convert {\n",
              "      background-color: #E8F0FE;\n",
              "      border: none;\n",
              "      border-radius: 50%;\n",
              "      cursor: pointer;\n",
              "      display: none;\n",
              "      fill: #1967D2;\n",
              "      height: 32px;\n",
              "      padding: 0 0 0 0;\n",
              "      width: 32px;\n",
              "    }\n",
              "\n",
              "    .colab-df-convert:hover {\n",
              "      background-color: #E2EBFA;\n",
              "      box-shadow: 0px 1px 2px rgba(60, 64, 67, 0.3), 0px 1px 3px 1px rgba(60, 64, 67, 0.15);\n",
              "      fill: #174EA6;\n",
              "    }\n",
              "\n",
              "    [theme=dark] .colab-df-convert {\n",
              "      background-color: #3B4455;\n",
              "      fill: #D2E3FC;\n",
              "    }\n",
              "\n",
              "    [theme=dark] .colab-df-convert:hover {\n",
              "      background-color: #434B5C;\n",
              "      box-shadow: 0px 1px 3px 1px rgba(0, 0, 0, 0.15);\n",
              "      filter: drop-shadow(0px 1px 2px rgba(0, 0, 0, 0.3));\n",
              "      fill: #FFFFFF;\n",
              "    }\n",
              "  </style>\n",
              "\n",
              "      <script>\n",
              "        const buttonEl =\n",
              "          document.querySelector('#df-fdf3f4b9-e13e-4b3d-b634-f15290839176 button.colab-df-convert');\n",
              "        buttonEl.style.display =\n",
              "          google.colab.kernel.accessAllowed ? 'block' : 'none';\n",
              "\n",
              "        async function convertToInteractive(key) {\n",
              "          const element = document.querySelector('#df-fdf3f4b9-e13e-4b3d-b634-f15290839176');\n",
              "          const dataTable =\n",
              "            await google.colab.kernel.invokeFunction('convertToInteractive',\n",
              "                                                     [key], {});\n",
              "          if (!dataTable) return;\n",
              "\n",
              "          const docLinkHtml = 'Like what you see? Visit the ' +\n",
              "            '<a target=\"_blank\" href=https://colab.research.google.com/notebooks/data_table.ipynb>data table notebook</a>'\n",
              "            + ' to learn more about interactive tables.';\n",
              "          element.innerHTML = '';\n",
              "          dataTable['output_type'] = 'display_data';\n",
              "          await google.colab.output.renderOutput(dataTable, element);\n",
              "          const docLink = document.createElement('div');\n",
              "          docLink.innerHTML = docLinkHtml;\n",
              "          element.appendChild(docLink);\n",
              "        }\n",
              "      </script>\n",
              "    </div>\n",
              "  </div>\n",
              "  "
            ]
          },
          "metadata": {},
          "execution_count": 33
        }
      ],
      "source": [
        "member.sample(3)"
      ]
    },
    {
      "cell_type": "code",
      "execution_count": 34,
      "metadata": {
        "colab": {
          "base_uri": "https://localhost:8080/",
          "height": 143
        },
        "id": "-WjqhkxNx7mu",
        "outputId": "7cdec09b-db5f-4ad6-95dc-6fd60a7fc2f4"
      },
      "outputs": [
        {
          "output_type": "execute_result",
          "data": {
            "text/plain": [
              "               user_id  count group                  ab_test first_date  \\\n",
              "2848  86EB8C24EDE6B57B      1     A  recommender_system_test 2020-12-21   \n",
              "3585  6621001405205292      1     A  recommender_system_test 2020-12-13   \n",
              "5380  172F0C1F993BE914      1     B  recommender_system_test 2020-12-07   \n",
              "\n",
              "     region   device  \n",
              "2848     EU       PC  \n",
              "3585     EU  Android  \n",
              "5380     EU   iPhone  "
            ],
            "text/html": [
              "\n",
              "  <div id=\"df-db6273ac-601c-4a1d-877c-dd5c14cd7567\">\n",
              "    <div class=\"colab-df-container\">\n",
              "      <div>\n",
              "<style scoped>\n",
              "    .dataframe tbody tr th:only-of-type {\n",
              "        vertical-align: middle;\n",
              "    }\n",
              "\n",
              "    .dataframe tbody tr th {\n",
              "        vertical-align: top;\n",
              "    }\n",
              "\n",
              "    .dataframe thead th {\n",
              "        text-align: right;\n",
              "    }\n",
              "</style>\n",
              "<table border=\"1\" class=\"dataframe\">\n",
              "  <thead>\n",
              "    <tr style=\"text-align: right;\">\n",
              "      <th></th>\n",
              "      <th>user_id</th>\n",
              "      <th>count</th>\n",
              "      <th>group</th>\n",
              "      <th>ab_test</th>\n",
              "      <th>first_date</th>\n",
              "      <th>region</th>\n",
              "      <th>device</th>\n",
              "    </tr>\n",
              "  </thead>\n",
              "  <tbody>\n",
              "    <tr>\n",
              "      <th>2848</th>\n",
              "      <td>86EB8C24EDE6B57B</td>\n",
              "      <td>1</td>\n",
              "      <td>A</td>\n",
              "      <td>recommender_system_test</td>\n",
              "      <td>2020-12-21</td>\n",
              "      <td>EU</td>\n",
              "      <td>PC</td>\n",
              "    </tr>\n",
              "    <tr>\n",
              "      <th>3585</th>\n",
              "      <td>6621001405205292</td>\n",
              "      <td>1</td>\n",
              "      <td>A</td>\n",
              "      <td>recommender_system_test</td>\n",
              "      <td>2020-12-13</td>\n",
              "      <td>EU</td>\n",
              "      <td>Android</td>\n",
              "    </tr>\n",
              "    <tr>\n",
              "      <th>5380</th>\n",
              "      <td>172F0C1F993BE914</td>\n",
              "      <td>1</td>\n",
              "      <td>B</td>\n",
              "      <td>recommender_system_test</td>\n",
              "      <td>2020-12-07</td>\n",
              "      <td>EU</td>\n",
              "      <td>iPhone</td>\n",
              "    </tr>\n",
              "  </tbody>\n",
              "</table>\n",
              "</div>\n",
              "      <button class=\"colab-df-convert\" onclick=\"convertToInteractive('df-db6273ac-601c-4a1d-877c-dd5c14cd7567')\"\n",
              "              title=\"Convert this dataframe to an interactive table.\"\n",
              "              style=\"display:none;\">\n",
              "        \n",
              "  <svg xmlns=\"http://www.w3.org/2000/svg\" height=\"24px\"viewBox=\"0 0 24 24\"\n",
              "       width=\"24px\">\n",
              "    <path d=\"M0 0h24v24H0V0z\" fill=\"none\"/>\n",
              "    <path d=\"M18.56 5.44l.94 2.06.94-2.06 2.06-.94-2.06-.94-.94-2.06-.94 2.06-2.06.94zm-11 1L8.5 8.5l.94-2.06 2.06-.94-2.06-.94L8.5 2.5l-.94 2.06-2.06.94zm10 10l.94 2.06.94-2.06 2.06-.94-2.06-.94-.94-2.06-.94 2.06-2.06.94z\"/><path d=\"M17.41 7.96l-1.37-1.37c-.4-.4-.92-.59-1.43-.59-.52 0-1.04.2-1.43.59L10.3 9.45l-7.72 7.72c-.78.78-.78 2.05 0 2.83L4 21.41c.39.39.9.59 1.41.59.51 0 1.02-.2 1.41-.59l7.78-7.78 2.81-2.81c.8-.78.8-2.07 0-2.86zM5.41 20L4 18.59l7.72-7.72 1.47 1.35L5.41 20z\"/>\n",
              "  </svg>\n",
              "      </button>\n",
              "      \n",
              "  <style>\n",
              "    .colab-df-container {\n",
              "      display:flex;\n",
              "      flex-wrap:wrap;\n",
              "      gap: 12px;\n",
              "    }\n",
              "\n",
              "    .colab-df-convert {\n",
              "      background-color: #E8F0FE;\n",
              "      border: none;\n",
              "      border-radius: 50%;\n",
              "      cursor: pointer;\n",
              "      display: none;\n",
              "      fill: #1967D2;\n",
              "      height: 32px;\n",
              "      padding: 0 0 0 0;\n",
              "      width: 32px;\n",
              "    }\n",
              "\n",
              "    .colab-df-convert:hover {\n",
              "      background-color: #E2EBFA;\n",
              "      box-shadow: 0px 1px 2px rgba(60, 64, 67, 0.3), 0px 1px 3px 1px rgba(60, 64, 67, 0.15);\n",
              "      fill: #174EA6;\n",
              "    }\n",
              "\n",
              "    [theme=dark] .colab-df-convert {\n",
              "      background-color: #3B4455;\n",
              "      fill: #D2E3FC;\n",
              "    }\n",
              "\n",
              "    [theme=dark] .colab-df-convert:hover {\n",
              "      background-color: #434B5C;\n",
              "      box-shadow: 0px 1px 3px 1px rgba(0, 0, 0, 0.15);\n",
              "      filter: drop-shadow(0px 1px 2px rgba(0, 0, 0, 0.3));\n",
              "      fill: #FFFFFF;\n",
              "    }\n",
              "  </style>\n",
              "\n",
              "      <script>\n",
              "        const buttonEl =\n",
              "          document.querySelector('#df-db6273ac-601c-4a1d-877c-dd5c14cd7567 button.colab-df-convert');\n",
              "        buttonEl.style.display =\n",
              "          google.colab.kernel.accessAllowed ? 'block' : 'none';\n",
              "\n",
              "        async function convertToInteractive(key) {\n",
              "          const element = document.querySelector('#df-db6273ac-601c-4a1d-877c-dd5c14cd7567');\n",
              "          const dataTable =\n",
              "            await google.colab.kernel.invokeFunction('convertToInteractive',\n",
              "                                                     [key], {});\n",
              "          if (!dataTable) return;\n",
              "\n",
              "          const docLinkHtml = 'Like what you see? Visit the ' +\n",
              "            '<a target=\"_blank\" href=https://colab.research.google.com/notebooks/data_table.ipynb>data table notebook</a>'\n",
              "            + ' to learn more about interactive tables.';\n",
              "          element.innerHTML = '';\n",
              "          dataTable['output_type'] = 'display_data';\n",
              "          await google.colab.output.renderOutput(dataTable, element);\n",
              "          const docLink = document.createElement('div');\n",
              "          docLink.innerHTML = docLinkHtml;\n",
              "          element.appendChild(docLink);\n",
              "        }\n",
              "      </script>\n",
              "    </div>\n",
              "  </div>\n",
              "  "
            ]
          },
          "metadata": {},
          "execution_count": 34
        }
      ],
      "source": [
        "t = member[member['ab_test'] == 'recommender_system_test'].merge(user, on= 'user_id', how = 'left')\n",
        "t.sample(3)"
      ]
    },
    {
      "cell_type": "code",
      "execution_count": 35,
      "metadata": {
        "colab": {
          "base_uri": "https://localhost:8080/",
          "height": 175
        },
        "id": "pv75pJH5ynep",
        "outputId": "a0f2a47b-1573-4900-c1a4-5fe42ef83c1f"
      },
      "outputs": [
        {
          "output_type": "execute_result",
          "data": {
            "text/plain": [
              "      region  user_id\n",
              "0       APAC       72\n",
              "1        CIS       55\n",
              "2         EU     5575\n",
              "3  N.America      223"
            ],
            "text/html": [
              "\n",
              "  <div id=\"df-b09ec509-da95-49ec-900b-6a7f220dfe5d\">\n",
              "    <div class=\"colab-df-container\">\n",
              "      <div>\n",
              "<style scoped>\n",
              "    .dataframe tbody tr th:only-of-type {\n",
              "        vertical-align: middle;\n",
              "    }\n",
              "\n",
              "    .dataframe tbody tr th {\n",
              "        vertical-align: top;\n",
              "    }\n",
              "\n",
              "    .dataframe thead th {\n",
              "        text-align: right;\n",
              "    }\n",
              "</style>\n",
              "<table border=\"1\" class=\"dataframe\">\n",
              "  <thead>\n",
              "    <tr style=\"text-align: right;\">\n",
              "      <th></th>\n",
              "      <th>region</th>\n",
              "      <th>user_id</th>\n",
              "    </tr>\n",
              "  </thead>\n",
              "  <tbody>\n",
              "    <tr>\n",
              "      <th>0</th>\n",
              "      <td>APAC</td>\n",
              "      <td>72</td>\n",
              "    </tr>\n",
              "    <tr>\n",
              "      <th>1</th>\n",
              "      <td>CIS</td>\n",
              "      <td>55</td>\n",
              "    </tr>\n",
              "    <tr>\n",
              "      <th>2</th>\n",
              "      <td>EU</td>\n",
              "      <td>5575</td>\n",
              "    </tr>\n",
              "    <tr>\n",
              "      <th>3</th>\n",
              "      <td>N.America</td>\n",
              "      <td>223</td>\n",
              "    </tr>\n",
              "  </tbody>\n",
              "</table>\n",
              "</div>\n",
              "      <button class=\"colab-df-convert\" onclick=\"convertToInteractive('df-b09ec509-da95-49ec-900b-6a7f220dfe5d')\"\n",
              "              title=\"Convert this dataframe to an interactive table.\"\n",
              "              style=\"display:none;\">\n",
              "        \n",
              "  <svg xmlns=\"http://www.w3.org/2000/svg\" height=\"24px\"viewBox=\"0 0 24 24\"\n",
              "       width=\"24px\">\n",
              "    <path d=\"M0 0h24v24H0V0z\" fill=\"none\"/>\n",
              "    <path d=\"M18.56 5.44l.94 2.06.94-2.06 2.06-.94-2.06-.94-.94-2.06-.94 2.06-2.06.94zm-11 1L8.5 8.5l.94-2.06 2.06-.94-2.06-.94L8.5 2.5l-.94 2.06-2.06.94zm10 10l.94 2.06.94-2.06 2.06-.94-2.06-.94-.94-2.06-.94 2.06-2.06.94z\"/><path d=\"M17.41 7.96l-1.37-1.37c-.4-.4-.92-.59-1.43-.59-.52 0-1.04.2-1.43.59L10.3 9.45l-7.72 7.72c-.78.78-.78 2.05 0 2.83L4 21.41c.39.39.9.59 1.41.59.51 0 1.02-.2 1.41-.59l7.78-7.78 2.81-2.81c.8-.78.8-2.07 0-2.86zM5.41 20L4 18.59l7.72-7.72 1.47 1.35L5.41 20z\"/>\n",
              "  </svg>\n",
              "      </button>\n",
              "      \n",
              "  <style>\n",
              "    .colab-df-container {\n",
              "      display:flex;\n",
              "      flex-wrap:wrap;\n",
              "      gap: 12px;\n",
              "    }\n",
              "\n",
              "    .colab-df-convert {\n",
              "      background-color: #E8F0FE;\n",
              "      border: none;\n",
              "      border-radius: 50%;\n",
              "      cursor: pointer;\n",
              "      display: none;\n",
              "      fill: #1967D2;\n",
              "      height: 32px;\n",
              "      padding: 0 0 0 0;\n",
              "      width: 32px;\n",
              "    }\n",
              "\n",
              "    .colab-df-convert:hover {\n",
              "      background-color: #E2EBFA;\n",
              "      box-shadow: 0px 1px 2px rgba(60, 64, 67, 0.3), 0px 1px 3px 1px rgba(60, 64, 67, 0.15);\n",
              "      fill: #174EA6;\n",
              "    }\n",
              "\n",
              "    [theme=dark] .colab-df-convert {\n",
              "      background-color: #3B4455;\n",
              "      fill: #D2E3FC;\n",
              "    }\n",
              "\n",
              "    [theme=dark] .colab-df-convert:hover {\n",
              "      background-color: #434B5C;\n",
              "      box-shadow: 0px 1px 3px 1px rgba(0, 0, 0, 0.15);\n",
              "      filter: drop-shadow(0px 1px 2px rgba(0, 0, 0, 0.3));\n",
              "      fill: #FFFFFF;\n",
              "    }\n",
              "  </style>\n",
              "\n",
              "      <script>\n",
              "        const buttonEl =\n",
              "          document.querySelector('#df-b09ec509-da95-49ec-900b-6a7f220dfe5d button.colab-df-convert');\n",
              "        buttonEl.style.display =\n",
              "          google.colab.kernel.accessAllowed ? 'block' : 'none';\n",
              "\n",
              "        async function convertToInteractive(key) {\n",
              "          const element = document.querySelector('#df-b09ec509-da95-49ec-900b-6a7f220dfe5d');\n",
              "          const dataTable =\n",
              "            await google.colab.kernel.invokeFunction('convertToInteractive',\n",
              "                                                     [key], {});\n",
              "          if (!dataTable) return;\n",
              "\n",
              "          const docLinkHtml = 'Like what you see? Visit the ' +\n",
              "            '<a target=\"_blank\" href=https://colab.research.google.com/notebooks/data_table.ipynb>data table notebook</a>'\n",
              "            + ' to learn more about interactive tables.';\n",
              "          element.innerHTML = '';\n",
              "          dataTable['output_type'] = 'display_data';\n",
              "          await google.colab.output.renderOutput(dataTable, element);\n",
              "          const docLink = document.createElement('div');\n",
              "          docLink.innerHTML = docLinkHtml;\n",
              "          element.appendChild(docLink);\n",
              "        }\n",
              "      </script>\n",
              "    </div>\n",
              "  </div>\n",
              "  "
            ]
          },
          "metadata": {},
          "execution_count": 35
        }
      ],
      "source": [
        "t1 = t.groupby('region')['user_id'].count().reset_index()\n",
        "t1"
      ]
    },
    {
      "cell_type": "code",
      "execution_count": 36,
      "metadata": {
        "colab": {
          "base_uri": "https://localhost:8080/",
          "height": 175
        },
        "id": "Pvzy0vlAy741",
        "outputId": "ddaa2c7b-692d-4abc-d60f-99a6cd6baf27"
      },
      "outputs": [
        {
          "output_type": "execute_result",
          "data": {
            "text/plain": [
              "      region  user_id\n",
              "0       APAC     3153\n",
              "1        CIS     3155\n",
              "2         EU    46270\n",
              "3  N.America     9155"
            ],
            "text/html": [
              "\n",
              "  <div id=\"df-dc535de5-4cbd-4ee2-852a-b37783b6001b\">\n",
              "    <div class=\"colab-df-container\">\n",
              "      <div>\n",
              "<style scoped>\n",
              "    .dataframe tbody tr th:only-of-type {\n",
              "        vertical-align: middle;\n",
              "    }\n",
              "\n",
              "    .dataframe tbody tr th {\n",
              "        vertical-align: top;\n",
              "    }\n",
              "\n",
              "    .dataframe thead th {\n",
              "        text-align: right;\n",
              "    }\n",
              "</style>\n",
              "<table border=\"1\" class=\"dataframe\">\n",
              "  <thead>\n",
              "    <tr style=\"text-align: right;\">\n",
              "      <th></th>\n",
              "      <th>region</th>\n",
              "      <th>user_id</th>\n",
              "    </tr>\n",
              "  </thead>\n",
              "  <tbody>\n",
              "    <tr>\n",
              "      <th>0</th>\n",
              "      <td>APAC</td>\n",
              "      <td>3153</td>\n",
              "    </tr>\n",
              "    <tr>\n",
              "      <th>1</th>\n",
              "      <td>CIS</td>\n",
              "      <td>3155</td>\n",
              "    </tr>\n",
              "    <tr>\n",
              "      <th>2</th>\n",
              "      <td>EU</td>\n",
              "      <td>46270</td>\n",
              "    </tr>\n",
              "    <tr>\n",
              "      <th>3</th>\n",
              "      <td>N.America</td>\n",
              "      <td>9155</td>\n",
              "    </tr>\n",
              "  </tbody>\n",
              "</table>\n",
              "</div>\n",
              "      <button class=\"colab-df-convert\" onclick=\"convertToInteractive('df-dc535de5-4cbd-4ee2-852a-b37783b6001b')\"\n",
              "              title=\"Convert this dataframe to an interactive table.\"\n",
              "              style=\"display:none;\">\n",
              "        \n",
              "  <svg xmlns=\"http://www.w3.org/2000/svg\" height=\"24px\"viewBox=\"0 0 24 24\"\n",
              "       width=\"24px\">\n",
              "    <path d=\"M0 0h24v24H0V0z\" fill=\"none\"/>\n",
              "    <path d=\"M18.56 5.44l.94 2.06.94-2.06 2.06-.94-2.06-.94-.94-2.06-.94 2.06-2.06.94zm-11 1L8.5 8.5l.94-2.06 2.06-.94-2.06-.94L8.5 2.5l-.94 2.06-2.06.94zm10 10l.94 2.06.94-2.06 2.06-.94-2.06-.94-.94-2.06-.94 2.06-2.06.94z\"/><path d=\"M17.41 7.96l-1.37-1.37c-.4-.4-.92-.59-1.43-.59-.52 0-1.04.2-1.43.59L10.3 9.45l-7.72 7.72c-.78.78-.78 2.05 0 2.83L4 21.41c.39.39.9.59 1.41.59.51 0 1.02-.2 1.41-.59l7.78-7.78 2.81-2.81c.8-.78.8-2.07 0-2.86zM5.41 20L4 18.59l7.72-7.72 1.47 1.35L5.41 20z\"/>\n",
              "  </svg>\n",
              "      </button>\n",
              "      \n",
              "  <style>\n",
              "    .colab-df-container {\n",
              "      display:flex;\n",
              "      flex-wrap:wrap;\n",
              "      gap: 12px;\n",
              "    }\n",
              "\n",
              "    .colab-df-convert {\n",
              "      background-color: #E8F0FE;\n",
              "      border: none;\n",
              "      border-radius: 50%;\n",
              "      cursor: pointer;\n",
              "      display: none;\n",
              "      fill: #1967D2;\n",
              "      height: 32px;\n",
              "      padding: 0 0 0 0;\n",
              "      width: 32px;\n",
              "    }\n",
              "\n",
              "    .colab-df-convert:hover {\n",
              "      background-color: #E2EBFA;\n",
              "      box-shadow: 0px 1px 2px rgba(60, 64, 67, 0.3), 0px 1px 3px 1px rgba(60, 64, 67, 0.15);\n",
              "      fill: #174EA6;\n",
              "    }\n",
              "\n",
              "    [theme=dark] .colab-df-convert {\n",
              "      background-color: #3B4455;\n",
              "      fill: #D2E3FC;\n",
              "    }\n",
              "\n",
              "    [theme=dark] .colab-df-convert:hover {\n",
              "      background-color: #434B5C;\n",
              "      box-shadow: 0px 1px 3px 1px rgba(0, 0, 0, 0.15);\n",
              "      filter: drop-shadow(0px 1px 2px rgba(0, 0, 0, 0.3));\n",
              "      fill: #FFFFFF;\n",
              "    }\n",
              "  </style>\n",
              "\n",
              "      <script>\n",
              "        const buttonEl =\n",
              "          document.querySelector('#df-dc535de5-4cbd-4ee2-852a-b37783b6001b button.colab-df-convert');\n",
              "        buttonEl.style.display =\n",
              "          google.colab.kernel.accessAllowed ? 'block' : 'none';\n",
              "\n",
              "        async function convertToInteractive(key) {\n",
              "          const element = document.querySelector('#df-dc535de5-4cbd-4ee2-852a-b37783b6001b');\n",
              "          const dataTable =\n",
              "            await google.colab.kernel.invokeFunction('convertToInteractive',\n",
              "                                                     [key], {});\n",
              "          if (!dataTable) return;\n",
              "\n",
              "          const docLinkHtml = 'Like what you see? Visit the ' +\n",
              "            '<a target=\"_blank\" href=https://colab.research.google.com/notebooks/data_table.ipynb>data table notebook</a>'\n",
              "            + ' to learn more about interactive tables.';\n",
              "          element.innerHTML = '';\n",
              "          dataTable['output_type'] = 'display_data';\n",
              "          await google.colab.output.renderOutput(dataTable, element);\n",
              "          const docLink = document.createElement('div');\n",
              "          docLink.innerHTML = docLinkHtml;\n",
              "          element.appendChild(docLink);\n",
              "        }\n",
              "      </script>\n",
              "    </div>\n",
              "  </div>\n",
              "  "
            ]
          },
          "metadata": {},
          "execution_count": 36
        }
      ],
      "source": [
        "t2 = user.groupby('region')['user_id'].count().reset_index()\n",
        "t2"
      ]
    },
    {
      "cell_type": "code",
      "execution_count": 37,
      "metadata": {
        "colab": {
          "base_uri": "https://localhost:8080/",
          "height": 175
        },
        "id": "VsW9Ryu6zbVi",
        "outputId": "6d9a75e0-5dab-4367-b53a-b744d357efd7"
      },
      "outputs": [
        {
          "output_type": "execute_result",
          "data": {
            "text/plain": [
              "      region  user_id_x  user_id_y   perc\n",
              "0       APAC         72       3153 0.0228\n",
              "1        CIS         55       3155 0.0174\n",
              "2         EU       5575      46270 0.1205\n",
              "3  N.America        223       9155 0.0244"
            ],
            "text/html": [
              "\n",
              "  <div id=\"df-5af82a6a-6055-425b-a654-f1513fb8e63f\">\n",
              "    <div class=\"colab-df-container\">\n",
              "      <div>\n",
              "<style scoped>\n",
              "    .dataframe tbody tr th:only-of-type {\n",
              "        vertical-align: middle;\n",
              "    }\n",
              "\n",
              "    .dataframe tbody tr th {\n",
              "        vertical-align: top;\n",
              "    }\n",
              "\n",
              "    .dataframe thead th {\n",
              "        text-align: right;\n",
              "    }\n",
              "</style>\n",
              "<table border=\"1\" class=\"dataframe\">\n",
              "  <thead>\n",
              "    <tr style=\"text-align: right;\">\n",
              "      <th></th>\n",
              "      <th>region</th>\n",
              "      <th>user_id_x</th>\n",
              "      <th>user_id_y</th>\n",
              "      <th>perc</th>\n",
              "    </tr>\n",
              "  </thead>\n",
              "  <tbody>\n",
              "    <tr>\n",
              "      <th>0</th>\n",
              "      <td>APAC</td>\n",
              "      <td>72</td>\n",
              "      <td>3153</td>\n",
              "      <td>0.0228</td>\n",
              "    </tr>\n",
              "    <tr>\n",
              "      <th>1</th>\n",
              "      <td>CIS</td>\n",
              "      <td>55</td>\n",
              "      <td>3155</td>\n",
              "      <td>0.0174</td>\n",
              "    </tr>\n",
              "    <tr>\n",
              "      <th>2</th>\n",
              "      <td>EU</td>\n",
              "      <td>5575</td>\n",
              "      <td>46270</td>\n",
              "      <td>0.1205</td>\n",
              "    </tr>\n",
              "    <tr>\n",
              "      <th>3</th>\n",
              "      <td>N.America</td>\n",
              "      <td>223</td>\n",
              "      <td>9155</td>\n",
              "      <td>0.0244</td>\n",
              "    </tr>\n",
              "  </tbody>\n",
              "</table>\n",
              "</div>\n",
              "      <button class=\"colab-df-convert\" onclick=\"convertToInteractive('df-5af82a6a-6055-425b-a654-f1513fb8e63f')\"\n",
              "              title=\"Convert this dataframe to an interactive table.\"\n",
              "              style=\"display:none;\">\n",
              "        \n",
              "  <svg xmlns=\"http://www.w3.org/2000/svg\" height=\"24px\"viewBox=\"0 0 24 24\"\n",
              "       width=\"24px\">\n",
              "    <path d=\"M0 0h24v24H0V0z\" fill=\"none\"/>\n",
              "    <path d=\"M18.56 5.44l.94 2.06.94-2.06 2.06-.94-2.06-.94-.94-2.06-.94 2.06-2.06.94zm-11 1L8.5 8.5l.94-2.06 2.06-.94-2.06-.94L8.5 2.5l-.94 2.06-2.06.94zm10 10l.94 2.06.94-2.06 2.06-.94-2.06-.94-.94-2.06-.94 2.06-2.06.94z\"/><path d=\"M17.41 7.96l-1.37-1.37c-.4-.4-.92-.59-1.43-.59-.52 0-1.04.2-1.43.59L10.3 9.45l-7.72 7.72c-.78.78-.78 2.05 0 2.83L4 21.41c.39.39.9.59 1.41.59.51 0 1.02-.2 1.41-.59l7.78-7.78 2.81-2.81c.8-.78.8-2.07 0-2.86zM5.41 20L4 18.59l7.72-7.72 1.47 1.35L5.41 20z\"/>\n",
              "  </svg>\n",
              "      </button>\n",
              "      \n",
              "  <style>\n",
              "    .colab-df-container {\n",
              "      display:flex;\n",
              "      flex-wrap:wrap;\n",
              "      gap: 12px;\n",
              "    }\n",
              "\n",
              "    .colab-df-convert {\n",
              "      background-color: #E8F0FE;\n",
              "      border: none;\n",
              "      border-radius: 50%;\n",
              "      cursor: pointer;\n",
              "      display: none;\n",
              "      fill: #1967D2;\n",
              "      height: 32px;\n",
              "      padding: 0 0 0 0;\n",
              "      width: 32px;\n",
              "    }\n",
              "\n",
              "    .colab-df-convert:hover {\n",
              "      background-color: #E2EBFA;\n",
              "      box-shadow: 0px 1px 2px rgba(60, 64, 67, 0.3), 0px 1px 3px 1px rgba(60, 64, 67, 0.15);\n",
              "      fill: #174EA6;\n",
              "    }\n",
              "\n",
              "    [theme=dark] .colab-df-convert {\n",
              "      background-color: #3B4455;\n",
              "      fill: #D2E3FC;\n",
              "    }\n",
              "\n",
              "    [theme=dark] .colab-df-convert:hover {\n",
              "      background-color: #434B5C;\n",
              "      box-shadow: 0px 1px 3px 1px rgba(0, 0, 0, 0.15);\n",
              "      filter: drop-shadow(0px 1px 2px rgba(0, 0, 0, 0.3));\n",
              "      fill: #FFFFFF;\n",
              "    }\n",
              "  </style>\n",
              "\n",
              "      <script>\n",
              "        const buttonEl =\n",
              "          document.querySelector('#df-5af82a6a-6055-425b-a654-f1513fb8e63f button.colab-df-convert');\n",
              "        buttonEl.style.display =\n",
              "          google.colab.kernel.accessAllowed ? 'block' : 'none';\n",
              "\n",
              "        async function convertToInteractive(key) {\n",
              "          const element = document.querySelector('#df-5af82a6a-6055-425b-a654-f1513fb8e63f');\n",
              "          const dataTable =\n",
              "            await google.colab.kernel.invokeFunction('convertToInteractive',\n",
              "                                                     [key], {});\n",
              "          if (!dataTable) return;\n",
              "\n",
              "          const docLinkHtml = 'Like what you see? Visit the ' +\n",
              "            '<a target=\"_blank\" href=https://colab.research.google.com/notebooks/data_table.ipynb>data table notebook</a>'\n",
              "            + ' to learn more about interactive tables.';\n",
              "          element.innerHTML = '';\n",
              "          dataTable['output_type'] = 'display_data';\n",
              "          await google.colab.output.renderOutput(dataTable, element);\n",
              "          const docLink = document.createElement('div');\n",
              "          docLink.innerHTML = docLinkHtml;\n",
              "          element.appendChild(docLink);\n",
              "        }\n",
              "      </script>\n",
              "    </div>\n",
              "  </div>\n",
              "  "
            ]
          },
          "metadata": {},
          "execution_count": 37
        }
      ],
      "source": [
        "u = t1.merge(t2,on='region')\n",
        "u['perc'] = t1['user_id']/t2['user_id']\n",
        "u"
      ]
    },
    {
      "cell_type": "markdown",
      "metadata": {
        "id": "k-_fULeUdHTo"
      },
      "source": [
        "Видно, что реальных пользователей-участников теста меньше 15%, тоесть ТЗ не выполняется."
      ]
    },
    {
      "cell_type": "markdown",
      "metadata": {
        "id": "7dPEfA0R0BJR"
      },
      "source": [
        "#### Ожидаемое количество участников теста: 6000"
      ]
    },
    {
      "cell_type": "code",
      "execution_count": 38,
      "metadata": {
        "colab": {
          "base_uri": "https://localhost:8080/"
        },
        "id": "Wuna7XvI0ASV",
        "outputId": "d6fbde3b-3642-442d-8416-45f9f8fec5eb"
      },
      "outputs": [
        {
          "output_type": "execute_result",
          "data": {
            "text/plain": [
              "5925"
            ]
          },
          "metadata": {},
          "execution_count": 38
        }
      ],
      "source": [
        "t1['user_id'].sum()"
      ]
    },
    {
      "cell_type": "markdown",
      "metadata": {
        "id": "ZUS3LshQdHTq"
      },
      "source": [
        "И тут опять не соответствует ТЗ."
      ]
    },
    {
      "cell_type": "markdown",
      "metadata": {
        "id": "PEYHTpvjodRA"
      },
      "source": [
        "### Время проведения теста. Проверка, что оно не совпадает с маркетинговыми и другими активностями."
      ]
    },
    {
      "cell_type": "code",
      "execution_count": 39,
      "metadata": {
        "colab": {
          "base_uri": "https://localhost:8080/",
          "height": 488
        },
        "id": "pZDmPtGr0bMk",
        "outputId": "61749087-1fe5-48f9-9c12-170f8c7d533f",
        "scrolled": true
      },
      "outputs": [
        {
          "output_type": "execute_result",
          "data": {
            "text/plain": [
              "                                name                   regions   start_dt  \\\n",
              "6             Chinese New Year Promo                      APAC 2020-01-25   \n",
              "1       St. Valentine's Day Giveaway  EU, CIS, APAC, N.America 2020-02-14   \n",
              "8    International Women's Day Promo             EU, CIS, APAC 2020-03-08   \n",
              "2             St. Patric's Day Promo             EU, N.America 2020-03-17   \n",
              "3                       Easter Promo  EU, CIS, APAC, N.America 2020-04-12   \n",
              "7   Labor day (May 1st) Ads Campaign             EU, CIS, APAC 2020-05-01   \n",
              "9    Victory Day CIS (May 9th) Event                       CIS 2020-05-09   \n",
              "11     Dragon Boat Festival Giveaway                      APAC 2020-06-25   \n",
              "4                  4th of July Promo                 N.America 2020-07-04   \n",
              "13             Chinese Moon Festival                      APAC 2020-10-01   \n",
              "12           Single's Day Gift Promo                      APAC 2020-11-11   \n",
              "5          Black Friday Ads Campaign  EU, CIS, APAC, N.America 2020-11-26   \n",
              "0           Christmas&New Year Promo             EU, N.America 2020-12-25   \n",
              "10         CIS New Year Gift Lottery                       CIS 2020-12-30   \n",
              "\n",
              "    finish_dt  \n",
              "6  2020-02-07  \n",
              "1  2020-02-16  \n",
              "8  2020-03-10  \n",
              "2  2020-03-19  \n",
              "3  2020-04-19  \n",
              "7  2020-05-03  \n",
              "9  2020-05-11  \n",
              "11 2020-07-01  \n",
              "4  2020-07-11  \n",
              "13 2020-10-07  \n",
              "12 2020-11-12  \n",
              "5  2020-12-01  \n",
              "0  2021-01-03  \n",
              "10 2021-01-07  "
            ],
            "text/html": [
              "\n",
              "  <div id=\"df-b9fdf935-0aaf-4368-b31b-0170a6b76ef5\">\n",
              "    <div class=\"colab-df-container\">\n",
              "      <div>\n",
              "<style scoped>\n",
              "    .dataframe tbody tr th:only-of-type {\n",
              "        vertical-align: middle;\n",
              "    }\n",
              "\n",
              "    .dataframe tbody tr th {\n",
              "        vertical-align: top;\n",
              "    }\n",
              "\n",
              "    .dataframe thead th {\n",
              "        text-align: right;\n",
              "    }\n",
              "</style>\n",
              "<table border=\"1\" class=\"dataframe\">\n",
              "  <thead>\n",
              "    <tr style=\"text-align: right;\">\n",
              "      <th></th>\n",
              "      <th>name</th>\n",
              "      <th>regions</th>\n",
              "      <th>start_dt</th>\n",
              "      <th>finish_dt</th>\n",
              "    </tr>\n",
              "  </thead>\n",
              "  <tbody>\n",
              "    <tr>\n",
              "      <th>6</th>\n",
              "      <td>Chinese New Year Promo</td>\n",
              "      <td>APAC</td>\n",
              "      <td>2020-01-25</td>\n",
              "      <td>2020-02-07</td>\n",
              "    </tr>\n",
              "    <tr>\n",
              "      <th>1</th>\n",
              "      <td>St. Valentine's Day Giveaway</td>\n",
              "      <td>EU, CIS, APAC, N.America</td>\n",
              "      <td>2020-02-14</td>\n",
              "      <td>2020-02-16</td>\n",
              "    </tr>\n",
              "    <tr>\n",
              "      <th>8</th>\n",
              "      <td>International Women's Day Promo</td>\n",
              "      <td>EU, CIS, APAC</td>\n",
              "      <td>2020-03-08</td>\n",
              "      <td>2020-03-10</td>\n",
              "    </tr>\n",
              "    <tr>\n",
              "      <th>2</th>\n",
              "      <td>St. Patric's Day Promo</td>\n",
              "      <td>EU, N.America</td>\n",
              "      <td>2020-03-17</td>\n",
              "      <td>2020-03-19</td>\n",
              "    </tr>\n",
              "    <tr>\n",
              "      <th>3</th>\n",
              "      <td>Easter Promo</td>\n",
              "      <td>EU, CIS, APAC, N.America</td>\n",
              "      <td>2020-04-12</td>\n",
              "      <td>2020-04-19</td>\n",
              "    </tr>\n",
              "    <tr>\n",
              "      <th>7</th>\n",
              "      <td>Labor day (May 1st) Ads Campaign</td>\n",
              "      <td>EU, CIS, APAC</td>\n",
              "      <td>2020-05-01</td>\n",
              "      <td>2020-05-03</td>\n",
              "    </tr>\n",
              "    <tr>\n",
              "      <th>9</th>\n",
              "      <td>Victory Day CIS (May 9th) Event</td>\n",
              "      <td>CIS</td>\n",
              "      <td>2020-05-09</td>\n",
              "      <td>2020-05-11</td>\n",
              "    </tr>\n",
              "    <tr>\n",
              "      <th>11</th>\n",
              "      <td>Dragon Boat Festival Giveaway</td>\n",
              "      <td>APAC</td>\n",
              "      <td>2020-06-25</td>\n",
              "      <td>2020-07-01</td>\n",
              "    </tr>\n",
              "    <tr>\n",
              "      <th>4</th>\n",
              "      <td>4th of July Promo</td>\n",
              "      <td>N.America</td>\n",
              "      <td>2020-07-04</td>\n",
              "      <td>2020-07-11</td>\n",
              "    </tr>\n",
              "    <tr>\n",
              "      <th>13</th>\n",
              "      <td>Chinese Moon Festival</td>\n",
              "      <td>APAC</td>\n",
              "      <td>2020-10-01</td>\n",
              "      <td>2020-10-07</td>\n",
              "    </tr>\n",
              "    <tr>\n",
              "      <th>12</th>\n",
              "      <td>Single's Day Gift Promo</td>\n",
              "      <td>APAC</td>\n",
              "      <td>2020-11-11</td>\n",
              "      <td>2020-11-12</td>\n",
              "    </tr>\n",
              "    <tr>\n",
              "      <th>5</th>\n",
              "      <td>Black Friday Ads Campaign</td>\n",
              "      <td>EU, CIS, APAC, N.America</td>\n",
              "      <td>2020-11-26</td>\n",
              "      <td>2020-12-01</td>\n",
              "    </tr>\n",
              "    <tr>\n",
              "      <th>0</th>\n",
              "      <td>Christmas&amp;New Year Promo</td>\n",
              "      <td>EU, N.America</td>\n",
              "      <td>2020-12-25</td>\n",
              "      <td>2021-01-03</td>\n",
              "    </tr>\n",
              "    <tr>\n",
              "      <th>10</th>\n",
              "      <td>CIS New Year Gift Lottery</td>\n",
              "      <td>CIS</td>\n",
              "      <td>2020-12-30</td>\n",
              "      <td>2021-01-07</td>\n",
              "    </tr>\n",
              "  </tbody>\n",
              "</table>\n",
              "</div>\n",
              "      <button class=\"colab-df-convert\" onclick=\"convertToInteractive('df-b9fdf935-0aaf-4368-b31b-0170a6b76ef5')\"\n",
              "              title=\"Convert this dataframe to an interactive table.\"\n",
              "              style=\"display:none;\">\n",
              "        \n",
              "  <svg xmlns=\"http://www.w3.org/2000/svg\" height=\"24px\"viewBox=\"0 0 24 24\"\n",
              "       width=\"24px\">\n",
              "    <path d=\"M0 0h24v24H0V0z\" fill=\"none\"/>\n",
              "    <path d=\"M18.56 5.44l.94 2.06.94-2.06 2.06-.94-2.06-.94-.94-2.06-.94 2.06-2.06.94zm-11 1L8.5 8.5l.94-2.06 2.06-.94-2.06-.94L8.5 2.5l-.94 2.06-2.06.94zm10 10l.94 2.06.94-2.06 2.06-.94-2.06-.94-.94-2.06-.94 2.06-2.06.94z\"/><path d=\"M17.41 7.96l-1.37-1.37c-.4-.4-.92-.59-1.43-.59-.52 0-1.04.2-1.43.59L10.3 9.45l-7.72 7.72c-.78.78-.78 2.05 0 2.83L4 21.41c.39.39.9.59 1.41.59.51 0 1.02-.2 1.41-.59l7.78-7.78 2.81-2.81c.8-.78.8-2.07 0-2.86zM5.41 20L4 18.59l7.72-7.72 1.47 1.35L5.41 20z\"/>\n",
              "  </svg>\n",
              "      </button>\n",
              "      \n",
              "  <style>\n",
              "    .colab-df-container {\n",
              "      display:flex;\n",
              "      flex-wrap:wrap;\n",
              "      gap: 12px;\n",
              "    }\n",
              "\n",
              "    .colab-df-convert {\n",
              "      background-color: #E8F0FE;\n",
              "      border: none;\n",
              "      border-radius: 50%;\n",
              "      cursor: pointer;\n",
              "      display: none;\n",
              "      fill: #1967D2;\n",
              "      height: 32px;\n",
              "      padding: 0 0 0 0;\n",
              "      width: 32px;\n",
              "    }\n",
              "\n",
              "    .colab-df-convert:hover {\n",
              "      background-color: #E2EBFA;\n",
              "      box-shadow: 0px 1px 2px rgba(60, 64, 67, 0.3), 0px 1px 3px 1px rgba(60, 64, 67, 0.15);\n",
              "      fill: #174EA6;\n",
              "    }\n",
              "\n",
              "    [theme=dark] .colab-df-convert {\n",
              "      background-color: #3B4455;\n",
              "      fill: #D2E3FC;\n",
              "    }\n",
              "\n",
              "    [theme=dark] .colab-df-convert:hover {\n",
              "      background-color: #434B5C;\n",
              "      box-shadow: 0px 1px 3px 1px rgba(0, 0, 0, 0.15);\n",
              "      filter: drop-shadow(0px 1px 2px rgba(0, 0, 0, 0.3));\n",
              "      fill: #FFFFFF;\n",
              "    }\n",
              "  </style>\n",
              "\n",
              "      <script>\n",
              "        const buttonEl =\n",
              "          document.querySelector('#df-b9fdf935-0aaf-4368-b31b-0170a6b76ef5 button.colab-df-convert');\n",
              "        buttonEl.style.display =\n",
              "          google.colab.kernel.accessAllowed ? 'block' : 'none';\n",
              "\n",
              "        async function convertToInteractive(key) {\n",
              "          const element = document.querySelector('#df-b9fdf935-0aaf-4368-b31b-0170a6b76ef5');\n",
              "          const dataTable =\n",
              "            await google.colab.kernel.invokeFunction('convertToInteractive',\n",
              "                                                     [key], {});\n",
              "          if (!dataTable) return;\n",
              "\n",
              "          const docLinkHtml = 'Like what you see? Visit the ' +\n",
              "            '<a target=\"_blank\" href=https://colab.research.google.com/notebooks/data_table.ipynb>data table notebook</a>'\n",
              "            + ' to learn more about interactive tables.';\n",
              "          element.innerHTML = '';\n",
              "          dataTable['output_type'] = 'display_data';\n",
              "          await google.colab.output.renderOutput(dataTable, element);\n",
              "          const docLink = document.createElement('div');\n",
              "          docLink.innerHTML = docLinkHtml;\n",
              "          element.appendChild(docLink);\n",
              "        }\n",
              "      </script>\n",
              "    </div>\n",
              "  </div>\n",
              "  "
            ]
          },
          "metadata": {},
          "execution_count": 39
        }
      ],
      "source": [
        "marketing.sort_values(by='start_dt')"
      ]
    },
    {
      "cell_type": "markdown",
      "metadata": {
        "id": "AVMdtJU31Efn"
      },
      "source": [
        "В это же время проходят два маркетинговых мероприятия: Christmas&New Year Promo и CIS New Year Gift Lottery. В тесте участвуют как раз представители всех трех регионов. Но судя по всему мы можем сказать, что эти программы влияют одинакого на обе группы тестируемых"
      ]
    },
    {
      "cell_type": "markdown",
      "metadata": {
        "id": "mPqkd6O9odY4"
      },
      "source": [
        "### Проверка аудитории теста. Удостовериться, что нет пересечений с конкурирующим тестом и нет пользователей, участвующих в двух группах теста одновременно. Проверить равномерность распределения пользователей по тестовым группам и правильность их формирования."
      ]
    },
    {
      "cell_type": "markdown",
      "metadata": {
        "id": "MGpeGJVg-ZgM"
      },
      "source": [
        "Я удалил пользователей участвовавших в другом тесте выше по коду,иначе пришлось бы заного проверять на соответствие ТЗ. Среди оставшихся все в разных группах."
      ]
    },
    {
      "cell_type": "markdown",
      "metadata": {
        "id": "8TZKBnf1n6pg"
      },
      "source": [
        "## Исседовательский анализ данных"
      ]
    },
    {
      "cell_type": "markdown",
      "metadata": {
        "id": "FSWi7_n5pdPJ"
      },
      "source": [
        "### Количество событий на пользователя одинаково распределены в выборках?\n"
      ]
    },
    {
      "cell_type": "code",
      "execution_count": 40,
      "metadata": {
        "colab": {
          "base_uri": "https://localhost:8080/",
          "height": 337
        },
        "id": "8QX3dWRHuDDk",
        "outputId": "64f5a418-7ea3-45b8-f551-2e06102e1d38"
      },
      "outputs": [
        {
          "output_type": "execute_result",
          "data": {
            "text/plain": [
              "               user_id  count group                  ab_test  \\\n",
              "9941  66D0ECE95E07CFAC      1     A  recommender_system_test   \n",
              "3850  C226A7A3002ED8BE      1     A  recommender_system_test   \n",
              "6126  A2DB18F90D9E3362      1     A  recommender_system_test   \n",
              "2573  D6479D2D2511094C      1     A  recommender_system_test   \n",
              "8902  77BD281B14AFB4A5      1     A  recommender_system_test   \n",
              "\n",
              "                event_dt    event_name  details first_date region   device  \\\n",
              "9941 2020-12-21 15:53:11         login      NaN 2020-12-18     EU   iPhone   \n",
              "3850 2020-12-09 06:14:03  product_cart      NaN 2020-12-09     EU      Mac   \n",
              "6126 2020-12-25 12:20:11         login      NaN 2020-12-21     EU  Android   \n",
              "2573 2020-12-25 10:08:02  product_page      NaN 2020-12-20     EU       PC   \n",
              "8902 2020-12-23 12:23:38      purchase   4.9900 2020-12-21     EU  Android   \n",
              "\n",
              "               delta  \n",
              "9941 3 days 15:53:11  \n",
              "3850 0 days 06:14:03  \n",
              "6126 4 days 12:20:11  \n",
              "2573 5 days 10:08:02  \n",
              "8902 2 days 12:23:38  "
            ],
            "text/html": [
              "\n",
              "  <div id=\"df-622caac7-9e5e-40d3-a404-0ff02173c746\">\n",
              "    <div class=\"colab-df-container\">\n",
              "      <div>\n",
              "<style scoped>\n",
              "    .dataframe tbody tr th:only-of-type {\n",
              "        vertical-align: middle;\n",
              "    }\n",
              "\n",
              "    .dataframe tbody tr th {\n",
              "        vertical-align: top;\n",
              "    }\n",
              "\n",
              "    .dataframe thead th {\n",
              "        text-align: right;\n",
              "    }\n",
              "</style>\n",
              "<table border=\"1\" class=\"dataframe\">\n",
              "  <thead>\n",
              "    <tr style=\"text-align: right;\">\n",
              "      <th></th>\n",
              "      <th>user_id</th>\n",
              "      <th>count</th>\n",
              "      <th>group</th>\n",
              "      <th>ab_test</th>\n",
              "      <th>event_dt</th>\n",
              "      <th>event_name</th>\n",
              "      <th>details</th>\n",
              "      <th>first_date</th>\n",
              "      <th>region</th>\n",
              "      <th>device</th>\n",
              "      <th>delta</th>\n",
              "    </tr>\n",
              "  </thead>\n",
              "  <tbody>\n",
              "    <tr>\n",
              "      <th>9941</th>\n",
              "      <td>66D0ECE95E07CFAC</td>\n",
              "      <td>1</td>\n",
              "      <td>A</td>\n",
              "      <td>recommender_system_test</td>\n",
              "      <td>2020-12-21 15:53:11</td>\n",
              "      <td>login</td>\n",
              "      <td>NaN</td>\n",
              "      <td>2020-12-18</td>\n",
              "      <td>EU</td>\n",
              "      <td>iPhone</td>\n",
              "      <td>3 days 15:53:11</td>\n",
              "    </tr>\n",
              "    <tr>\n",
              "      <th>3850</th>\n",
              "      <td>C226A7A3002ED8BE</td>\n",
              "      <td>1</td>\n",
              "      <td>A</td>\n",
              "      <td>recommender_system_test</td>\n",
              "      <td>2020-12-09 06:14:03</td>\n",
              "      <td>product_cart</td>\n",
              "      <td>NaN</td>\n",
              "      <td>2020-12-09</td>\n",
              "      <td>EU</td>\n",
              "      <td>Mac</td>\n",
              "      <td>0 days 06:14:03</td>\n",
              "    </tr>\n",
              "    <tr>\n",
              "      <th>6126</th>\n",
              "      <td>A2DB18F90D9E3362</td>\n",
              "      <td>1</td>\n",
              "      <td>A</td>\n",
              "      <td>recommender_system_test</td>\n",
              "      <td>2020-12-25 12:20:11</td>\n",
              "      <td>login</td>\n",
              "      <td>NaN</td>\n",
              "      <td>2020-12-21</td>\n",
              "      <td>EU</td>\n",
              "      <td>Android</td>\n",
              "      <td>4 days 12:20:11</td>\n",
              "    </tr>\n",
              "    <tr>\n",
              "      <th>2573</th>\n",
              "      <td>D6479D2D2511094C</td>\n",
              "      <td>1</td>\n",
              "      <td>A</td>\n",
              "      <td>recommender_system_test</td>\n",
              "      <td>2020-12-25 10:08:02</td>\n",
              "      <td>product_page</td>\n",
              "      <td>NaN</td>\n",
              "      <td>2020-12-20</td>\n",
              "      <td>EU</td>\n",
              "      <td>PC</td>\n",
              "      <td>5 days 10:08:02</td>\n",
              "    </tr>\n",
              "    <tr>\n",
              "      <th>8902</th>\n",
              "      <td>77BD281B14AFB4A5</td>\n",
              "      <td>1</td>\n",
              "      <td>A</td>\n",
              "      <td>recommender_system_test</td>\n",
              "      <td>2020-12-23 12:23:38</td>\n",
              "      <td>purchase</td>\n",
              "      <td>4.9900</td>\n",
              "      <td>2020-12-21</td>\n",
              "      <td>EU</td>\n",
              "      <td>Android</td>\n",
              "      <td>2 days 12:23:38</td>\n",
              "    </tr>\n",
              "  </tbody>\n",
              "</table>\n",
              "</div>\n",
              "      <button class=\"colab-df-convert\" onclick=\"convertToInteractive('df-622caac7-9e5e-40d3-a404-0ff02173c746')\"\n",
              "              title=\"Convert this dataframe to an interactive table.\"\n",
              "              style=\"display:none;\">\n",
              "        \n",
              "  <svg xmlns=\"http://www.w3.org/2000/svg\" height=\"24px\"viewBox=\"0 0 24 24\"\n",
              "       width=\"24px\">\n",
              "    <path d=\"M0 0h24v24H0V0z\" fill=\"none\"/>\n",
              "    <path d=\"M18.56 5.44l.94 2.06.94-2.06 2.06-.94-2.06-.94-.94-2.06-.94 2.06-2.06.94zm-11 1L8.5 8.5l.94-2.06 2.06-.94-2.06-.94L8.5 2.5l-.94 2.06-2.06.94zm10 10l.94 2.06.94-2.06 2.06-.94-2.06-.94-.94-2.06-.94 2.06-2.06.94z\"/><path d=\"M17.41 7.96l-1.37-1.37c-.4-.4-.92-.59-1.43-.59-.52 0-1.04.2-1.43.59L10.3 9.45l-7.72 7.72c-.78.78-.78 2.05 0 2.83L4 21.41c.39.39.9.59 1.41.59.51 0 1.02-.2 1.41-.59l7.78-7.78 2.81-2.81c.8-.78.8-2.07 0-2.86zM5.41 20L4 18.59l7.72-7.72 1.47 1.35L5.41 20z\"/>\n",
              "  </svg>\n",
              "      </button>\n",
              "      \n",
              "  <style>\n",
              "    .colab-df-container {\n",
              "      display:flex;\n",
              "      flex-wrap:wrap;\n",
              "      gap: 12px;\n",
              "    }\n",
              "\n",
              "    .colab-df-convert {\n",
              "      background-color: #E8F0FE;\n",
              "      border: none;\n",
              "      border-radius: 50%;\n",
              "      cursor: pointer;\n",
              "      display: none;\n",
              "      fill: #1967D2;\n",
              "      height: 32px;\n",
              "      padding: 0 0 0 0;\n",
              "      width: 32px;\n",
              "    }\n",
              "\n",
              "    .colab-df-convert:hover {\n",
              "      background-color: #E2EBFA;\n",
              "      box-shadow: 0px 1px 2px rgba(60, 64, 67, 0.3), 0px 1px 3px 1px rgba(60, 64, 67, 0.15);\n",
              "      fill: #174EA6;\n",
              "    }\n",
              "\n",
              "    [theme=dark] .colab-df-convert {\n",
              "      background-color: #3B4455;\n",
              "      fill: #D2E3FC;\n",
              "    }\n",
              "\n",
              "    [theme=dark] .colab-df-convert:hover {\n",
              "      background-color: #434B5C;\n",
              "      box-shadow: 0px 1px 3px 1px rgba(0, 0, 0, 0.15);\n",
              "      filter: drop-shadow(0px 1px 2px rgba(0, 0, 0, 0.3));\n",
              "      fill: #FFFFFF;\n",
              "    }\n",
              "  </style>\n",
              "\n",
              "      <script>\n",
              "        const buttonEl =\n",
              "          document.querySelector('#df-622caac7-9e5e-40d3-a404-0ff02173c746 button.colab-df-convert');\n",
              "        buttonEl.style.display =\n",
              "          google.colab.kernel.accessAllowed ? 'block' : 'none';\n",
              "\n",
              "        async function convertToInteractive(key) {\n",
              "          const element = document.querySelector('#df-622caac7-9e5e-40d3-a404-0ff02173c746');\n",
              "          const dataTable =\n",
              "            await google.colab.kernel.invokeFunction('convertToInteractive',\n",
              "                                                     [key], {});\n",
              "          if (!dataTable) return;\n",
              "\n",
              "          const docLinkHtml = 'Like what you see? Visit the ' +\n",
              "            '<a target=\"_blank\" href=https://colab.research.google.com/notebooks/data_table.ipynb>data table notebook</a>'\n",
              "            + ' to learn more about interactive tables.';\n",
              "          element.innerHTML = '';\n",
              "          dataTable['output_type'] = 'display_data';\n",
              "          await google.colab.output.renderOutput(dataTable, element);\n",
              "          const docLink = document.createElement('div');\n",
              "          docLink.innerHTML = docLinkHtml;\n",
              "          element.appendChild(docLink);\n",
              "        }\n",
              "      </script>\n",
              "    </div>\n",
              "  </div>\n",
              "  "
            ]
          },
          "metadata": {},
          "execution_count": 40
        }
      ],
      "source": [
        "sample_a = member[member['group'] == 'A'].merge(event, on = 'user_id')\n",
        "sample_a.sample(5)"
      ]
    },
    {
      "cell_type": "code",
      "execution_count": 41,
      "metadata": {
        "colab": {
          "base_uri": "https://localhost:8080/",
          "height": 337
        },
        "id": "pnaccyUjzA6N",
        "outputId": "d053b2ce-153c-49a5-8695-d0bb4736a9c1"
      },
      "outputs": [
        {
          "output_type": "execute_result",
          "data": {
            "text/plain": [
              "               user_id  count group                  ab_test  \\\n",
              "285   EBBE8317E9D7B490      1     B  recommender_system_test   \n",
              "4018  19AC976D25997BE9      1     B  recommender_system_test   \n",
              "918   C9E2691EAD9EF4BB      1     B  recommender_system_test   \n",
              "2695  6460D0D3A5C3CD78      1     B  recommender_system_test   \n",
              "2408  736990A3BC742A65      1     B  recommender_system_test   \n",
              "\n",
              "                event_dt    event_name  details first_date region   device  \\\n",
              "285  2020-12-08 16:30:02  product_cart      NaN 2020-12-07     EU  Android   \n",
              "4018 2020-12-19 15:32:09  product_cart      NaN 2020-12-15     EU   iPhone   \n",
              "918  2020-12-29 06:11:26         login      NaN 2020-12-21     EU   iPhone   \n",
              "2695 2020-12-18 08:02:54         login      NaN 2020-12-16     EU      Mac   \n",
              "2408 2020-12-09 14:24:17  product_cart      NaN 2020-12-07    CIS  Android   \n",
              "\n",
              "               delta  \n",
              "285  1 days 16:30:02  \n",
              "4018 4 days 15:32:09  \n",
              "918  8 days 06:11:26  \n",
              "2695 2 days 08:02:54  \n",
              "2408 2 days 14:24:17  "
            ],
            "text/html": [
              "\n",
              "  <div id=\"df-d13cbc66-1143-4902-87e7-7a9329f43aec\">\n",
              "    <div class=\"colab-df-container\">\n",
              "      <div>\n",
              "<style scoped>\n",
              "    .dataframe tbody tr th:only-of-type {\n",
              "        vertical-align: middle;\n",
              "    }\n",
              "\n",
              "    .dataframe tbody tr th {\n",
              "        vertical-align: top;\n",
              "    }\n",
              "\n",
              "    .dataframe thead th {\n",
              "        text-align: right;\n",
              "    }\n",
              "</style>\n",
              "<table border=\"1\" class=\"dataframe\">\n",
              "  <thead>\n",
              "    <tr style=\"text-align: right;\">\n",
              "      <th></th>\n",
              "      <th>user_id</th>\n",
              "      <th>count</th>\n",
              "      <th>group</th>\n",
              "      <th>ab_test</th>\n",
              "      <th>event_dt</th>\n",
              "      <th>event_name</th>\n",
              "      <th>details</th>\n",
              "      <th>first_date</th>\n",
              "      <th>region</th>\n",
              "      <th>device</th>\n",
              "      <th>delta</th>\n",
              "    </tr>\n",
              "  </thead>\n",
              "  <tbody>\n",
              "    <tr>\n",
              "      <th>285</th>\n",
              "      <td>EBBE8317E9D7B490</td>\n",
              "      <td>1</td>\n",
              "      <td>B</td>\n",
              "      <td>recommender_system_test</td>\n",
              "      <td>2020-12-08 16:30:02</td>\n",
              "      <td>product_cart</td>\n",
              "      <td>NaN</td>\n",
              "      <td>2020-12-07</td>\n",
              "      <td>EU</td>\n",
              "      <td>Android</td>\n",
              "      <td>1 days 16:30:02</td>\n",
              "    </tr>\n",
              "    <tr>\n",
              "      <th>4018</th>\n",
              "      <td>19AC976D25997BE9</td>\n",
              "      <td>1</td>\n",
              "      <td>B</td>\n",
              "      <td>recommender_system_test</td>\n",
              "      <td>2020-12-19 15:32:09</td>\n",
              "      <td>product_cart</td>\n",
              "      <td>NaN</td>\n",
              "      <td>2020-12-15</td>\n",
              "      <td>EU</td>\n",
              "      <td>iPhone</td>\n",
              "      <td>4 days 15:32:09</td>\n",
              "    </tr>\n",
              "    <tr>\n",
              "      <th>918</th>\n",
              "      <td>C9E2691EAD9EF4BB</td>\n",
              "      <td>1</td>\n",
              "      <td>B</td>\n",
              "      <td>recommender_system_test</td>\n",
              "      <td>2020-12-29 06:11:26</td>\n",
              "      <td>login</td>\n",
              "      <td>NaN</td>\n",
              "      <td>2020-12-21</td>\n",
              "      <td>EU</td>\n",
              "      <td>iPhone</td>\n",
              "      <td>8 days 06:11:26</td>\n",
              "    </tr>\n",
              "    <tr>\n",
              "      <th>2695</th>\n",
              "      <td>6460D0D3A5C3CD78</td>\n",
              "      <td>1</td>\n",
              "      <td>B</td>\n",
              "      <td>recommender_system_test</td>\n",
              "      <td>2020-12-18 08:02:54</td>\n",
              "      <td>login</td>\n",
              "      <td>NaN</td>\n",
              "      <td>2020-12-16</td>\n",
              "      <td>EU</td>\n",
              "      <td>Mac</td>\n",
              "      <td>2 days 08:02:54</td>\n",
              "    </tr>\n",
              "    <tr>\n",
              "      <th>2408</th>\n",
              "      <td>736990A3BC742A65</td>\n",
              "      <td>1</td>\n",
              "      <td>B</td>\n",
              "      <td>recommender_system_test</td>\n",
              "      <td>2020-12-09 14:24:17</td>\n",
              "      <td>product_cart</td>\n",
              "      <td>NaN</td>\n",
              "      <td>2020-12-07</td>\n",
              "      <td>CIS</td>\n",
              "      <td>Android</td>\n",
              "      <td>2 days 14:24:17</td>\n",
              "    </tr>\n",
              "  </tbody>\n",
              "</table>\n",
              "</div>\n",
              "      <button class=\"colab-df-convert\" onclick=\"convertToInteractive('df-d13cbc66-1143-4902-87e7-7a9329f43aec')\"\n",
              "              title=\"Convert this dataframe to an interactive table.\"\n",
              "              style=\"display:none;\">\n",
              "        \n",
              "  <svg xmlns=\"http://www.w3.org/2000/svg\" height=\"24px\"viewBox=\"0 0 24 24\"\n",
              "       width=\"24px\">\n",
              "    <path d=\"M0 0h24v24H0V0z\" fill=\"none\"/>\n",
              "    <path d=\"M18.56 5.44l.94 2.06.94-2.06 2.06-.94-2.06-.94-.94-2.06-.94 2.06-2.06.94zm-11 1L8.5 8.5l.94-2.06 2.06-.94-2.06-.94L8.5 2.5l-.94 2.06-2.06.94zm10 10l.94 2.06.94-2.06 2.06-.94-2.06-.94-.94-2.06-.94 2.06-2.06.94z\"/><path d=\"M17.41 7.96l-1.37-1.37c-.4-.4-.92-.59-1.43-.59-.52 0-1.04.2-1.43.59L10.3 9.45l-7.72 7.72c-.78.78-.78 2.05 0 2.83L4 21.41c.39.39.9.59 1.41.59.51 0 1.02-.2 1.41-.59l7.78-7.78 2.81-2.81c.8-.78.8-2.07 0-2.86zM5.41 20L4 18.59l7.72-7.72 1.47 1.35L5.41 20z\"/>\n",
              "  </svg>\n",
              "      </button>\n",
              "      \n",
              "  <style>\n",
              "    .colab-df-container {\n",
              "      display:flex;\n",
              "      flex-wrap:wrap;\n",
              "      gap: 12px;\n",
              "    }\n",
              "\n",
              "    .colab-df-convert {\n",
              "      background-color: #E8F0FE;\n",
              "      border: none;\n",
              "      border-radius: 50%;\n",
              "      cursor: pointer;\n",
              "      display: none;\n",
              "      fill: #1967D2;\n",
              "      height: 32px;\n",
              "      padding: 0 0 0 0;\n",
              "      width: 32px;\n",
              "    }\n",
              "\n",
              "    .colab-df-convert:hover {\n",
              "      background-color: #E2EBFA;\n",
              "      box-shadow: 0px 1px 2px rgba(60, 64, 67, 0.3), 0px 1px 3px 1px rgba(60, 64, 67, 0.15);\n",
              "      fill: #174EA6;\n",
              "    }\n",
              "\n",
              "    [theme=dark] .colab-df-convert {\n",
              "      background-color: #3B4455;\n",
              "      fill: #D2E3FC;\n",
              "    }\n",
              "\n",
              "    [theme=dark] .colab-df-convert:hover {\n",
              "      background-color: #434B5C;\n",
              "      box-shadow: 0px 1px 3px 1px rgba(0, 0, 0, 0.15);\n",
              "      filter: drop-shadow(0px 1px 2px rgba(0, 0, 0, 0.3));\n",
              "      fill: #FFFFFF;\n",
              "    }\n",
              "  </style>\n",
              "\n",
              "      <script>\n",
              "        const buttonEl =\n",
              "          document.querySelector('#df-d13cbc66-1143-4902-87e7-7a9329f43aec button.colab-df-convert');\n",
              "        buttonEl.style.display =\n",
              "          google.colab.kernel.accessAllowed ? 'block' : 'none';\n",
              "\n",
              "        async function convertToInteractive(key) {\n",
              "          const element = document.querySelector('#df-d13cbc66-1143-4902-87e7-7a9329f43aec');\n",
              "          const dataTable =\n",
              "            await google.colab.kernel.invokeFunction('convertToInteractive',\n",
              "                                                     [key], {});\n",
              "          if (!dataTable) return;\n",
              "\n",
              "          const docLinkHtml = 'Like what you see? Visit the ' +\n",
              "            '<a target=\"_blank\" href=https://colab.research.google.com/notebooks/data_table.ipynb>data table notebook</a>'\n",
              "            + ' to learn more about interactive tables.';\n",
              "          element.innerHTML = '';\n",
              "          dataTable['output_type'] = 'display_data';\n",
              "          await google.colab.output.renderOutput(dataTable, element);\n",
              "          const docLink = document.createElement('div');\n",
              "          docLink.innerHTML = docLinkHtml;\n",
              "          element.appendChild(docLink);\n",
              "        }\n",
              "      </script>\n",
              "    </div>\n",
              "  </div>\n",
              "  "
            ]
          },
          "metadata": {},
          "execution_count": 41
        }
      ],
      "source": [
        "sample_b = member[member['group'] == 'B'].merge(event, on = 'user_id')\n",
        "sample_b.sample(5)"
      ]
    },
    {
      "cell_type": "code",
      "execution_count": 42,
      "metadata": {
        "colab": {
          "base_uri": "https://localhost:8080/",
          "height": 143
        },
        "id": "fE9hFPoS1xF9",
        "outputId": "91fe16b1-b8af-463e-cdbf-b16d4c954cb9"
      },
      "outputs": [
        {
          "output_type": "execute_result",
          "data": {
            "text/plain": [
              "               user_id  event_dt\n",
              "1618  AAEE1D820ABE40A8        10\n",
              "2316  F45264F61F931489         6\n",
              "2087  DCAA50AF3E368063         9"
            ],
            "text/html": [
              "\n",
              "  <div id=\"df-b6f08a10-ca39-48ad-a1de-ba1885f0d31f\">\n",
              "    <div class=\"colab-df-container\">\n",
              "      <div>\n",
              "<style scoped>\n",
              "    .dataframe tbody tr th:only-of-type {\n",
              "        vertical-align: middle;\n",
              "    }\n",
              "\n",
              "    .dataframe tbody tr th {\n",
              "        vertical-align: top;\n",
              "    }\n",
              "\n",
              "    .dataframe thead th {\n",
              "        text-align: right;\n",
              "    }\n",
              "</style>\n",
              "<table border=\"1\" class=\"dataframe\">\n",
              "  <thead>\n",
              "    <tr style=\"text-align: right;\">\n",
              "      <th></th>\n",
              "      <th>user_id</th>\n",
              "      <th>event_dt</th>\n",
              "    </tr>\n",
              "  </thead>\n",
              "  <tbody>\n",
              "    <tr>\n",
              "      <th>1618</th>\n",
              "      <td>AAEE1D820ABE40A8</td>\n",
              "      <td>10</td>\n",
              "    </tr>\n",
              "    <tr>\n",
              "      <th>2316</th>\n",
              "      <td>F45264F61F931489</td>\n",
              "      <td>6</td>\n",
              "    </tr>\n",
              "    <tr>\n",
              "      <th>2087</th>\n",
              "      <td>DCAA50AF3E368063</td>\n",
              "      <td>9</td>\n",
              "    </tr>\n",
              "  </tbody>\n",
              "</table>\n",
              "</div>\n",
              "      <button class=\"colab-df-convert\" onclick=\"convertToInteractive('df-b6f08a10-ca39-48ad-a1de-ba1885f0d31f')\"\n",
              "              title=\"Convert this dataframe to an interactive table.\"\n",
              "              style=\"display:none;\">\n",
              "        \n",
              "  <svg xmlns=\"http://www.w3.org/2000/svg\" height=\"24px\"viewBox=\"0 0 24 24\"\n",
              "       width=\"24px\">\n",
              "    <path d=\"M0 0h24v24H0V0z\" fill=\"none\"/>\n",
              "    <path d=\"M18.56 5.44l.94 2.06.94-2.06 2.06-.94-2.06-.94-.94-2.06-.94 2.06-2.06.94zm-11 1L8.5 8.5l.94-2.06 2.06-.94-2.06-.94L8.5 2.5l-.94 2.06-2.06.94zm10 10l.94 2.06.94-2.06 2.06-.94-2.06-.94-.94-2.06-.94 2.06-2.06.94z\"/><path d=\"M17.41 7.96l-1.37-1.37c-.4-.4-.92-.59-1.43-.59-.52 0-1.04.2-1.43.59L10.3 9.45l-7.72 7.72c-.78.78-.78 2.05 0 2.83L4 21.41c.39.39.9.59 1.41.59.51 0 1.02-.2 1.41-.59l7.78-7.78 2.81-2.81c.8-.78.8-2.07 0-2.86zM5.41 20L4 18.59l7.72-7.72 1.47 1.35L5.41 20z\"/>\n",
              "  </svg>\n",
              "      </button>\n",
              "      \n",
              "  <style>\n",
              "    .colab-df-container {\n",
              "      display:flex;\n",
              "      flex-wrap:wrap;\n",
              "      gap: 12px;\n",
              "    }\n",
              "\n",
              "    .colab-df-convert {\n",
              "      background-color: #E8F0FE;\n",
              "      border: none;\n",
              "      border-radius: 50%;\n",
              "      cursor: pointer;\n",
              "      display: none;\n",
              "      fill: #1967D2;\n",
              "      height: 32px;\n",
              "      padding: 0 0 0 0;\n",
              "      width: 32px;\n",
              "    }\n",
              "\n",
              "    .colab-df-convert:hover {\n",
              "      background-color: #E2EBFA;\n",
              "      box-shadow: 0px 1px 2px rgba(60, 64, 67, 0.3), 0px 1px 3px 1px rgba(60, 64, 67, 0.15);\n",
              "      fill: #174EA6;\n",
              "    }\n",
              "\n",
              "    [theme=dark] .colab-df-convert {\n",
              "      background-color: #3B4455;\n",
              "      fill: #D2E3FC;\n",
              "    }\n",
              "\n",
              "    [theme=dark] .colab-df-convert:hover {\n",
              "      background-color: #434B5C;\n",
              "      box-shadow: 0px 1px 3px 1px rgba(0, 0, 0, 0.15);\n",
              "      filter: drop-shadow(0px 1px 2px rgba(0, 0, 0, 0.3));\n",
              "      fill: #FFFFFF;\n",
              "    }\n",
              "  </style>\n",
              "\n",
              "      <script>\n",
              "        const buttonEl =\n",
              "          document.querySelector('#df-b6f08a10-ca39-48ad-a1de-ba1885f0d31f button.colab-df-convert');\n",
              "        buttonEl.style.display =\n",
              "          google.colab.kernel.accessAllowed ? 'block' : 'none';\n",
              "\n",
              "        async function convertToInteractive(key) {\n",
              "          const element = document.querySelector('#df-b6f08a10-ca39-48ad-a1de-ba1885f0d31f');\n",
              "          const dataTable =\n",
              "            await google.colab.kernel.invokeFunction('convertToInteractive',\n",
              "                                                     [key], {});\n",
              "          if (!dataTable) return;\n",
              "\n",
              "          const docLinkHtml = 'Like what you see? Visit the ' +\n",
              "            '<a target=\"_blank\" href=https://colab.research.google.com/notebooks/data_table.ipynb>data table notebook</a>'\n",
              "            + ' to learn more about interactive tables.';\n",
              "          element.innerHTML = '';\n",
              "          dataTable['output_type'] = 'display_data';\n",
              "          await google.colab.output.renderOutput(dataTable, element);\n",
              "          const docLink = document.createElement('div');\n",
              "          docLink.innerHTML = docLinkHtml;\n",
              "          element.appendChild(docLink);\n",
              "        }\n",
              "      </script>\n",
              "    </div>\n",
              "  </div>\n",
              "  "
            ]
          },
          "metadata": {},
          "execution_count": 42
        }
      ],
      "source": [
        "t1 = sample_a.groupby('user_id')['event_dt'].count().reset_index()\n",
        "t1.sample(3)"
      ]
    },
    {
      "cell_type": "code",
      "execution_count": 43,
      "metadata": {
        "colab": {
          "base_uri": "https://localhost:8080/",
          "height": 143
        },
        "id": "p5Wao-de2RSX",
        "outputId": "ccacd478-f56c-4b9c-cb54-2ffef165faab"
      },
      "outputs": [
        {
          "output_type": "execute_result",
          "data": {
            "text/plain": [
              "              user_id  event_dt\n",
              "305  5FE8A7964BFE9201         3\n",
              "523  A5E041918EF8B165         9\n",
              "395  7D1BFB181017EB46        12"
            ],
            "text/html": [
              "\n",
              "  <div id=\"df-d1b5a05f-8933-4200-9a17-381617cdc4d5\">\n",
              "    <div class=\"colab-df-container\">\n",
              "      <div>\n",
              "<style scoped>\n",
              "    .dataframe tbody tr th:only-of-type {\n",
              "        vertical-align: middle;\n",
              "    }\n",
              "\n",
              "    .dataframe tbody tr th {\n",
              "        vertical-align: top;\n",
              "    }\n",
              "\n",
              "    .dataframe thead th {\n",
              "        text-align: right;\n",
              "    }\n",
              "</style>\n",
              "<table border=\"1\" class=\"dataframe\">\n",
              "  <thead>\n",
              "    <tr style=\"text-align: right;\">\n",
              "      <th></th>\n",
              "      <th>user_id</th>\n",
              "      <th>event_dt</th>\n",
              "    </tr>\n",
              "  </thead>\n",
              "  <tbody>\n",
              "    <tr>\n",
              "      <th>305</th>\n",
              "      <td>5FE8A7964BFE9201</td>\n",
              "      <td>3</td>\n",
              "    </tr>\n",
              "    <tr>\n",
              "      <th>523</th>\n",
              "      <td>A5E041918EF8B165</td>\n",
              "      <td>9</td>\n",
              "    </tr>\n",
              "    <tr>\n",
              "      <th>395</th>\n",
              "      <td>7D1BFB181017EB46</td>\n",
              "      <td>12</td>\n",
              "    </tr>\n",
              "  </tbody>\n",
              "</table>\n",
              "</div>\n",
              "      <button class=\"colab-df-convert\" onclick=\"convertToInteractive('df-d1b5a05f-8933-4200-9a17-381617cdc4d5')\"\n",
              "              title=\"Convert this dataframe to an interactive table.\"\n",
              "              style=\"display:none;\">\n",
              "        \n",
              "  <svg xmlns=\"http://www.w3.org/2000/svg\" height=\"24px\"viewBox=\"0 0 24 24\"\n",
              "       width=\"24px\">\n",
              "    <path d=\"M0 0h24v24H0V0z\" fill=\"none\"/>\n",
              "    <path d=\"M18.56 5.44l.94 2.06.94-2.06 2.06-.94-2.06-.94-.94-2.06-.94 2.06-2.06.94zm-11 1L8.5 8.5l.94-2.06 2.06-.94-2.06-.94L8.5 2.5l-.94 2.06-2.06.94zm10 10l.94 2.06.94-2.06 2.06-.94-2.06-.94-.94-2.06-.94 2.06-2.06.94z\"/><path d=\"M17.41 7.96l-1.37-1.37c-.4-.4-.92-.59-1.43-.59-.52 0-1.04.2-1.43.59L10.3 9.45l-7.72 7.72c-.78.78-.78 2.05 0 2.83L4 21.41c.39.39.9.59 1.41.59.51 0 1.02-.2 1.41-.59l7.78-7.78 2.81-2.81c.8-.78.8-2.07 0-2.86zM5.41 20L4 18.59l7.72-7.72 1.47 1.35L5.41 20z\"/>\n",
              "  </svg>\n",
              "      </button>\n",
              "      \n",
              "  <style>\n",
              "    .colab-df-container {\n",
              "      display:flex;\n",
              "      flex-wrap:wrap;\n",
              "      gap: 12px;\n",
              "    }\n",
              "\n",
              "    .colab-df-convert {\n",
              "      background-color: #E8F0FE;\n",
              "      border: none;\n",
              "      border-radius: 50%;\n",
              "      cursor: pointer;\n",
              "      display: none;\n",
              "      fill: #1967D2;\n",
              "      height: 32px;\n",
              "      padding: 0 0 0 0;\n",
              "      width: 32px;\n",
              "    }\n",
              "\n",
              "    .colab-df-convert:hover {\n",
              "      background-color: #E2EBFA;\n",
              "      box-shadow: 0px 1px 2px rgba(60, 64, 67, 0.3), 0px 1px 3px 1px rgba(60, 64, 67, 0.15);\n",
              "      fill: #174EA6;\n",
              "    }\n",
              "\n",
              "    [theme=dark] .colab-df-convert {\n",
              "      background-color: #3B4455;\n",
              "      fill: #D2E3FC;\n",
              "    }\n",
              "\n",
              "    [theme=dark] .colab-df-convert:hover {\n",
              "      background-color: #434B5C;\n",
              "      box-shadow: 0px 1px 3px 1px rgba(0, 0, 0, 0.15);\n",
              "      filter: drop-shadow(0px 1px 2px rgba(0, 0, 0, 0.3));\n",
              "      fill: #FFFFFF;\n",
              "    }\n",
              "  </style>\n",
              "\n",
              "      <script>\n",
              "        const buttonEl =\n",
              "          document.querySelector('#df-d1b5a05f-8933-4200-9a17-381617cdc4d5 button.colab-df-convert');\n",
              "        buttonEl.style.display =\n",
              "          google.colab.kernel.accessAllowed ? 'block' : 'none';\n",
              "\n",
              "        async function convertToInteractive(key) {\n",
              "          const element = document.querySelector('#df-d1b5a05f-8933-4200-9a17-381617cdc4d5');\n",
              "          const dataTable =\n",
              "            await google.colab.kernel.invokeFunction('convertToInteractive',\n",
              "                                                     [key], {});\n",
              "          if (!dataTable) return;\n",
              "\n",
              "          const docLinkHtml = 'Like what you see? Visit the ' +\n",
              "            '<a target=\"_blank\" href=https://colab.research.google.com/notebooks/data_table.ipynb>data table notebook</a>'\n",
              "            + ' to learn more about interactive tables.';\n",
              "          element.innerHTML = '';\n",
              "          dataTable['output_type'] = 'display_data';\n",
              "          await google.colab.output.renderOutput(dataTable, element);\n",
              "          const docLink = document.createElement('div');\n",
              "          docLink.innerHTML = docLinkHtml;\n",
              "          element.appendChild(docLink);\n",
              "        }\n",
              "      </script>\n",
              "    </div>\n",
              "  </div>\n",
              "  "
            ]
          },
          "metadata": {},
          "execution_count": 43
        }
      ],
      "source": [
        "t2 = sample_b.groupby('user_id')['event_dt'].count().reset_index()\n",
        "t2.sample(3)"
      ]
    },
    {
      "cell_type": "code",
      "execution_count": 44,
      "metadata": {
        "colab": {
          "base_uri": "https://localhost:8080/",
          "height": 610
        },
        "id": "Q3ZfKwWAzf8P",
        "outputId": "e4c043d3-61e3-488f-9d1b-76d4c96a6d6a"
      },
      "outputs": [
        {
          "output_type": "stream",
          "name": "stderr",
          "text": [
            "/usr/local/lib/python3.8/dist-packages/matplotlib/cbook/__init__.py:1376: VisibleDeprecationWarning: Creating an ndarray from ragged nested sequences (which is a list-or-tuple of lists-or-tuples-or ndarrays with different lengths or shapes) is deprecated. If you meant to do this, you must specify 'dtype=object' when creating the ndarray.\n",
            "  X = np.atleast_1d(X.T if isinstance(X, np.ndarray) else np.asarray(X))\n"
          ]
        },
        {
          "output_type": "display_data",
          "data": {
            "text/plain": [
              "<Figure size 720x504 with 1 Axes>"
            ],
            "image/png": "[encoded data removed]"
          },
          "metadata": {
            "needs_background": "light"
          }
        }
      ],
      "source": [
        "data_1 = t1['event_dt']\n",
        "data_2 = t2['event_dt']\n",
        "\n",
        "data = [data_1, data_2]\n",
        " \n",
        "fig = plt.figure(figsize =(10, 7))\n",
        " \n",
        "ax = fig.add_axes([0, 0, 1, 1])\n",
        "\n",
        "bp = ax.boxplot(data)\n",
        "\n",
        "plt.show()"
      ]
    },
    {
      "cell_type": "markdown",
      "metadata": {
        "id": "6NAjNMIvdHT3"
      },
      "source": [
        "Распределения отличаются"
      ]
    },
    {
      "cell_type": "markdown",
      "metadata": {
        "id": "OBiPG58Bpf4E"
      },
      "source": [
        "### Как число событий в выборках распределено по дням?"
      ]
    },
    {
      "cell_type": "code",
      "execution_count": 45,
      "metadata": {
        "colab": {
          "base_uri": "https://localhost:8080/",
          "height": 239
        },
        "id": "22rVczsHVSXu",
        "outputId": "2a4f2398-bf19-4e7c-ba93-a2d430bc04e3"
      },
      "outputs": [
        {
          "output_type": "execute_result",
          "data": {
            "text/plain": [
              "                user_id  count group                  ab_test  \\\n",
              "7450   900BB01307F50F4A      1     A  recommender_system_test   \n",
              "2044   DFA630F93B5685D3      1     A  recommender_system_test   \n",
              "11171  54762705651B3B59      1     A  recommender_system_test   \n",
              "\n",
              "                 event_dt    event_name  details first_date region   device  \\\n",
              "7450  2020-12-17 09:35:10      purchase   4.9900 2020-12-08     EU  Android   \n",
              "2044  2020-12-08 13:43:01  product_page      NaN 2020-12-07     EU  Android   \n",
              "11171 2020-12-11 19:46:06      purchase   4.9900 2020-12-10     EU  Android   \n",
              "\n",
              "                delta  \n",
              "7450  9 days 09:35:10  \n",
              "2044  1 days 13:43:01  \n",
              "11171 1 days 19:46:06  "
            ],
            "text/html": [
              "\n",
              "  <div id=\"df-33fabf64-dd48-471e-907d-7291b7d74572\">\n",
              "    <div class=\"colab-df-container\">\n",
              "      <div>\n",
              "<style scoped>\n",
              "    .dataframe tbody tr th:only-of-type {\n",
              "        vertical-align: middle;\n",
              "    }\n",
              "\n",
              "    .dataframe tbody tr th {\n",
              "        vertical-align: top;\n",
              "    }\n",
              "\n",
              "    .dataframe thead th {\n",
              "        text-align: right;\n",
              "    }\n",
              "</style>\n",
              "<table border=\"1\" class=\"dataframe\">\n",
              "  <thead>\n",
              "    <tr style=\"text-align: right;\">\n",
              "      <th></th>\n",
              "      <th>user_id</th>\n",
              "      <th>count</th>\n",
              "      <th>group</th>\n",
              "      <th>ab_test</th>\n",
              "      <th>event_dt</th>\n",
              "      <th>event_name</th>\n",
              "      <th>details</th>\n",
              "      <th>first_date</th>\n",
              "      <th>region</th>\n",
              "      <th>device</th>\n",
              "      <th>delta</th>\n",
              "    </tr>\n",
              "  </thead>\n",
              "  <tbody>\n",
              "    <tr>\n",
              "      <th>7450</th>\n",
              "      <td>900BB01307F50F4A</td>\n",
              "      <td>1</td>\n",
              "      <td>A</td>\n",
              "      <td>recommender_system_test</td>\n",
              "      <td>2020-12-17 09:35:10</td>\n",
              "      <td>purchase</td>\n",
              "      <td>4.9900</td>\n",
              "      <td>2020-12-08</td>\n",
              "      <td>EU</td>\n",
              "      <td>Android</td>\n",
              "      <td>9 days 09:35:10</td>\n",
              "    </tr>\n",
              "    <tr>\n",
              "      <th>2044</th>\n",
              "      <td>DFA630F93B5685D3</td>\n",
              "      <td>1</td>\n",
              "      <td>A</td>\n",
              "      <td>recommender_system_test</td>\n",
              "      <td>2020-12-08 13:43:01</td>\n",
              "      <td>product_page</td>\n",
              "      <td>NaN</td>\n",
              "      <td>2020-12-07</td>\n",
              "      <td>EU</td>\n",
              "      <td>Android</td>\n",
              "      <td>1 days 13:43:01</td>\n",
              "    </tr>\n",
              "    <tr>\n",
              "      <th>11171</th>\n",
              "      <td>54762705651B3B59</td>\n",
              "      <td>1</td>\n",
              "      <td>A</td>\n",
              "      <td>recommender_system_test</td>\n",
              "      <td>2020-12-11 19:46:06</td>\n",
              "      <td>purchase</td>\n",
              "      <td>4.9900</td>\n",
              "      <td>2020-12-10</td>\n",
              "      <td>EU</td>\n",
              "      <td>Android</td>\n",
              "      <td>1 days 19:46:06</td>\n",
              "    </tr>\n",
              "  </tbody>\n",
              "</table>\n",
              "</div>\n",
              "      <button class=\"colab-df-convert\" onclick=\"convertToInteractive('df-33fabf64-dd48-471e-907d-7291b7d74572')\"\n",
              "              title=\"Convert this dataframe to an interactive table.\"\n",
              "              style=\"display:none;\">\n",
              "        \n",
              "  <svg xmlns=\"http://www.w3.org/2000/svg\" height=\"24px\"viewBox=\"0 0 24 24\"\n",
              "       width=\"24px\">\n",
              "    <path d=\"M0 0h24v24H0V0z\" fill=\"none\"/>\n",
              "    <path d=\"M18.56 5.44l.94 2.06.94-2.06 2.06-.94-2.06-.94-.94-2.06-.94 2.06-2.06.94zm-11 1L8.5 8.5l.94-2.06 2.06-.94-2.06-.94L8.5 2.5l-.94 2.06-2.06.94zm10 10l.94 2.06.94-2.06 2.06-.94-2.06-.94-.94-2.06-.94 2.06-2.06.94z\"/><path d=\"M17.41 7.96l-1.37-1.37c-.4-.4-.92-.59-1.43-.59-.52 0-1.04.2-1.43.59L10.3 9.45l-7.72 7.72c-.78.78-.78 2.05 0 2.83L4 21.41c.39.39.9.59 1.41.59.51 0 1.02-.2 1.41-.59l7.78-7.78 2.81-2.81c.8-.78.8-2.07 0-2.86zM5.41 20L4 18.59l7.72-7.72 1.47 1.35L5.41 20z\"/>\n",
              "  </svg>\n",
              "      </button>\n",
              "      \n",
              "  <style>\n",
              "    .colab-df-container {\n",
              "      display:flex;\n",
              "      flex-wrap:wrap;\n",
              "      gap: 12px;\n",
              "    }\n",
              "\n",
              "    .colab-df-convert {\n",
              "      background-color: #E8F0FE;\n",
              "      border: none;\n",
              "      border-radius: 50%;\n",
              "      cursor: pointer;\n",
              "      display: none;\n",
              "      fill: #1967D2;\n",
              "      height: 32px;\n",
              "      padding: 0 0 0 0;\n",
              "      width: 32px;\n",
              "    }\n",
              "\n",
              "    .colab-df-convert:hover {\n",
              "      background-color: #E2EBFA;\n",
              "      box-shadow: 0px 1px 2px rgba(60, 64, 67, 0.3), 0px 1px 3px 1px rgba(60, 64, 67, 0.15);\n",
              "      fill: #174EA6;\n",
              "    }\n",
              "\n",
              "    [theme=dark] .colab-df-convert {\n",
              "      background-color: #3B4455;\n",
              "      fill: #D2E3FC;\n",
              "    }\n",
              "\n",
              "    [theme=dark] .colab-df-convert:hover {\n",
              "      background-color: #434B5C;\n",
              "      box-shadow: 0px 1px 3px 1px rgba(0, 0, 0, 0.15);\n",
              "      filter: drop-shadow(0px 1px 2px rgba(0, 0, 0, 0.3));\n",
              "      fill: #FFFFFF;\n",
              "    }\n",
              "  </style>\n",
              "\n",
              "      <script>\n",
              "        const buttonEl =\n",
              "          document.querySelector('#df-33fabf64-dd48-471e-907d-7291b7d74572 button.colab-df-convert');\n",
              "        buttonEl.style.display =\n",
              "          google.colab.kernel.accessAllowed ? 'block' : 'none';\n",
              "\n",
              "        async function convertToInteractive(key) {\n",
              "          const element = document.querySelector('#df-33fabf64-dd48-471e-907d-7291b7d74572');\n",
              "          const dataTable =\n",
              "            await google.colab.kernel.invokeFunction('convertToInteractive',\n",
              "                                                     [key], {});\n",
              "          if (!dataTable) return;\n",
              "\n",
              "          const docLinkHtml = 'Like what you see? Visit the ' +\n",
              "            '<a target=\"_blank\" href=https://colab.research.google.com/notebooks/data_table.ipynb>data table notebook</a>'\n",
              "            + ' to learn more about interactive tables.';\n",
              "          element.innerHTML = '';\n",
              "          dataTable['output_type'] = 'display_data';\n",
              "          await google.colab.output.renderOutput(dataTable, element);\n",
              "          const docLink = document.createElement('div');\n",
              "          docLink.innerHTML = docLinkHtml;\n",
              "          element.appendChild(docLink);\n",
              "        }\n",
              "      </script>\n",
              "    </div>\n",
              "  </div>\n",
              "  "
            ]
          },
          "metadata": {},
          "execution_count": 45
        }
      ],
      "source": [
        "sample_a.sample(3)"
      ]
    },
    {
      "cell_type": "code",
      "execution_count": 46,
      "metadata": {
        "id": "FSEA5lQ-V1Id"
      },
      "outputs": [],
      "source": [
        "sample_a['event_day'] = sample_a['event_dt'].dt.date\n",
        "sample_b['event_day'] = sample_b['event_dt'].dt.date"
      ]
    },
    {
      "cell_type": "code",
      "execution_count": 47,
      "metadata": {
        "id": "iMHId5xsVtHz"
      },
      "outputs": [],
      "source": [
        "t1 = sample_a.groupby('event_day')['user_id'].count().reset_index().sort_values(by='event_day')\n",
        "t2 = sample_b.groupby('event_day')['user_id'].count().reset_index().sort_values(by='event_day')\n",
        "t1.columns = ['event_day', 'count']\n",
        "t2.columns = ['event_day', 'count']"
      ]
    },
    {
      "cell_type": "code",
      "execution_count": 48,
      "metadata": {
        "colab": {
          "base_uri": "https://localhost:8080/",
          "height": 542
        },
        "id": "XUanOG5tUuHQ",
        "outputId": "4070b9fe-1194-4d64-d67a-93b991740faa"
      },
      "outputs": [
        {
          "output_type": "display_data",
          "data": {
            "text/html": [
              "<html>\n",
              "<head><meta charset=\"utf-8\" /></head>\n",
              "<body>\n",
              "    <div>            <script src=\"https://cdnjs.cloudflare.com/ajax/libs/mathjax/2.7.5/MathJax.js?config=TeX-AMS-MML_SVG\"></script><script type=\"text/javascript\">if (window.MathJax) {MathJax.Hub.Config({SVG: {font: \"STIX-Web\"}});}</script>                <script type=\"text/javascript\">window.PlotlyConfig = {MathJaxConfig: 'local'};</script>\n",
              "        <script src=\"https://cdn.plot.ly/plotly-2.8.3.min.js\"></script>                <div id=\"7e1eec78-3b55-418d-86ff-dc492732353e\" class=\"plotly-graph-div\" style=\"height:525px; width:100%;\"></div>            <script type=\"text/javascript\">                                    window.PLOTLYENV=window.PLOTLYENV || {};                                    if (document.getElementById(\"7e1eec78-3b55-418d-86ff-dc492732353e\")) {                    Plotly.newPlot(                        \"7e1eec78-3b55-418d-86ff-dc492732353e\",                        [{\"alignmentgroup\":\"True\",\"hovertemplate\":\"event_day=%{x}<br>count=%{y}<extra></extra>\",\"legendgroup\":\"\",\"marker\":{\"color\":\"#636efa\",\"pattern\":{\"shape\":\"\"}},\"name\":\"\",\"offsetgroup\":\"\",\"orientation\":\"v\",\"showlegend\":false,\"textposition\":\"auto\",\"x\":[\"2020-12-07\",\"2020-12-08\",\"2020-12-09\",\"2020-12-10\",\"2020-12-11\",\"2020-12-12\",\"2020-12-13\",\"2020-12-14\",\"2020-12-15\",\"2020-12-16\",\"2020-12-17\",\"2020-12-18\",\"2020-12-19\",\"2020-12-20\",\"2020-12-21\",\"2020-12-22\",\"2020-12-23\",\"2020-12-24\",\"2020-12-25\",\"2020-12-26\",\"2020-12-27\",\"2020-12-28\",\"2020-12-29\"],\"xaxis\":\"x\",\"y\":[276,311,345,313,327,328,293,948,969,932,1098,1153,1338,1392,1785,1156,866,738,558,497,467,348,254],\"yaxis\":\"y\",\"type\":\"bar\"}],                        {\"template\":{\"data\":{\"bar\":[{\"error_x\":{\"color\":\"#2a3f5f\"},\"error_y\":{\"color\":\"#2a3f5f\"},\"marker\":{\"line\":{\"color\":\"#E5ECF6\",\"width\":0.5},\"pattern\":{\"fillmode\":\"overlay\",\"size\":10,\"solidity\":0.2}},\"type\":\"bar\"}],\"barpolar\":[{\"marker\":{\"line\":{\"color\":\"#E5ECF6\",\"width\":0.5},\"pattern\":{\"fillmode\":\"overlay\",\"size\":10,\"solidity\":0.2}},\"type\":\"barpolar\"}],\"carpet\":[{\"aaxis\":{\"endlinecolor\":\"#2a3f5f\",\"gridcolor\":\"white\",\"linecolor\":\"white\",\"minorgridcolor\":\"white\",\"startlinecolor\":\"#2a3f5f\"},\"baxis\":{\"endlinecolor\":\"#2a3f5f\",\"gridcolor\":\"white\",\"linecolor\":\"white\",\"minorgridcolor\":\"white\",\"startlinecolor\":\"#2a3f5f\"},\"type\":\"carpet\"}],\"choropleth\":[{\"colorbar\":{\"outlinewidth\":0,\"ticks\":\"\"},\"type\":\"choropleth\"}],\"contour\":[{\"colorbar\":{\"outlinewidth\":0,\"ticks\":\"\"},\"colorscale\":[[0.0,\"#0d0887\"],[0.1111111111111111,\"#46039f\"],[0.2222222222222222,\"#7201a8\"],[0.3333333333333333,\"#9c179e\"],[0.4444444444444444,\"#bd3786\"],[0.5555555555555556,\"#d8576b\"],[0.6666666666666666,\"#ed7953\"],[0.7777777777777778,\"#fb9f3a\"],[0.8888888888888888,\"#fdca26\"],[1.0,\"#f0f921\"]],\"type\":\"contour\"}],\"contourcarpet\":[{\"colorbar\":{\"outlinewidth\":0,\"ticks\":\"\"},\"type\":\"contourcarpet\"}],\"heatmap\":[{\"colorbar\":{\"outlinewidth\":0,\"ticks\":\"\"},\"colorscale\":[[0.0,\"#0d0887\"],[0.1111111111111111,\"#46039f\"],[0.2222222222222222,\"#7201a8\"],[0.3333333333333333,\"#9c179e\"],[0.4444444444444444,\"#bd3786\"],[0.5555555555555556,\"#d8576b\"],[0.6666666666666666,\"#ed7953\"],[0.7777777777777778,\"#fb9f3a\"],[0.8888888888888888,\"#fdca26\"],[1.0,\"#f0f921\"]],\"type\":\"heatmap\"}],\"heatmapgl\":[{\"colorbar\":{\"outlinewidth\":0,\"ticks\":\"\"},\"colorscale\":[[0.0,\"#0d0887\"],[0.1111111111111111,\"#46039f\"],[0.2222222222222222,\"#7201a8\"],[0.3333333333333333,\"#9c179e\"],[0.4444444444444444,\"#bd3786\"],[0.5555555555555556,\"#d8576b\"],[0.6666666666666666,\"#ed7953\"],[0.7777777777777778,\"#fb9f3a\"],[0.8888888888888888,\"#fdca26\"],[1.0,\"#f0f921\"]],\"type\":\"heatmapgl\"}],\"histogram\":[{\"marker\":{\"pattern\":{\"fillmode\":\"overlay\",\"size\":10,\"solidity\":0.2}},\"type\":\"histogram\"}],\"histogram2d\":[{\"colorbar\":{\"outlinewidth\":0,\"ticks\":\"\"},\"colorscale\":[[0.0,\"#0d0887\"],[0.1111111111111111,\"#46039f\"],[0.2222222222222222,\"#7201a8\"],[0.3333333333333333,\"#9c179e\"],[0.4444444444444444,\"#bd3786\"],[0.5555555555555556,\"#d8576b\"],[0.6666666666666666,\"#ed7953\"],[0.7777777777777778,\"#fb9f3a\"],[0.8888888888888888,\"#fdca26\"],[1.0,\"#f0f921\"]],\"type\":\"histogram2d\"}],\"histogram2dcontour\":[{\"colorbar\":{\"outlinewidth\":0,\"ticks\":\"\"},\"colorscale\":[[0.0,\"#0d0887\"],[0.1111111111111111,\"#46039f\"],[0.2222222222222222,\"#7201a8\"],[0.3333333333333333,\"#9c179e\"],[0.4444444444444444,\"#bd3786\"],[0.5555555555555556,\"#d8576b\"],[0.6666666666666666,\"#ed7953\"],[0.7777777777777778,\"#fb9f3a\"],[0.8888888888888888,\"#fdca26\"],[1.0,\"#f0f921\"]],\"type\":\"histogram2dcontour\"}],\"mesh3d\":[{\"colorbar\":{\"outlinewidth\":0,\"ticks\":\"\"},\"type\":\"mesh3d\"}],\"parcoords\":[{\"line\":{\"colorbar\":{\"outlinewidth\":0,\"ticks\":\"\"}},\"type\":\"parcoords\"}],\"pie\":[{\"automargin\":true,\"type\":\"pie\"}],\"scatter\":[{\"marker\":{\"colorbar\":{\"outlinewidth\":0,\"ticks\":\"\"}},\"type\":\"scatter\"}],\"scatter3d\":[{\"line\":{\"colorbar\":{\"outlinewidth\":0,\"ticks\":\"\"}},\"marker\":{\"colorbar\":{\"outlinewidth\":0,\"ticks\":\"\"}},\"type\":\"scatter3d\"}],\"scattercarpet\":[{\"marker\":{\"colorbar\":{\"outlinewidth\":0,\"ticks\":\"\"}},\"type\":\"scattercarpet\"}],\"scattergeo\":[{\"marker\":{\"colorbar\":{\"outlinewidth\":0,\"ticks\":\"\"}},\"type\":\"scattergeo\"}],\"scattergl\":[{\"marker\":{\"colorbar\":{\"outlinewidth\":0,\"ticks\":\"\"}},\"type\":\"scattergl\"}],\"scattermapbox\":[{\"marker\":{\"colorbar\":{\"outlinewidth\":0,\"ticks\":\"\"}},\"type\":\"scattermapbox\"}],\"scatterpolar\":[{\"marker\":{\"colorbar\":{\"outlinewidth\":0,\"ticks\":\"\"}},\"type\":\"scatterpolar\"}],\"scatterpolargl\":[{\"marker\":{\"colorbar\":{\"outlinewidth\":0,\"ticks\":\"\"}},\"type\":\"scatterpolargl\"}],\"scatterternary\":[{\"marker\":{\"colorbar\":{\"outlinewidth\":0,\"ticks\":\"\"}},\"type\":\"scatterternary\"}],\"surface\":[{\"colorbar\":{\"outlinewidth\":0,\"ticks\":\"\"},\"colorscale\":[[0.0,\"#0d0887\"],[0.1111111111111111,\"#46039f\"],[0.2222222222222222,\"#7201a8\"],[0.3333333333333333,\"#9c179e\"],[0.4444444444444444,\"#bd3786\"],[0.5555555555555556,\"#d8576b\"],[0.6666666666666666,\"#ed7953\"],[0.7777777777777778,\"#fb9f3a\"],[0.8888888888888888,\"#fdca26\"],[1.0,\"#f0f921\"]],\"type\":\"surface\"}],\"table\":[{\"cells\":{\"fill\":{\"color\":\"#EBF0F8\"},\"line\":{\"color\":\"white\"}},\"header\":{\"fill\":{\"color\":\"#C8D4E3\"},\"line\":{\"color\":\"white\"}},\"type\":\"table\"}]},\"layout\":{\"annotationdefaults\":{\"arrowcolor\":\"#2a3f5f\",\"arrowhead\":0,\"arrowwidth\":1},\"autotypenumbers\":\"strict\",\"coloraxis\":{\"colorbar\":{\"outlinewidth\":0,\"ticks\":\"\"}},\"colorscale\":{\"diverging\":[[0,\"#8e0152\"],[0.1,\"#c51b7d\"],[0.2,\"#de77ae\"],[0.3,\"#f1b6da\"],[0.4,\"#fde0ef\"],[0.5,\"#f7f7f7\"],[0.6,\"#e6f5d0\"],[0.7,\"#b8e186\"],[0.8,\"#7fbc41\"],[0.9,\"#4d9221\"],[1,\"#276419\"]],\"sequential\":[[0.0,\"#0d0887\"],[0.1111111111111111,\"#46039f\"],[0.2222222222222222,\"#7201a8\"],[0.3333333333333333,\"#9c179e\"],[0.4444444444444444,\"#bd3786\"],[0.5555555555555556,\"#d8576b\"],[0.6666666666666666,\"#ed7953\"],[0.7777777777777778,\"#fb9f3a\"],[0.8888888888888888,\"#fdca26\"],[1.0,\"#f0f921\"]],\"sequentialminus\":[[0.0,\"#0d0887\"],[0.1111111111111111,\"#46039f\"],[0.2222222222222222,\"#7201a8\"],[0.3333333333333333,\"#9c179e\"],[0.4444444444444444,\"#bd3786\"],[0.5555555555555556,\"#d8576b\"],[0.6666666666666666,\"#ed7953\"],[0.7777777777777778,\"#fb9f3a\"],[0.8888888888888888,\"#fdca26\"],[1.0,\"#f0f921\"]]},\"colorway\":[\"#636efa\",\"#EF553B\",\"#00cc96\",\"#ab63fa\",\"#FFA15A\",\"#19d3f3\",\"#FF6692\",\"#B6E880\",\"#FF97FF\",\"#FECB52\"],\"font\":{\"color\":\"#2a3f5f\"},\"geo\":{\"bgcolor\":\"white\",\"lakecolor\":\"white\",\"landcolor\":\"#E5ECF6\",\"showlakes\":true,\"showland\":true,\"subunitcolor\":\"white\"},\"hoverlabel\":{\"align\":\"left\"},\"hovermode\":\"closest\",\"mapbox\":{\"style\":\"light\"},\"paper_bgcolor\":\"white\",\"plot_bgcolor\":\"#E5ECF6\",\"polar\":{\"angularaxis\":{\"gridcolor\":\"white\",\"linecolor\":\"white\",\"ticks\":\"\"},\"bgcolor\":\"#E5ECF6\",\"radialaxis\":{\"gridcolor\":\"white\",\"linecolor\":\"white\",\"ticks\":\"\"}},\"scene\":{\"xaxis\":{\"backgroundcolor\":\"#E5ECF6\",\"gridcolor\":\"white\",\"gridwidth\":2,\"linecolor\":\"white\",\"showbackground\":true,\"ticks\":\"\",\"zerolinecolor\":\"white\"},\"yaxis\":{\"backgroundcolor\":\"#E5ECF6\",\"gridcolor\":\"white\",\"gridwidth\":2,\"linecolor\":\"white\",\"showbackground\":true,\"ticks\":\"\",\"zerolinecolor\":\"white\"},\"zaxis\":{\"backgroundcolor\":\"#E5ECF6\",\"gridcolor\":\"white\",\"gridwidth\":2,\"linecolor\":\"white\",\"showbackground\":true,\"ticks\":\"\",\"zerolinecolor\":\"white\"}},\"shapedefaults\":{\"line\":{\"color\":\"#2a3f5f\"}},\"ternary\":{\"aaxis\":{\"gridcolor\":\"white\",\"linecolor\":\"white\",\"ticks\":\"\"},\"baxis\":{\"gridcolor\":\"white\",\"linecolor\":\"white\",\"ticks\":\"\"},\"bgcolor\":\"#E5ECF6\",\"caxis\":{\"gridcolor\":\"white\",\"linecolor\":\"white\",\"ticks\":\"\"}},\"title\":{\"x\":0.05},\"xaxis\":{\"automargin\":true,\"gridcolor\":\"white\",\"linecolor\":\"white\",\"ticks\":\"\",\"title\":{\"standoff\":15},\"zerolinecolor\":\"white\",\"zerolinewidth\":2},\"yaxis\":{\"automargin\":true,\"gridcolor\":\"white\",\"linecolor\":\"white\",\"ticks\":\"\",\"title\":{\"standoff\":15},\"zerolinecolor\":\"white\",\"zerolinewidth\":2}}},\"xaxis\":{\"anchor\":\"y\",\"domain\":[0.0,1.0],\"title\":{\"text\":\"\\u0414\\u0430\\u0442\\u0430\"}},\"yaxis\":{\"anchor\":\"x\",\"domain\":[0.0,1.0],\"title\":{\"text\":\"\\u041a\\u043e\\u043b\\u0438\\u0447\\u0435\\u0441\\u0442\\u0432\\u043e \\u0441\\u043e\\u0431\\u044b\\u0442\\u0438\\u0439\"}},\"legend\":{\"tracegroupgap\":0},\"title\":{\"text\":\"\\u041a\\u043e\\u043b\\u0438\\u0447\\u0435\\u0441\\u0442\\u0432\\u043e \\u0441\\u043e\\u0431\\u044b\\u0442\\u0438\\u0439 \\u043f\\u043e \\u0434\\u043d\\u044f\\u043c group A\"},\"barmode\":\"relative\"},                        {\"responsive\": true}                    ).then(function(){\n",
              "                            \n",
              "var gd = document.getElementById('7e1eec78-3b55-418d-86ff-dc492732353e');\n",
              "var x = new MutationObserver(function (mutations, observer) {{\n",
              "        var display = window.getComputedStyle(gd).display;\n",
              "        if (!display || display === 'none') {{\n",
              "            console.log([gd, 'removed!']);\n",
              "            Plotly.purge(gd);\n",
              "            observer.disconnect();\n",
              "        }}\n",
              "}});\n",
              "\n",
              "// Listen for the removal of the full notebook cells\n",
              "var notebookContainer = gd.closest('#notebook-container');\n",
              "if (notebookContainer) {{\n",
              "    x.observe(notebookContainer, {childList: true});\n",
              "}}\n",
              "\n",
              "// Listen for the clearing of the current output cell\n",
              "var outputEl = gd.closest('.output');\n",
              "if (outputEl) {{\n",
              "    x.observe(outputEl, {childList: true});\n",
              "}}\n",
              "\n",
              "                        })                };                            </script>        </div>\n",
              "</body>\n",
              "</html>"
            ]
          },
          "metadata": {}
        }
      ],
      "source": [
        "fig = px.bar(t1, x=\"event_day\", y=\"count\", title=\"Количество событий по дням group A\")\n",
        "fig.update_layout(\n",
        "  xaxis_title='Дата',\n",
        "  yaxis_title='Количество событий',\n",
        ")\n",
        "\n",
        "fig.show()"
      ]
    },
    {
      "cell_type": "code",
      "execution_count": 49,
      "metadata": {
        "colab": {
          "base_uri": "https://localhost:8080/",
          "height": 542
        },
        "id": "KL7wFm4wi0tr",
        "outputId": "8ee7ac15-f786-46fd-a171-7690c21e19db"
      },
      "outputs": [
        {
          "output_type": "display_data",
          "data": {
            "text/html": [
              "<html>\n",
              "<head><meta charset=\"utf-8\" /></head>\n",
              "<body>\n",
              "    <div>            <script src=\"https://cdnjs.cloudflare.com/ajax/libs/mathjax/2.7.5/MathJax.js?config=TeX-AMS-MML_SVG\"></script><script type=\"text/javascript\">if (window.MathJax) {MathJax.Hub.Config({SVG: {font: \"STIX-Web\"}});}</script>                <script type=\"text/javascript\">window.PlotlyConfig = {MathJaxConfig: 'local'};</script>\n",
              "        <script src=\"https://cdn.plot.ly/plotly-2.8.3.min.js\"></script>                <div id=\"43b06242-f070-48fb-a261-835a2b33493f\" class=\"plotly-graph-div\" style=\"height:525px; width:100%;\"></div>            <script type=\"text/javascript\">                                    window.PLOTLYENV=window.PLOTLYENV || {};                                    if (document.getElementById(\"43b06242-f070-48fb-a261-835a2b33493f\")) {                    Plotly.newPlot(                        \"43b06242-f070-48fb-a261-835a2b33493f\",                        [{\"alignmentgroup\":\"True\",\"hovertemplate\":\"event_day=%{x}<br>count=%{y}<extra></extra>\",\"legendgroup\":\"\",\"marker\":{\"color\":\"#636efa\",\"pattern\":{\"shape\":\"\"}},\"name\":\"\",\"offsetgroup\":\"\",\"orientation\":\"v\",\"showlegend\":false,\"textposition\":\"auto\",\"x\":[\"2020-12-07\",\"2020-12-08\",\"2020-12-09\",\"2020-12-10\",\"2020-12-11\",\"2020-12-12\",\"2020-12-13\",\"2020-12-14\",\"2020-12-15\",\"2020-12-16\",\"2020-12-17\",\"2020-12-18\",\"2020-12-19\",\"2020-12-20\",\"2020-12-21\",\"2020-12-22\",\"2020-12-23\",\"2020-12-24\",\"2020-12-25\",\"2020-12-26\",\"2020-12-27\",\"2020-12-28\",\"2020-12-29\"],\"xaxis\":\"x\",\"y\":[331,214,322,227,146,184,157,238,209,338,260,248,281,285,358,157,137,110,63,61,61,53,36],\"yaxis\":\"y\",\"type\":\"bar\"}],                        {\"template\":{\"data\":{\"bar\":[{\"error_x\":{\"color\":\"#2a3f5f\"},\"error_y\":{\"color\":\"#2a3f5f\"},\"marker\":{\"line\":{\"color\":\"#E5ECF6\",\"width\":0.5},\"pattern\":{\"fillmode\":\"overlay\",\"size\":10,\"solidity\":0.2}},\"type\":\"bar\"}],\"barpolar\":[{\"marker\":{\"line\":{\"color\":\"#E5ECF6\",\"width\":0.5},\"pattern\":{\"fillmode\":\"overlay\",\"size\":10,\"solidity\":0.2}},\"type\":\"barpolar\"}],\"carpet\":[{\"aaxis\":{\"endlinecolor\":\"#2a3f5f\",\"gridcolor\":\"white\",\"linecolor\":\"white\",\"minorgridcolor\":\"white\",\"startlinecolor\":\"#2a3f5f\"},\"baxis\":{\"endlinecolor\":\"#2a3f5f\",\"gridcolor\":\"white\",\"linecolor\":\"white\",\"minorgridcolor\":\"white\",\"startlinecolor\":\"#2a3f5f\"},\"type\":\"carpet\"}],\"choropleth\":[{\"colorbar\":{\"outlinewidth\":0,\"ticks\":\"\"},\"type\":\"choropleth\"}],\"contour\":[{\"colorbar\":{\"outlinewidth\":0,\"ticks\":\"\"},\"colorscale\":[[0.0,\"#0d0887\"],[0.1111111111111111,\"#46039f\"],[0.2222222222222222,\"#7201a8\"],[0.3333333333333333,\"#9c179e\"],[0.4444444444444444,\"#bd3786\"],[0.5555555555555556,\"#d8576b\"],[0.6666666666666666,\"#ed7953\"],[0.7777777777777778,\"#fb9f3a\"],[0.8888888888888888,\"#fdca26\"],[1.0,\"#f0f921\"]],\"type\":\"contour\"}],\"contourcarpet\":[{\"colorbar\":{\"outlinewidth\":0,\"ticks\":\"\"},\"type\":\"contourcarpet\"}],\"heatmap\":[{\"colorbar\":{\"outlinewidth\":0,\"ticks\":\"\"},\"colorscale\":[[0.0,\"#0d0887\"],[0.1111111111111111,\"#46039f\"],[0.2222222222222222,\"#7201a8\"],[0.3333333333333333,\"#9c179e\"],[0.4444444444444444,\"#bd3786\"],[0.5555555555555556,\"#d8576b\"],[0.6666666666666666,\"#ed7953\"],[0.7777777777777778,\"#fb9f3a\"],[0.8888888888888888,\"#fdca26\"],[1.0,\"#f0f921\"]],\"type\":\"heatmap\"}],\"heatmapgl\":[{\"colorbar\":{\"outlinewidth\":0,\"ticks\":\"\"},\"colorscale\":[[0.0,\"#0d0887\"],[0.1111111111111111,\"#46039f\"],[0.2222222222222222,\"#7201a8\"],[0.3333333333333333,\"#9c179e\"],[0.4444444444444444,\"#bd3786\"],[0.5555555555555556,\"#d8576b\"],[0.6666666666666666,\"#ed7953\"],[0.7777777777777778,\"#fb9f3a\"],[0.8888888888888888,\"#fdca26\"],[1.0,\"#f0f921\"]],\"type\":\"heatmapgl\"}],\"histogram\":[{\"marker\":{\"pattern\":{\"fillmode\":\"overlay\",\"size\":10,\"solidity\":0.2}},\"type\":\"histogram\"}],\"histogram2d\":[{\"colorbar\":{\"outlinewidth\":0,\"ticks\":\"\"},\"colorscale\":[[0.0,\"#0d0887\"],[0.1111111111111111,\"#46039f\"],[0.2222222222222222,\"#7201a8\"],[0.3333333333333333,\"#9c179e\"],[0.4444444444444444,\"#bd3786\"],[0.5555555555555556,\"#d8576b\"],[0.6666666666666666,\"#ed7953\"],[0.7777777777777778,\"#fb9f3a\"],[0.8888888888888888,\"#fdca26\"],[1.0,\"#f0f921\"]],\"type\":\"histogram2d\"}],\"histogram2dcontour\":[{\"colorbar\":{\"outlinewidth\":0,\"ticks\":\"\"},\"colorscale\":[[0.0,\"#0d0887\"],[0.1111111111111111,\"#46039f\"],[0.2222222222222222,\"#7201a8\"],[0.3333333333333333,\"#9c179e\"],[0.4444444444444444,\"#bd3786\"],[0.5555555555555556,\"#d8576b\"],[0.6666666666666666,\"#ed7953\"],[0.7777777777777778,\"#fb9f3a\"],[0.8888888888888888,\"#fdca26\"],[1.0,\"#f0f921\"]],\"type\":\"histogram2dcontour\"}],\"mesh3d\":[{\"colorbar\":{\"outlinewidth\":0,\"ticks\":\"\"},\"type\":\"mesh3d\"}],\"parcoords\":[{\"line\":{\"colorbar\":{\"outlinewidth\":0,\"ticks\":\"\"}},\"type\":\"parcoords\"}],\"pie\":[{\"automargin\":true,\"type\":\"pie\"}],\"scatter\":[{\"marker\":{\"colorbar\":{\"outlinewidth\":0,\"ticks\":\"\"}},\"type\":\"scatter\"}],\"scatter3d\":[{\"line\":{\"colorbar\":{\"outlinewidth\":0,\"ticks\":\"\"}},\"marker\":{\"colorbar\":{\"outlinewidth\":0,\"ticks\":\"\"}},\"type\":\"scatter3d\"}],\"scattercarpet\":[{\"marker\":{\"colorbar\":{\"outlinewidth\":0,\"ticks\":\"\"}},\"type\":\"scattercarpet\"}],\"scattergeo\":[{\"marker\":{\"colorbar\":{\"outlinewidth\":0,\"ticks\":\"\"}},\"type\":\"scattergeo\"}],\"scattergl\":[{\"marker\":{\"colorbar\":{\"outlinewidth\":0,\"ticks\":\"\"}},\"type\":\"scattergl\"}],\"scattermapbox\":[{\"marker\":{\"colorbar\":{\"outlinewidth\":0,\"ticks\":\"\"}},\"type\":\"scattermapbox\"}],\"scatterpolar\":[{\"marker\":{\"colorbar\":{\"outlinewidth\":0,\"ticks\":\"\"}},\"type\":\"scatterpolar\"}],\"scatterpolargl\":[{\"marker\":{\"colorbar\":{\"outlinewidth\":0,\"ticks\":\"\"}},\"type\":\"scatterpolargl\"}],\"scatterternary\":[{\"marker\":{\"colorbar\":{\"outlinewidth\":0,\"ticks\":\"\"}},\"type\":\"scatterternary\"}],\"surface\":[{\"colorbar\":{\"outlinewidth\":0,\"ticks\":\"\"},\"colorscale\":[[0.0,\"#0d0887\"],[0.1111111111111111,\"#46039f\"],[0.2222222222222222,\"#7201a8\"],[0.3333333333333333,\"#9c179e\"],[0.4444444444444444,\"#bd3786\"],[0.5555555555555556,\"#d8576b\"],[0.6666666666666666,\"#ed7953\"],[0.7777777777777778,\"#fb9f3a\"],[0.8888888888888888,\"#fdca26\"],[1.0,\"#f0f921\"]],\"type\":\"surface\"}],\"table\":[{\"cells\":{\"fill\":{\"color\":\"#EBF0F8\"},\"line\":{\"color\":\"white\"}},\"header\":{\"fill\":{\"color\":\"#C8D4E3\"},\"line\":{\"color\":\"white\"}},\"type\":\"table\"}]},\"layout\":{\"annotationdefaults\":{\"arrowcolor\":\"#2a3f5f\",\"arrowhead\":0,\"arrowwidth\":1},\"autotypenumbers\":\"strict\",\"coloraxis\":{\"colorbar\":{\"outlinewidth\":0,\"ticks\":\"\"}},\"colorscale\":{\"diverging\":[[0,\"#8e0152\"],[0.1,\"#c51b7d\"],[0.2,\"#de77ae\"],[0.3,\"#f1b6da\"],[0.4,\"#fde0ef\"],[0.5,\"#f7f7f7\"],[0.6,\"#e6f5d0\"],[0.7,\"#b8e186\"],[0.8,\"#7fbc41\"],[0.9,\"#4d9221\"],[1,\"#276419\"]],\"sequential\":[[0.0,\"#0d0887\"],[0.1111111111111111,\"#46039f\"],[0.2222222222222222,\"#7201a8\"],[0.3333333333333333,\"#9c179e\"],[0.4444444444444444,\"#bd3786\"],[0.5555555555555556,\"#d8576b\"],[0.6666666666666666,\"#ed7953\"],[0.7777777777777778,\"#fb9f3a\"],[0.8888888888888888,\"#fdca26\"],[1.0,\"#f0f921\"]],\"sequentialminus\":[[0.0,\"#0d0887\"],[0.1111111111111111,\"#46039f\"],[0.2222222222222222,\"#7201a8\"],[0.3333333333333333,\"#9c179e\"],[0.4444444444444444,\"#bd3786\"],[0.5555555555555556,\"#d8576b\"],[0.6666666666666666,\"#ed7953\"],[0.7777777777777778,\"#fb9f3a\"],[0.8888888888888888,\"#fdca26\"],[1.0,\"#f0f921\"]]},\"colorway\":[\"#636efa\",\"#EF553B\",\"#00cc96\",\"#ab63fa\",\"#FFA15A\",\"#19d3f3\",\"#FF6692\",\"#B6E880\",\"#FF97FF\",\"#FECB52\"],\"font\":{\"color\":\"#2a3f5f\"},\"geo\":{\"bgcolor\":\"white\",\"lakecolor\":\"white\",\"landcolor\":\"#E5ECF6\",\"showlakes\":true,\"showland\":true,\"subunitcolor\":\"white\"},\"hoverlabel\":{\"align\":\"left\"},\"hovermode\":\"closest\",\"mapbox\":{\"style\":\"light\"},\"paper_bgcolor\":\"white\",\"plot_bgcolor\":\"#E5ECF6\",\"polar\":{\"angularaxis\":{\"gridcolor\":\"white\",\"linecolor\":\"white\",\"ticks\":\"\"},\"bgcolor\":\"#E5ECF6\",\"radialaxis\":{\"gridcolor\":\"white\",\"linecolor\":\"white\",\"ticks\":\"\"}},\"scene\":{\"xaxis\":{\"backgroundcolor\":\"#E5ECF6\",\"gridcolor\":\"white\",\"gridwidth\":2,\"linecolor\":\"white\",\"showbackground\":true,\"ticks\":\"\",\"zerolinecolor\":\"white\"},\"yaxis\":{\"backgroundcolor\":\"#E5ECF6\",\"gridcolor\":\"white\",\"gridwidth\":2,\"linecolor\":\"white\",\"showbackground\":true,\"ticks\":\"\",\"zerolinecolor\":\"white\"},\"zaxis\":{\"backgroundcolor\":\"#E5ECF6\",\"gridcolor\":\"white\",\"gridwidth\":2,\"linecolor\":\"white\",\"showbackground\":true,\"ticks\":\"\",\"zerolinecolor\":\"white\"}},\"shapedefaults\":{\"line\":{\"color\":\"#2a3f5f\"}},\"ternary\":{\"aaxis\":{\"gridcolor\":\"white\",\"linecolor\":\"white\",\"ticks\":\"\"},\"baxis\":{\"gridcolor\":\"white\",\"linecolor\":\"white\",\"ticks\":\"\"},\"bgcolor\":\"#E5ECF6\",\"caxis\":{\"gridcolor\":\"white\",\"linecolor\":\"white\",\"ticks\":\"\"}},\"title\":{\"x\":0.05},\"xaxis\":{\"automargin\":true,\"gridcolor\":\"white\",\"linecolor\":\"white\",\"ticks\":\"\",\"title\":{\"standoff\":15},\"zerolinecolor\":\"white\",\"zerolinewidth\":2},\"yaxis\":{\"automargin\":true,\"gridcolor\":\"white\",\"linecolor\":\"white\",\"ticks\":\"\",\"title\":{\"standoff\":15},\"zerolinecolor\":\"white\",\"zerolinewidth\":2}}},\"xaxis\":{\"anchor\":\"y\",\"domain\":[0.0,1.0],\"title\":{\"text\":\"\\u0414\\u0430\\u0442\\u0430\"}},\"yaxis\":{\"anchor\":\"x\",\"domain\":[0.0,1.0],\"title\":{\"text\":\"\\u041a\\u043e\\u043b\\u0438\\u0447\\u0435\\u0441\\u0442\\u0432\\u043e \\u0441\\u043e\\u0431\\u044b\\u0442\\u0438\\u0439\"}},\"legend\":{\"tracegroupgap\":0},\"title\":{\"text\":\"\\u041a\\u043e\\u043b\\u0438\\u0447\\u0435\\u0441\\u0442\\u0432\\u043e \\u0441\\u043e\\u0431\\u044b\\u0442\\u0438\\u0439 \\u043f\\u043e \\u0434\\u043d\\u044f\\u043c group B\"},\"barmode\":\"relative\"},                        {\"responsive\": true}                    ).then(function(){\n",
              "                            \n",
              "var gd = document.getElementById('43b06242-f070-48fb-a261-835a2b33493f');\n",
              "var x = new MutationObserver(function (mutations, observer) {{\n",
              "        var display = window.getComputedStyle(gd).display;\n",
              "        if (!display || display === 'none') {{\n",
              "            console.log([gd, 'removed!']);\n",
              "            Plotly.purge(gd);\n",
              "            observer.disconnect();\n",
              "        }}\n",
              "}});\n",
              "\n",
              "// Listen for the removal of the full notebook cells\n",
              "var notebookContainer = gd.closest('#notebook-container');\n",
              "if (notebookContainer) {{\n",
              "    x.observe(notebookContainer, {childList: true});\n",
              "}}\n",
              "\n",
              "// Listen for the clearing of the current output cell\n",
              "var outputEl = gd.closest('.output');\n",
              "if (outputEl) {{\n",
              "    x.observe(outputEl, {childList: true});\n",
              "}}\n",
              "\n",
              "                        })                };                            </script>        </div>\n",
              "</body>\n",
              "</html>"
            ]
          },
          "metadata": {}
        }
      ],
      "source": [
        "fig = px.bar(t2, x=\"event_day\", y=\"count\",title=\"Количество событий по дням group B\")\n",
        "fig.update_layout(\n",
        "  xaxis_title='Дата',\n",
        "  yaxis_title='Количество событий'\n",
        ")\n",
        "\n",
        "fig.show()"
      ]
    },
    {
      "cell_type": "markdown",
      "metadata": {
        "id": "ZlXpkWZBnorI"
      },
      "source": [
        "Максимум событий в обоих группах 21 декабря. В группе А этот пик единственный, а в группе В есть еще несколько дней с почти таким же количеством событий."
      ]
    },
    {
      "cell_type": "markdown",
      "metadata": {
        "id": "tB39jKO7pkFQ"
      },
      "source": [
        "### Как меняется конверсия в воронке в выборках на разных этапах?"
      ]
    },
    {
      "cell_type": "code",
      "execution_count": 50,
      "metadata": {
        "colab": {
          "base_uri": "https://localhost:8080/",
          "height": 175
        },
        "id": "LIr_StdO59yz",
        "outputId": "905d6bc6-497f-4209-fece-f4676f426661"
      },
      "outputs": [
        {
          "output_type": "execute_result",
          "data": {
            "text/plain": [
              "     event_name  number_of_users  user_share\n",
              "0         login             2422      1.0000\n",
              "1  product_page             1571      0.6486\n",
              "2      purchase              773      0.3192\n",
              "3  product_cart              728      0.3006"
            ],
            "text/html": [
              "\n",
              "  <div id=\"df-c9b15e53-6c29-4113-b897-2d17d17b15aa\">\n",
              "    <div class=\"colab-df-container\">\n",
              "      <div>\n",
              "<style scoped>\n",
              "    .dataframe tbody tr th:only-of-type {\n",
              "        vertical-align: middle;\n",
              "    }\n",
              "\n",
              "    .dataframe tbody tr th {\n",
              "        vertical-align: top;\n",
              "    }\n",
              "\n",
              "    .dataframe thead th {\n",
              "        text-align: right;\n",
              "    }\n",
              "</style>\n",
              "<table border=\"1\" class=\"dataframe\">\n",
              "  <thead>\n",
              "    <tr style=\"text-align: right;\">\n",
              "      <th></th>\n",
              "      <th>event_name</th>\n",
              "      <th>number_of_users</th>\n",
              "      <th>user_share</th>\n",
              "    </tr>\n",
              "  </thead>\n",
              "  <tbody>\n",
              "    <tr>\n",
              "      <th>0</th>\n",
              "      <td>login</td>\n",
              "      <td>2422</td>\n",
              "      <td>1.0000</td>\n",
              "    </tr>\n",
              "    <tr>\n",
              "      <th>1</th>\n",
              "      <td>product_page</td>\n",
              "      <td>1571</td>\n",
              "      <td>0.6486</td>\n",
              "    </tr>\n",
              "    <tr>\n",
              "      <th>2</th>\n",
              "      <td>purchase</td>\n",
              "      <td>773</td>\n",
              "      <td>0.3192</td>\n",
              "    </tr>\n",
              "    <tr>\n",
              "      <th>3</th>\n",
              "      <td>product_cart</td>\n",
              "      <td>728</td>\n",
              "      <td>0.3006</td>\n",
              "    </tr>\n",
              "  </tbody>\n",
              "</table>\n",
              "</div>\n",
              "      <button class=\"colab-df-convert\" onclick=\"convertToInteractive('df-c9b15e53-6c29-4113-b897-2d17d17b15aa')\"\n",
              "              title=\"Convert this dataframe to an interactive table.\"\n",
              "              style=\"display:none;\">\n",
              "        \n",
              "  <svg xmlns=\"http://www.w3.org/2000/svg\" height=\"24px\"viewBox=\"0 0 24 24\"\n",
              "       width=\"24px\">\n",
              "    <path d=\"M0 0h24v24H0V0z\" fill=\"none\"/>\n",
              "    <path d=\"M18.56 5.44l.94 2.06.94-2.06 2.06-.94-2.06-.94-.94-2.06-.94 2.06-2.06.94zm-11 1L8.5 8.5l.94-2.06 2.06-.94-2.06-.94L8.5 2.5l-.94 2.06-2.06.94zm10 10l.94 2.06.94-2.06 2.06-.94-2.06-.94-.94-2.06-.94 2.06-2.06.94z\"/><path d=\"M17.41 7.96l-1.37-1.37c-.4-.4-.92-.59-1.43-.59-.52 0-1.04.2-1.43.59L10.3 9.45l-7.72 7.72c-.78.78-.78 2.05 0 2.83L4 21.41c.39.39.9.59 1.41.59.51 0 1.02-.2 1.41-.59l7.78-7.78 2.81-2.81c.8-.78.8-2.07 0-2.86zM5.41 20L4 18.59l7.72-7.72 1.47 1.35L5.41 20z\"/>\n",
              "  </svg>\n",
              "      </button>\n",
              "      \n",
              "  <style>\n",
              "    .colab-df-container {\n",
              "      display:flex;\n",
              "      flex-wrap:wrap;\n",
              "      gap: 12px;\n",
              "    }\n",
              "\n",
              "    .colab-df-convert {\n",
              "      background-color: #E8F0FE;\n",
              "      border: none;\n",
              "      border-radius: 50%;\n",
              "      cursor: pointer;\n",
              "      display: none;\n",
              "      fill: #1967D2;\n",
              "      height: 32px;\n",
              "      padding: 0 0 0 0;\n",
              "      width: 32px;\n",
              "    }\n",
              "\n",
              "    .colab-df-convert:hover {\n",
              "      background-color: #E2EBFA;\n",
              "      box-shadow: 0px 1px 2px rgba(60, 64, 67, 0.3), 0px 1px 3px 1px rgba(60, 64, 67, 0.15);\n",
              "      fill: #174EA6;\n",
              "    }\n",
              "\n",
              "    [theme=dark] .colab-df-convert {\n",
              "      background-color: #3B4455;\n",
              "      fill: #D2E3FC;\n",
              "    }\n",
              "\n",
              "    [theme=dark] .colab-df-convert:hover {\n",
              "      background-color: #434B5C;\n",
              "      box-shadow: 0px 1px 3px 1px rgba(0, 0, 0, 0.15);\n",
              "      filter: drop-shadow(0px 1px 2px rgba(0, 0, 0, 0.3));\n",
              "      fill: #FFFFFF;\n",
              "    }\n",
              "  </style>\n",
              "\n",
              "      <script>\n",
              "        const buttonEl =\n",
              "          document.querySelector('#df-c9b15e53-6c29-4113-b897-2d17d17b15aa button.colab-df-convert');\n",
              "        buttonEl.style.display =\n",
              "          google.colab.kernel.accessAllowed ? 'block' : 'none';\n",
              "\n",
              "        async function convertToInteractive(key) {\n",
              "          const element = document.querySelector('#df-c9b15e53-6c29-4113-b897-2d17d17b15aa');\n",
              "          const dataTable =\n",
              "            await google.colab.kernel.invokeFunction('convertToInteractive',\n",
              "                                                     [key], {});\n",
              "          if (!dataTable) return;\n",
              "\n",
              "          const docLinkHtml = 'Like what you see? Visit the ' +\n",
              "            '<a target=\"_blank\" href=https://colab.research.google.com/notebooks/data_table.ipynb>data table notebook</a>'\n",
              "            + ' to learn more about interactive tables.';\n",
              "          element.innerHTML = '';\n",
              "          dataTable['output_type'] = 'display_data';\n",
              "          await google.colab.output.renderOutput(dataTable, element);\n",
              "          const docLink = document.createElement('div');\n",
              "          docLink.innerHTML = docLinkHtml;\n",
              "          element.appendChild(docLink);\n",
              "        }\n",
              "      </script>\n",
              "    </div>\n",
              "  </div>\n",
              "  "
            ]
          },
          "metadata": {},
          "execution_count": 50
        }
      ],
      "source": [
        "t1 = sample_a.groupby('event_name').agg(number_of_users = ('user_id', 'nunique')).sort_values('number_of_users', ascending=False).assign(user_share = lambda x: x['number_of_users'] / sample_a['user_id'].nunique()).reset_index()\n",
        "t1"
      ]
    },
    {
      "cell_type": "code",
      "execution_count": 51,
      "metadata": {
        "colab": {
          "base_uri": "https://localhost:8080/",
          "height": 175
        },
        "id": "RtMNPkirCpOP",
        "outputId": "20589b21-03df-4f1f-daf3-67a2b1b88efe"
      },
      "outputs": [
        {
          "output_type": "execute_result",
          "data": {
            "text/plain": [
              "     event_name  number_of_users  user_share\n",
              "0         login             2422      1.0000\n",
              "1  product_page             1571      0.6486\n",
              "3  product_cart              728      0.3006\n",
              "2      purchase              773      0.3192"
            ],
            "text/html": [
              "\n",
              "  <div id=\"df-4babe88b-c455-43d2-8244-9fdb3af590d4\">\n",
              "    <div class=\"colab-df-container\">\n",
              "      <div>\n",
              "<style scoped>\n",
              "    .dataframe tbody tr th:only-of-type {\n",
              "        vertical-align: middle;\n",
              "    }\n",
              "\n",
              "    .dataframe tbody tr th {\n",
              "        vertical-align: top;\n",
              "    }\n",
              "\n",
              "    .dataframe thead th {\n",
              "        text-align: right;\n",
              "    }\n",
              "</style>\n",
              "<table border=\"1\" class=\"dataframe\">\n",
              "  <thead>\n",
              "    <tr style=\"text-align: right;\">\n",
              "      <th></th>\n",
              "      <th>event_name</th>\n",
              "      <th>number_of_users</th>\n",
              "      <th>user_share</th>\n",
              "    </tr>\n",
              "  </thead>\n",
              "  <tbody>\n",
              "    <tr>\n",
              "      <th>0</th>\n",
              "      <td>login</td>\n",
              "      <td>2422</td>\n",
              "      <td>1.0000</td>\n",
              "    </tr>\n",
              "    <tr>\n",
              "      <th>1</th>\n",
              "      <td>product_page</td>\n",
              "      <td>1571</td>\n",
              "      <td>0.6486</td>\n",
              "    </tr>\n",
              "    <tr>\n",
              "      <th>3</th>\n",
              "      <td>product_cart</td>\n",
              "      <td>728</td>\n",
              "      <td>0.3006</td>\n",
              "    </tr>\n",
              "    <tr>\n",
              "      <th>2</th>\n",
              "      <td>purchase</td>\n",
              "      <td>773</td>\n",
              "      <td>0.3192</td>\n",
              "    </tr>\n",
              "  </tbody>\n",
              "</table>\n",
              "</div>\n",
              "      <button class=\"colab-df-convert\" onclick=\"convertToInteractive('df-4babe88b-c455-43d2-8244-9fdb3af590d4')\"\n",
              "              title=\"Convert this dataframe to an interactive table.\"\n",
              "              style=\"display:none;\">\n",
              "        \n",
              "  <svg xmlns=\"http://www.w3.org/2000/svg\" height=\"24px\"viewBox=\"0 0 24 24\"\n",
              "       width=\"24px\">\n",
              "    <path d=\"M0 0h24v24H0V0z\" fill=\"none\"/>\n",
              "    <path d=\"M18.56 5.44l.94 2.06.94-2.06 2.06-.94-2.06-.94-.94-2.06-.94 2.06-2.06.94zm-11 1L8.5 8.5l.94-2.06 2.06-.94-2.06-.94L8.5 2.5l-.94 2.06-2.06.94zm10 10l.94 2.06.94-2.06 2.06-.94-2.06-.94-.94-2.06-.94 2.06-2.06.94z\"/><path d=\"M17.41 7.96l-1.37-1.37c-.4-.4-.92-.59-1.43-.59-.52 0-1.04.2-1.43.59L10.3 9.45l-7.72 7.72c-.78.78-.78 2.05 0 2.83L4 21.41c.39.39.9.59 1.41.59.51 0 1.02-.2 1.41-.59l7.78-7.78 2.81-2.81c.8-.78.8-2.07 0-2.86zM5.41 20L4 18.59l7.72-7.72 1.47 1.35L5.41 20z\"/>\n",
              "  </svg>\n",
              "      </button>\n",
              "      \n",
              "  <style>\n",
              "    .colab-df-container {\n",
              "      display:flex;\n",
              "      flex-wrap:wrap;\n",
              "      gap: 12px;\n",
              "    }\n",
              "\n",
              "    .colab-df-convert {\n",
              "      background-color: #E8F0FE;\n",
              "      border: none;\n",
              "      border-radius: 50%;\n",
              "      cursor: pointer;\n",
              "      display: none;\n",
              "      fill: #1967D2;\n",
              "      height: 32px;\n",
              "      padding: 0 0 0 0;\n",
              "      width: 32px;\n",
              "    }\n",
              "\n",
              "    .colab-df-convert:hover {\n",
              "      background-color: #E2EBFA;\n",
              "      box-shadow: 0px 1px 2px rgba(60, 64, 67, 0.3), 0px 1px 3px 1px rgba(60, 64, 67, 0.15);\n",
              "      fill: #174EA6;\n",
              "    }\n",
              "\n",
              "    [theme=dark] .colab-df-convert {\n",
              "      background-color: #3B4455;\n",
              "      fill: #D2E3FC;\n",
              "    }\n",
              "\n",
              "    [theme=dark] .colab-df-convert:hover {\n",
              "      background-color: #434B5C;\n",
              "      box-shadow: 0px 1px 3px 1px rgba(0, 0, 0, 0.15);\n",
              "      filter: drop-shadow(0px 1px 2px rgba(0, 0, 0, 0.3));\n",
              "      fill: #FFFFFF;\n",
              "    }\n",
              "  </style>\n",
              "\n",
              "      <script>\n",
              "        const buttonEl =\n",
              "          document.querySelector('#df-4babe88b-c455-43d2-8244-9fdb3af590d4 button.colab-df-convert');\n",
              "        buttonEl.style.display =\n",
              "          google.colab.kernel.accessAllowed ? 'block' : 'none';\n",
              "\n",
              "        async function convertToInteractive(key) {\n",
              "          const element = document.querySelector('#df-4babe88b-c455-43d2-8244-9fdb3af590d4');\n",
              "          const dataTable =\n",
              "            await google.colab.kernel.invokeFunction('convertToInteractive',\n",
              "                                                     [key], {});\n",
              "          if (!dataTable) return;\n",
              "\n",
              "          const docLinkHtml = 'Like what you see? Visit the ' +\n",
              "            '<a target=\"_blank\" href=https://colab.research.google.com/notebooks/data_table.ipynb>data table notebook</a>'\n",
              "            + ' to learn more about interactive tables.';\n",
              "          element.innerHTML = '';\n",
              "          dataTable['output_type'] = 'display_data';\n",
              "          await google.colab.output.renderOutput(dataTable, element);\n",
              "          const docLink = document.createElement('div');\n",
              "          docLink.innerHTML = docLinkHtml;\n",
              "          element.appendChild(docLink);\n",
              "        }\n",
              "      </script>\n",
              "    </div>\n",
              "  </div>\n",
              "  "
            ]
          },
          "metadata": {},
          "execution_count": 51
        }
      ],
      "source": [
        "t1 = t1.reindex([0, 1, 3, 2])\n",
        "t1"
      ]
    },
    {
      "cell_type": "code",
      "execution_count": 52,
      "metadata": {
        "colab": {
          "base_uri": "https://localhost:8080/",
          "height": 175
        },
        "id": "ps6HT3AaSPwS",
        "outputId": "e14e5791-80f2-43fc-e1bf-dc78ef14583f"
      },
      "outputs": [
        {
          "output_type": "execute_result",
          "data": {
            "text/plain": [
              "     event_name  number_of_users  user_share\n",
              "0         login              811      0.9988\n",
              "1  product_page              461      0.5677\n",
              "2      purchase              228      0.2808\n",
              "3  product_cart              225      0.2771"
            ],
            "text/html": [
              "\n",
              "  <div id=\"df-c5a79daf-a2ec-4237-91ca-9e306273f342\">\n",
              "    <div class=\"colab-df-container\">\n",
              "      <div>\n",
              "<style scoped>\n",
              "    .dataframe tbody tr th:only-of-type {\n",
              "        vertical-align: middle;\n",
              "    }\n",
              "\n",
              "    .dataframe tbody tr th {\n",
              "        vertical-align: top;\n",
              "    }\n",
              "\n",
              "    .dataframe thead th {\n",
              "        text-align: right;\n",
              "    }\n",
              "</style>\n",
              "<table border=\"1\" class=\"dataframe\">\n",
              "  <thead>\n",
              "    <tr style=\"text-align: right;\">\n",
              "      <th></th>\n",
              "      <th>event_name</th>\n",
              "      <th>number_of_users</th>\n",
              "      <th>user_share</th>\n",
              "    </tr>\n",
              "  </thead>\n",
              "  <tbody>\n",
              "    <tr>\n",
              "      <th>0</th>\n",
              "      <td>login</td>\n",
              "      <td>811</td>\n",
              "      <td>0.9988</td>\n",
              "    </tr>\n",
              "    <tr>\n",
              "      <th>1</th>\n",
              "      <td>product_page</td>\n",
              "      <td>461</td>\n",
              "      <td>0.5677</td>\n",
              "    </tr>\n",
              "    <tr>\n",
              "      <th>2</th>\n",
              "      <td>purchase</td>\n",
              "      <td>228</td>\n",
              "      <td>0.2808</td>\n",
              "    </tr>\n",
              "    <tr>\n",
              "      <th>3</th>\n",
              "      <td>product_cart</td>\n",
              "      <td>225</td>\n",
              "      <td>0.2771</td>\n",
              "    </tr>\n",
              "  </tbody>\n",
              "</table>\n",
              "</div>\n",
              "      <button class=\"colab-df-convert\" onclick=\"convertToInteractive('df-c5a79daf-a2ec-4237-91ca-9e306273f342')\"\n",
              "              title=\"Convert this dataframe to an interactive table.\"\n",
              "              style=\"display:none;\">\n",
              "        \n",
              "  <svg xmlns=\"http://www.w3.org/2000/svg\" height=\"24px\"viewBox=\"0 0 24 24\"\n",
              "       width=\"24px\">\n",
              "    <path d=\"M0 0h24v24H0V0z\" fill=\"none\"/>\n",
              "    <path d=\"M18.56 5.44l.94 2.06.94-2.06 2.06-.94-2.06-.94-.94-2.06-.94 2.06-2.06.94zm-11 1L8.5 8.5l.94-2.06 2.06-.94-2.06-.94L8.5 2.5l-.94 2.06-2.06.94zm10 10l.94 2.06.94-2.06 2.06-.94-2.06-.94-.94-2.06-.94 2.06-2.06.94z\"/><path d=\"M17.41 7.96l-1.37-1.37c-.4-.4-.92-.59-1.43-.59-.52 0-1.04.2-1.43.59L10.3 9.45l-7.72 7.72c-.78.78-.78 2.05 0 2.83L4 21.41c.39.39.9.59 1.41.59.51 0 1.02-.2 1.41-.59l7.78-7.78 2.81-2.81c.8-.78.8-2.07 0-2.86zM5.41 20L4 18.59l7.72-7.72 1.47 1.35L5.41 20z\"/>\n",
              "  </svg>\n",
              "      </button>\n",
              "      \n",
              "  <style>\n",
              "    .colab-df-container {\n",
              "      display:flex;\n",
              "      flex-wrap:wrap;\n",
              "      gap: 12px;\n",
              "    }\n",
              "\n",
              "    .colab-df-convert {\n",
              "      background-color: #E8F0FE;\n",
              "      border: none;\n",
              "      border-radius: 50%;\n",
              "      cursor: pointer;\n",
              "      display: none;\n",
              "      fill: #1967D2;\n",
              "      height: 32px;\n",
              "      padding: 0 0 0 0;\n",
              "      width: 32px;\n",
              "    }\n",
              "\n",
              "    .colab-df-convert:hover {\n",
              "      background-color: #E2EBFA;\n",
              "      box-shadow: 0px 1px 2px rgba(60, 64, 67, 0.3), 0px 1px 3px 1px rgba(60, 64, 67, 0.15);\n",
              "      fill: #174EA6;\n",
              "    }\n",
              "\n",
              "    [theme=dark] .colab-df-convert {\n",
              "      background-color: #3B4455;\n",
              "      fill: #D2E3FC;\n",
              "    }\n",
              "\n",
              "    [theme=dark] .colab-df-convert:hover {\n",
              "      background-color: #434B5C;\n",
              "      box-shadow: 0px 1px 3px 1px rgba(0, 0, 0, 0.15);\n",
              "      filter: drop-shadow(0px 1px 2px rgba(0, 0, 0, 0.3));\n",
              "      fill: #FFFFFF;\n",
              "    }\n",
              "  </style>\n",
              "\n",
              "      <script>\n",
              "        const buttonEl =\n",
              "          document.querySelector('#df-c5a79daf-a2ec-4237-91ca-9e306273f342 button.colab-df-convert');\n",
              "        buttonEl.style.display =\n",
              "          google.colab.kernel.accessAllowed ? 'block' : 'none';\n",
              "\n",
              "        async function convertToInteractive(key) {\n",
              "          const element = document.querySelector('#df-c5a79daf-a2ec-4237-91ca-9e306273f342');\n",
              "          const dataTable =\n",
              "            await google.colab.kernel.invokeFunction('convertToInteractive',\n",
              "                                                     [key], {});\n",
              "          if (!dataTable) return;\n",
              "\n",
              "          const docLinkHtml = 'Like what you see? Visit the ' +\n",
              "            '<a target=\"_blank\" href=https://colab.research.google.com/notebooks/data_table.ipynb>data table notebook</a>'\n",
              "            + ' to learn more about interactive tables.';\n",
              "          element.innerHTML = '';\n",
              "          dataTable['output_type'] = 'display_data';\n",
              "          await google.colab.output.renderOutput(dataTable, element);\n",
              "          const docLink = document.createElement('div');\n",
              "          docLink.innerHTML = docLinkHtml;\n",
              "          element.appendChild(docLink);\n",
              "        }\n",
              "      </script>\n",
              "    </div>\n",
              "  </div>\n",
              "  "
            ]
          },
          "metadata": {},
          "execution_count": 52
        }
      ],
      "source": [
        "t2 = sample_b.groupby('event_name').agg(number_of_users = ('user_id', 'nunique')).sort_values('number_of_users', ascending=False).assign(user_share = lambda x: x['number_of_users'] / sample_b['user_id'].nunique()).reset_index()\n",
        "t2"
      ]
    },
    {
      "cell_type": "code",
      "execution_count": 53,
      "metadata": {
        "colab": {
          "base_uri": "https://localhost:8080/",
          "height": 175
        },
        "id": "fIeG4mxlSQH2",
        "outputId": "0b8dc936-9a70-4234-d3e7-1a936a46af93"
      },
      "outputs": [
        {
          "output_type": "execute_result",
          "data": {
            "text/plain": [
              "     event_name  number_of_users  user_share\n",
              "0         login              811      0.9988\n",
              "1  product_page              461      0.5677\n",
              "3  product_cart              225      0.2771\n",
              "2      purchase              228      0.2808"
            ],
            "text/html": [
              "\n",
              "  <div id=\"df-526a4cca-4068-4843-bafe-541eb395a0ca\">\n",
              "    <div class=\"colab-df-container\">\n",
              "      <div>\n",
              "<style scoped>\n",
              "    .dataframe tbody tr th:only-of-type {\n",
              "        vertical-align: middle;\n",
              "    }\n",
              "\n",
              "    .dataframe tbody tr th {\n",
              "        vertical-align: top;\n",
              "    }\n",
              "\n",
              "    .dataframe thead th {\n",
              "        text-align: right;\n",
              "    }\n",
              "</style>\n",
              "<table border=\"1\" class=\"dataframe\">\n",
              "  <thead>\n",
              "    <tr style=\"text-align: right;\">\n",
              "      <th></th>\n",
              "      <th>event_name</th>\n",
              "      <th>number_of_users</th>\n",
              "      <th>user_share</th>\n",
              "    </tr>\n",
              "  </thead>\n",
              "  <tbody>\n",
              "    <tr>\n",
              "      <th>0</th>\n",
              "      <td>login</td>\n",
              "      <td>811</td>\n",
              "      <td>0.9988</td>\n",
              "    </tr>\n",
              "    <tr>\n",
              "      <th>1</th>\n",
              "      <td>product_page</td>\n",
              "      <td>461</td>\n",
              "      <td>0.5677</td>\n",
              "    </tr>\n",
              "    <tr>\n",
              "      <th>3</th>\n",
              "      <td>product_cart</td>\n",
              "      <td>225</td>\n",
              "      <td>0.2771</td>\n",
              "    </tr>\n",
              "    <tr>\n",
              "      <th>2</th>\n",
              "      <td>purchase</td>\n",
              "      <td>228</td>\n",
              "      <td>0.2808</td>\n",
              "    </tr>\n",
              "  </tbody>\n",
              "</table>\n",
              "</div>\n",
              "      <button class=\"colab-df-convert\" onclick=\"convertToInteractive('df-526a4cca-4068-4843-bafe-541eb395a0ca')\"\n",
              "              title=\"Convert this dataframe to an interactive table.\"\n",
              "              style=\"display:none;\">\n",
              "        \n",
              "  <svg xmlns=\"http://www.w3.org/2000/svg\" height=\"24px\"viewBox=\"0 0 24 24\"\n",
              "       width=\"24px\">\n",
              "    <path d=\"M0 0h24v24H0V0z\" fill=\"none\"/>\n",
              "    <path d=\"M18.56 5.44l.94 2.06.94-2.06 2.06-.94-2.06-.94-.94-2.06-.94 2.06-2.06.94zm-11 1L8.5 8.5l.94-2.06 2.06-.94-2.06-.94L8.5 2.5l-.94 2.06-2.06.94zm10 10l.94 2.06.94-2.06 2.06-.94-2.06-.94-.94-2.06-.94 2.06-2.06.94z\"/><path d=\"M17.41 7.96l-1.37-1.37c-.4-.4-.92-.59-1.43-.59-.52 0-1.04.2-1.43.59L10.3 9.45l-7.72 7.72c-.78.78-.78 2.05 0 2.83L4 21.41c.39.39.9.59 1.41.59.51 0 1.02-.2 1.41-.59l7.78-7.78 2.81-2.81c.8-.78.8-2.07 0-2.86zM5.41 20L4 18.59l7.72-7.72 1.47 1.35L5.41 20z\"/>\n",
              "  </svg>\n",
              "      </button>\n",
              "      \n",
              "  <style>\n",
              "    .colab-df-container {\n",
              "      display:flex;\n",
              "      flex-wrap:wrap;\n",
              "      gap: 12px;\n",
              "    }\n",
              "\n",
              "    .colab-df-convert {\n",
              "      background-color: #E8F0FE;\n",
              "      border: none;\n",
              "      border-radius: 50%;\n",
              "      cursor: pointer;\n",
              "      display: none;\n",
              "      fill: #1967D2;\n",
              "      height: 32px;\n",
              "      padding: 0 0 0 0;\n",
              "      width: 32px;\n",
              "    }\n",
              "\n",
              "    .colab-df-convert:hover {\n",
              "      background-color: #E2EBFA;\n",
              "      box-shadow: 0px 1px 2px rgba(60, 64, 67, 0.3), 0px 1px 3px 1px rgba(60, 64, 67, 0.15);\n",
              "      fill: #174EA6;\n",
              "    }\n",
              "\n",
              "    [theme=dark] .colab-df-convert {\n",
              "      background-color: #3B4455;\n",
              "      fill: #D2E3FC;\n",
              "    }\n",
              "\n",
              "    [theme=dark] .colab-df-convert:hover {\n",
              "      background-color: #434B5C;\n",
              "      box-shadow: 0px 1px 3px 1px rgba(0, 0, 0, 0.15);\n",
              "      filter: drop-shadow(0px 1px 2px rgba(0, 0, 0, 0.3));\n",
              "      fill: #FFFFFF;\n",
              "    }\n",
              "  </style>\n",
              "\n",
              "      <script>\n",
              "        const buttonEl =\n",
              "          document.querySelector('#df-526a4cca-4068-4843-bafe-541eb395a0ca button.colab-df-convert');\n",
              "        buttonEl.style.display =\n",
              "          google.colab.kernel.accessAllowed ? 'block' : 'none';\n",
              "\n",
              "        async function convertToInteractive(key) {\n",
              "          const element = document.querySelector('#df-526a4cca-4068-4843-bafe-541eb395a0ca');\n",
              "          const dataTable =\n",
              "            await google.colab.kernel.invokeFunction('convertToInteractive',\n",
              "                                                     [key], {});\n",
              "          if (!dataTable) return;\n",
              "\n",
              "          const docLinkHtml = 'Like what you see? Visit the ' +\n",
              "            '<a target=\"_blank\" href=https://colab.research.google.com/notebooks/data_table.ipynb>data table notebook</a>'\n",
              "            + ' to learn more about interactive tables.';\n",
              "          element.innerHTML = '';\n",
              "          dataTable['output_type'] = 'display_data';\n",
              "          await google.colab.output.renderOutput(dataTable, element);\n",
              "          const docLink = document.createElement('div');\n",
              "          docLink.innerHTML = docLinkHtml;\n",
              "          element.appendChild(docLink);\n",
              "        }\n",
              "      </script>\n",
              "    </div>\n",
              "  </div>\n",
              "  "
            ]
          },
          "metadata": {},
          "execution_count": 53
        }
      ],
      "source": [
        "t2 = t2.reindex([0, 1, 3, 2])\n",
        "t2"
      ]
    },
    {
      "cell_type": "code",
      "execution_count": 54,
      "metadata": {
        "colab": {
          "base_uri": "https://localhost:8080/",
          "height": 542
        },
        "id": "ykPuuOmsFSS_",
        "outputId": "5496b6c5-44cd-428c-beb5-6ef84e52f93b"
      },
      "outputs": [
        {
          "output_type": "display_data",
          "data": {
            "text/html": [
              "<html>\n",
              "<head><meta charset=\"utf-8\" /></head>\n",
              "<body>\n",
              "    <div>            <script src=\"https://cdnjs.cloudflare.com/ajax/libs/mathjax/2.7.5/MathJax.js?config=TeX-AMS-MML_SVG\"></script><script type=\"text/javascript\">if (window.MathJax) {MathJax.Hub.Config({SVG: {font: \"STIX-Web\"}});}</script>                <script type=\"text/javascript\">window.PlotlyConfig = {MathJaxConfig: 'local'};</script>\n",
              "        <script src=\"https://cdn.plot.ly/plotly-2.8.3.min.js\"></script>                <div id=\"cc7ae07b-3208-4fec-b163-b56234d4035f\" class=\"plotly-graph-div\" style=\"height:525px; width:100%;\"></div>            <script type=\"text/javascript\">                                    window.PLOTLYENV=window.PLOTLYENV || {};                                    if (document.getElementById(\"cc7ae07b-3208-4fec-b163-b56234d4035f\")) {                    Plotly.newPlot(                        \"cc7ae07b-3208-4fec-b163-b56234d4035f\",                        [{\"connector\":{\"line\":{\"color\":\"royalblue\",\"dash\":\"dot\",\"width\":3}},\"marker\":{\"color\":[\"deepskyblue\",\"lightsalmon\",\"tan\",\"teal\"],\"line\":{\"color\":[\"wheat\",\"wheat\",\"blue\",\"wheat\"],\"width\":[4,2,2,3,1,1]}},\"name\":\"group A\",\"opacity\":0.65,\"textinfo\":\"value+percent initial+percent previous\",\"textposition\":\"inside\",\"x\":[2422,1571,728,773],\"y\":[\"login\",\"product_page\",\"product_cart\",\"purchase\"],\"type\":\"funnel\"},{\"connector\":{\"line\":{\"color\":\"royalblue\",\"dash\":\"dot\",\"width\":3}},\"marker\":{\"color\":[\"deepskyblue\",\"lightsalmon\",\"tan\",\"teal\"],\"line\":{\"color\":[\"wheat\",\"wheat\",\"blue\",\"wheat\"],\"width\":[4,2,2,3,1,1]}},\"name\":\"group B\",\"opacity\":0.65,\"textinfo\":\"value+percent initial+percent previous\",\"textposition\":\"inside\",\"x\":[811,461,225,228],\"y\":[\"login\",\"product_page\",\"product_cart\",\"purchase\"],\"type\":\"funnel\"}],                        {\"template\":{\"data\":{\"bar\":[{\"error_x\":{\"color\":\"#2a3f5f\"},\"error_y\":{\"color\":\"#2a3f5f\"},\"marker\":{\"line\":{\"color\":\"#E5ECF6\",\"width\":0.5},\"pattern\":{\"fillmode\":\"overlay\",\"size\":10,\"solidity\":0.2}},\"type\":\"bar\"}],\"barpolar\":[{\"marker\":{\"line\":{\"color\":\"#E5ECF6\",\"width\":0.5},\"pattern\":{\"fillmode\":\"overlay\",\"size\":10,\"solidity\":0.2}},\"type\":\"barpolar\"}],\"carpet\":[{\"aaxis\":{\"endlinecolor\":\"#2a3f5f\",\"gridcolor\":\"white\",\"linecolor\":\"white\",\"minorgridcolor\":\"white\",\"startlinecolor\":\"#2a3f5f\"},\"baxis\":{\"endlinecolor\":\"#2a3f5f\",\"gridcolor\":\"white\",\"linecolor\":\"white\",\"minorgridcolor\":\"white\",\"startlinecolor\":\"#2a3f5f\"},\"type\":\"carpet\"}],\"choropleth\":[{\"colorbar\":{\"outlinewidth\":0,\"ticks\":\"\"},\"type\":\"choropleth\"}],\"contour\":[{\"colorbar\":{\"outlinewidth\":0,\"ticks\":\"\"},\"colorscale\":[[0.0,\"#0d0887\"],[0.1111111111111111,\"#46039f\"],[0.2222222222222222,\"#7201a8\"],[0.3333333333333333,\"#9c179e\"],[0.4444444444444444,\"#bd3786\"],[0.5555555555555556,\"#d8576b\"],[0.6666666666666666,\"#ed7953\"],[0.7777777777777778,\"#fb9f3a\"],[0.8888888888888888,\"#fdca26\"],[1.0,\"#f0f921\"]],\"type\":\"contour\"}],\"contourcarpet\":[{\"colorbar\":{\"outlinewidth\":0,\"ticks\":\"\"},\"type\":\"contourcarpet\"}],\"heatmap\":[{\"colorbar\":{\"outlinewidth\":0,\"ticks\":\"\"},\"colorscale\":[[0.0,\"#0d0887\"],[0.1111111111111111,\"#46039f\"],[0.2222222222222222,\"#7201a8\"],[0.3333333333333333,\"#9c179e\"],[0.4444444444444444,\"#bd3786\"],[0.5555555555555556,\"#d8576b\"],[0.6666666666666666,\"#ed7953\"],[0.7777777777777778,\"#fb9f3a\"],[0.8888888888888888,\"#fdca26\"],[1.0,\"#f0f921\"]],\"type\":\"heatmap\"}],\"heatmapgl\":[{\"colorbar\":{\"outlinewidth\":0,\"ticks\":\"\"},\"colorscale\":[[0.0,\"#0d0887\"],[0.1111111111111111,\"#46039f\"],[0.2222222222222222,\"#7201a8\"],[0.3333333333333333,\"#9c179e\"],[0.4444444444444444,\"#bd3786\"],[0.5555555555555556,\"#d8576b\"],[0.6666666666666666,\"#ed7953\"],[0.7777777777777778,\"#fb9f3a\"],[0.8888888888888888,\"#fdca26\"],[1.0,\"#f0f921\"]],\"type\":\"heatmapgl\"}],\"histogram\":[{\"marker\":{\"pattern\":{\"fillmode\":\"overlay\",\"size\":10,\"solidity\":0.2}},\"type\":\"histogram\"}],\"histogram2d\":[{\"colorbar\":{\"outlinewidth\":0,\"ticks\":\"\"},\"colorscale\":[[0.0,\"#0d0887\"],[0.1111111111111111,\"#46039f\"],[0.2222222222222222,\"#7201a8\"],[0.3333333333333333,\"#9c179e\"],[0.4444444444444444,\"#bd3786\"],[0.5555555555555556,\"#d8576b\"],[0.6666666666666666,\"#ed7953\"],[0.7777777777777778,\"#fb9f3a\"],[0.8888888888888888,\"#fdca26\"],[1.0,\"#f0f921\"]],\"type\":\"histogram2d\"}],\"histogram2dcontour\":[{\"colorbar\":{\"outlinewidth\":0,\"ticks\":\"\"},\"colorscale\":[[0.0,\"#0d0887\"],[0.1111111111111111,\"#46039f\"],[0.2222222222222222,\"#7201a8\"],[0.3333333333333333,\"#9c179e\"],[0.4444444444444444,\"#bd3786\"],[0.5555555555555556,\"#d8576b\"],[0.6666666666666666,\"#ed7953\"],[0.7777777777777778,\"#fb9f3a\"],[0.8888888888888888,\"#fdca26\"],[1.0,\"#f0f921\"]],\"type\":\"histogram2dcontour\"}],\"mesh3d\":[{\"colorbar\":{\"outlinewidth\":0,\"ticks\":\"\"},\"type\":\"mesh3d\"}],\"parcoords\":[{\"line\":{\"colorbar\":{\"outlinewidth\":0,\"ticks\":\"\"}},\"type\":\"parcoords\"}],\"pie\":[{\"automargin\":true,\"type\":\"pie\"}],\"scatter\":[{\"marker\":{\"colorbar\":{\"outlinewidth\":0,\"ticks\":\"\"}},\"type\":\"scatter\"}],\"scatter3d\":[{\"line\":{\"colorbar\":{\"outlinewidth\":0,\"ticks\":\"\"}},\"marker\":{\"colorbar\":{\"outlinewidth\":0,\"ticks\":\"\"}},\"type\":\"scatter3d\"}],\"scattercarpet\":[{\"marker\":{\"colorbar\":{\"outlinewidth\":0,\"ticks\":\"\"}},\"type\":\"scattercarpet\"}],\"scattergeo\":[{\"marker\":{\"colorbar\":{\"outlinewidth\":0,\"ticks\":\"\"}},\"type\":\"scattergeo\"}],\"scattergl\":[{\"marker\":{\"colorbar\":{\"outlinewidth\":0,\"ticks\":\"\"}},\"type\":\"scattergl\"}],\"scattermapbox\":[{\"marker\":{\"colorbar\":{\"outlinewidth\":0,\"ticks\":\"\"}},\"type\":\"scattermapbox\"}],\"scatterpolar\":[{\"marker\":{\"colorbar\":{\"outlinewidth\":0,\"ticks\":\"\"}},\"type\":\"scatterpolar\"}],\"scatterpolargl\":[{\"marker\":{\"colorbar\":{\"outlinewidth\":0,\"ticks\":\"\"}},\"type\":\"scatterpolargl\"}],\"scatterternary\":[{\"marker\":{\"colorbar\":{\"outlinewidth\":0,\"ticks\":\"\"}},\"type\":\"scatterternary\"}],\"surface\":[{\"colorbar\":{\"outlinewidth\":0,\"ticks\":\"\"},\"colorscale\":[[0.0,\"#0d0887\"],[0.1111111111111111,\"#46039f\"],[0.2222222222222222,\"#7201a8\"],[0.3333333333333333,\"#9c179e\"],[0.4444444444444444,\"#bd3786\"],[0.5555555555555556,\"#d8576b\"],[0.6666666666666666,\"#ed7953\"],[0.7777777777777778,\"#fb9f3a\"],[0.8888888888888888,\"#fdca26\"],[1.0,\"#f0f921\"]],\"type\":\"surface\"}],\"table\":[{\"cells\":{\"fill\":{\"color\":\"#EBF0F8\"},\"line\":{\"color\":\"white\"}},\"header\":{\"fill\":{\"color\":\"#C8D4E3\"},\"line\":{\"color\":\"white\"}},\"type\":\"table\"}]},\"layout\":{\"annotationdefaults\":{\"arrowcolor\":\"#2a3f5f\",\"arrowhead\":0,\"arrowwidth\":1},\"autotypenumbers\":\"strict\",\"coloraxis\":{\"colorbar\":{\"outlinewidth\":0,\"ticks\":\"\"}},\"colorscale\":{\"diverging\":[[0,\"#8e0152\"],[0.1,\"#c51b7d\"],[0.2,\"#de77ae\"],[0.3,\"#f1b6da\"],[0.4,\"#fde0ef\"],[0.5,\"#f7f7f7\"],[0.6,\"#e6f5d0\"],[0.7,\"#b8e186\"],[0.8,\"#7fbc41\"],[0.9,\"#4d9221\"],[1,\"#276419\"]],\"sequential\":[[0.0,\"#0d0887\"],[0.1111111111111111,\"#46039f\"],[0.2222222222222222,\"#7201a8\"],[0.3333333333333333,\"#9c179e\"],[0.4444444444444444,\"#bd3786\"],[0.5555555555555556,\"#d8576b\"],[0.6666666666666666,\"#ed7953\"],[0.7777777777777778,\"#fb9f3a\"],[0.8888888888888888,\"#fdca26\"],[1.0,\"#f0f921\"]],\"sequentialminus\":[[0.0,\"#0d0887\"],[0.1111111111111111,\"#46039f\"],[0.2222222222222222,\"#7201a8\"],[0.3333333333333333,\"#9c179e\"],[0.4444444444444444,\"#bd3786\"],[0.5555555555555556,\"#d8576b\"],[0.6666666666666666,\"#ed7953\"],[0.7777777777777778,\"#fb9f3a\"],[0.8888888888888888,\"#fdca26\"],[1.0,\"#f0f921\"]]},\"colorway\":[\"#636efa\",\"#EF553B\",\"#00cc96\",\"#ab63fa\",\"#FFA15A\",\"#19d3f3\",\"#FF6692\",\"#B6E880\",\"#FF97FF\",\"#FECB52\"],\"font\":{\"color\":\"#2a3f5f\"},\"geo\":{\"bgcolor\":\"white\",\"lakecolor\":\"white\",\"landcolor\":\"#E5ECF6\",\"showlakes\":true,\"showland\":true,\"subunitcolor\":\"white\"},\"hoverlabel\":{\"align\":\"left\"},\"hovermode\":\"closest\",\"mapbox\":{\"style\":\"light\"},\"paper_bgcolor\":\"white\",\"plot_bgcolor\":\"#E5ECF6\",\"polar\":{\"angularaxis\":{\"gridcolor\":\"white\",\"linecolor\":\"white\",\"ticks\":\"\"},\"bgcolor\":\"#E5ECF6\",\"radialaxis\":{\"gridcolor\":\"white\",\"linecolor\":\"white\",\"ticks\":\"\"}},\"scene\":{\"xaxis\":{\"backgroundcolor\":\"#E5ECF6\",\"gridcolor\":\"white\",\"gridwidth\":2,\"linecolor\":\"white\",\"showbackground\":true,\"ticks\":\"\",\"zerolinecolor\":\"white\"},\"yaxis\":{\"backgroundcolor\":\"#E5ECF6\",\"gridcolor\":\"white\",\"gridwidth\":2,\"linecolor\":\"white\",\"showbackground\":true,\"ticks\":\"\",\"zerolinecolor\":\"white\"},\"zaxis\":{\"backgroundcolor\":\"#E5ECF6\",\"gridcolor\":\"white\",\"gridwidth\":2,\"linecolor\":\"white\",\"showbackground\":true,\"ticks\":\"\",\"zerolinecolor\":\"white\"}},\"shapedefaults\":{\"line\":{\"color\":\"#2a3f5f\"}},\"ternary\":{\"aaxis\":{\"gridcolor\":\"white\",\"linecolor\":\"white\",\"ticks\":\"\"},\"baxis\":{\"gridcolor\":\"white\",\"linecolor\":\"white\",\"ticks\":\"\"},\"bgcolor\":\"#E5ECF6\",\"caxis\":{\"gridcolor\":\"white\",\"linecolor\":\"white\",\"ticks\":\"\"}},\"title\":{\"x\":0.05},\"xaxis\":{\"automargin\":true,\"gridcolor\":\"white\",\"linecolor\":\"white\",\"ticks\":\"\",\"title\":{\"standoff\":15},\"zerolinecolor\":\"white\",\"zerolinewidth\":2},\"yaxis\":{\"automargin\":true,\"gridcolor\":\"white\",\"linecolor\":\"white\",\"ticks\":\"\",\"title\":{\"standoff\":15},\"zerolinecolor\":\"white\",\"zerolinewidth\":2}}}},                        {\"responsive\": true}                    ).then(function(){\n",
              "                            \n",
              "var gd = document.getElementById('cc7ae07b-3208-4fec-b163-b56234d4035f');\n",
              "var x = new MutationObserver(function (mutations, observer) {{\n",
              "        var display = window.getComputedStyle(gd).display;\n",
              "        if (!display || display === 'none') {{\n",
              "            console.log([gd, 'removed!']);\n",
              "            Plotly.purge(gd);\n",
              "            observer.disconnect();\n",
              "        }}\n",
              "}});\n",
              "\n",
              "// Listen for the removal of the full notebook cells\n",
              "var notebookContainer = gd.closest('#notebook-container');\n",
              "if (notebookContainer) {{\n",
              "    x.observe(notebookContainer, {childList: true});\n",
              "}}\n",
              "\n",
              "// Listen for the clearing of the current output cell\n",
              "var outputEl = gd.closest('.output');\n",
              "if (outputEl) {{\n",
              "    x.observe(outputEl, {childList: true});\n",
              "}}\n",
              "\n",
              "                        })                };                            </script>        </div>\n",
              "</body>\n",
              "</html>"
            ]
          },
          "metadata": {}
        }
      ],
      "source": [
        "fig = go.Figure()\n",
        "\n",
        "fig.add_trace(go.Funnel(\n",
        "    name = 'group A',\n",
        "    y = ['login','product_page','product_cart','purchase'],\n",
        "    x = [t1['number_of_users'][0], t1['number_of_users'][1], t1['number_of_users'][3], t1['number_of_users'][2]],\n",
        "    textposition = \"inside\",\n",
        "    textinfo = \"value+percent initial+percent previous\",\n",
        "    opacity = 0.65, marker = {\"color\": [\"deepskyblue\", \"lightsalmon\", \"tan\", \"teal\"],\n",
        "    \"line\": {\"width\": [4, 2, 2, 3, 1, 1], \"color\": [\"wheat\", \"wheat\", \"blue\", \"wheat\"]}},\n",
        "    connector = {\"line\": {\"color\": \"royalblue\", \"dash\": \"dot\", \"width\": 3}}))\n",
        "\n",
        "fig.add_trace(go.Funnel(\n",
        "    name = 'group B',\n",
        "    y = ['login','product_page','product_cart','purchase'],\n",
        "    x = [t2['number_of_users'][0], t2['number_of_users'][1], t2['number_of_users'][3], t2['number_of_users'][2]],\n",
        "    textposition = \"inside\",\n",
        "    textinfo = \"value+percent initial+percent previous\",\n",
        "    opacity = 0.65, marker = {\"color\": [\"deepskyblue\", \"lightsalmon\", \"tan\", \"teal\"],\n",
        "    \"line\": {\"width\": [4, 2, 2, 3, 1, 1], \"color\": [\"wheat\", \"wheat\", \"blue\", \"wheat\"]}},\n",
        "    connector = {\"line\": {\"color\": \"royalblue\", \"dash\": \"dot\", \"width\": 3}}))\n",
        "\n",
        "fig.show()"
      ]
    },
    {
      "cell_type": "markdown",
      "metadata": {
        "id": "33iB36EDoRLs"
      },
      "source": [
        "В целом ситуация схожая для обеих групп, интересно, что количество покупок, больше чем количество экранов корзины, похоже, что можно покупать со сторонних сайтов или в обход корзины."
      ]
    },
    {
      "cell_type": "markdown",
      "metadata": {
        "id": "_2y4Cv1apzaZ"
      },
      "source": [
        "## Проведите оценку результатов A/B-тестирования"
      ]
    },
    {
      "cell_type": "markdown",
      "metadata": {
        "id": "-RK1How6p1qB"
      },
      "source": [
        "### Что можно сказать про результаты A/B-тестирования?"
      ]
    },
    {
      "cell_type": "markdown",
      "metadata": {
        "id": "Bu-0r9mK_j1m"
      },
      "source": [
        "Выборки сильно отличаются друг от друга по количеству пользователей, но тем не менее они достаточного размера, чтобы зафиксировать прирост конверсии в 10%. "
      ]
    },
    {
      "cell_type": "code",
      "execution_count": 55,
      "metadata": {
        "colab": {
          "base_uri": "https://localhost:8080/",
          "height": 175
        },
        "id": "OVXexH_B_q-j",
        "outputId": "0baca156-2748-4a4c-e561-4fa450e7c63e"
      },
      "outputs": [
        {
          "output_type": "execute_result",
          "data": {
            "text/plain": [
              "     event_name  number_of_users  user_share\n",
              "0         login             2422      1.0000\n",
              "1  product_page             1571      0.6486\n",
              "2  product_cart              728      0.3006\n",
              "3      purchase              773      0.3192"
            ],
            "text/html": [
              "\n",
              "  <div id=\"df-032ebc27-d6dd-40f7-b196-c6bd01d8d83a\">\n",
              "    <div class=\"colab-df-container\">\n",
              "      <div>\n",
              "<style scoped>\n",
              "    .dataframe tbody tr th:only-of-type {\n",
              "        vertical-align: middle;\n",
              "    }\n",
              "\n",
              "    .dataframe tbody tr th {\n",
              "        vertical-align: top;\n",
              "    }\n",
              "\n",
              "    .dataframe thead th {\n",
              "        text-align: right;\n",
              "    }\n",
              "</style>\n",
              "<table border=\"1\" class=\"dataframe\">\n",
              "  <thead>\n",
              "    <tr style=\"text-align: right;\">\n",
              "      <th></th>\n",
              "      <th>event_name</th>\n",
              "      <th>number_of_users</th>\n",
              "      <th>user_share</th>\n",
              "    </tr>\n",
              "  </thead>\n",
              "  <tbody>\n",
              "    <tr>\n",
              "      <th>0</th>\n",
              "      <td>login</td>\n",
              "      <td>2422</td>\n",
              "      <td>1.0000</td>\n",
              "    </tr>\n",
              "    <tr>\n",
              "      <th>1</th>\n",
              "      <td>product_page</td>\n",
              "      <td>1571</td>\n",
              "      <td>0.6486</td>\n",
              "    </tr>\n",
              "    <tr>\n",
              "      <th>2</th>\n",
              "      <td>product_cart</td>\n",
              "      <td>728</td>\n",
              "      <td>0.3006</td>\n",
              "    </tr>\n",
              "    <tr>\n",
              "      <th>3</th>\n",
              "      <td>purchase</td>\n",
              "      <td>773</td>\n",
              "      <td>0.3192</td>\n",
              "    </tr>\n",
              "  </tbody>\n",
              "</table>\n",
              "</div>\n",
              "      <button class=\"colab-df-convert\" onclick=\"convertToInteractive('df-032ebc27-d6dd-40f7-b196-c6bd01d8d83a')\"\n",
              "              title=\"Convert this dataframe to an interactive table.\"\n",
              "              style=\"display:none;\">\n",
              "        \n",
              "  <svg xmlns=\"http://www.w3.org/2000/svg\" height=\"24px\"viewBox=\"0 0 24 24\"\n",
              "       width=\"24px\">\n",
              "    <path d=\"M0 0h24v24H0V0z\" fill=\"none\"/>\n",
              "    <path d=\"M18.56 5.44l.94 2.06.94-2.06 2.06-.94-2.06-.94-.94-2.06-.94 2.06-2.06.94zm-11 1L8.5 8.5l.94-2.06 2.06-.94-2.06-.94L8.5 2.5l-.94 2.06-2.06.94zm10 10l.94 2.06.94-2.06 2.06-.94-2.06-.94-.94-2.06-.94 2.06-2.06.94z\"/><path d=\"M17.41 7.96l-1.37-1.37c-.4-.4-.92-.59-1.43-.59-.52 0-1.04.2-1.43.59L10.3 9.45l-7.72 7.72c-.78.78-.78 2.05 0 2.83L4 21.41c.39.39.9.59 1.41.59.51 0 1.02-.2 1.41-.59l7.78-7.78 2.81-2.81c.8-.78.8-2.07 0-2.86zM5.41 20L4 18.59l7.72-7.72 1.47 1.35L5.41 20z\"/>\n",
              "  </svg>\n",
              "      </button>\n",
              "      \n",
              "  <style>\n",
              "    .colab-df-container {\n",
              "      display:flex;\n",
              "      flex-wrap:wrap;\n",
              "      gap: 12px;\n",
              "    }\n",
              "\n",
              "    .colab-df-convert {\n",
              "      background-color: #E8F0FE;\n",
              "      border: none;\n",
              "      border-radius: 50%;\n",
              "      cursor: pointer;\n",
              "      display: none;\n",
              "      fill: #1967D2;\n",
              "      height: 32px;\n",
              "      padding: 0 0 0 0;\n",
              "      width: 32px;\n",
              "    }\n",
              "\n",
              "    .colab-df-convert:hover {\n",
              "      background-color: #E2EBFA;\n",
              "      box-shadow: 0px 1px 2px rgba(60, 64, 67, 0.3), 0px 1px 3px 1px rgba(60, 64, 67, 0.15);\n",
              "      fill: #174EA6;\n",
              "    }\n",
              "\n",
              "    [theme=dark] .colab-df-convert {\n",
              "      background-color: #3B4455;\n",
              "      fill: #D2E3FC;\n",
              "    }\n",
              "\n",
              "    [theme=dark] .colab-df-convert:hover {\n",
              "      background-color: #434B5C;\n",
              "      box-shadow: 0px 1px 3px 1px rgba(0, 0, 0, 0.15);\n",
              "      filter: drop-shadow(0px 1px 2px rgba(0, 0, 0, 0.3));\n",
              "      fill: #FFFFFF;\n",
              "    }\n",
              "  </style>\n",
              "\n",
              "      <script>\n",
              "        const buttonEl =\n",
              "          document.querySelector('#df-032ebc27-d6dd-40f7-b196-c6bd01d8d83a button.colab-df-convert');\n",
              "        buttonEl.style.display =\n",
              "          google.colab.kernel.accessAllowed ? 'block' : 'none';\n",
              "\n",
              "        async function convertToInteractive(key) {\n",
              "          const element = document.querySelector('#df-032ebc27-d6dd-40f7-b196-c6bd01d8d83a');\n",
              "          const dataTable =\n",
              "            await google.colab.kernel.invokeFunction('convertToInteractive',\n",
              "                                                     [key], {});\n",
              "          if (!dataTable) return;\n",
              "\n",
              "          const docLinkHtml = 'Like what you see? Visit the ' +\n",
              "            '<a target=\"_blank\" href=https://colab.research.google.com/notebooks/data_table.ipynb>data table notebook</a>'\n",
              "            + ' to learn more about interactive tables.';\n",
              "          element.innerHTML = '';\n",
              "          dataTable['output_type'] = 'display_data';\n",
              "          await google.colab.output.renderOutput(dataTable, element);\n",
              "          const docLink = document.createElement('div');\n",
              "          docLink.innerHTML = docLinkHtml;\n",
              "          element.appendChild(docLink);\n",
              "        }\n",
              "      </script>\n",
              "    </div>\n",
              "  </div>\n",
              "  "
            ]
          },
          "metadata": {},
          "execution_count": 55
        }
      ],
      "source": [
        "t1 = t1.reset_index(drop=True)\n",
        "t1"
      ]
    },
    {
      "cell_type": "code",
      "execution_count": 56,
      "metadata": {
        "colab": {
          "base_uri": "https://localhost:8080/",
          "height": 175
        },
        "id": "5D0msLHx_rBm",
        "outputId": "801eebf2-f789-4179-c3ad-d4b3b51192b0"
      },
      "outputs": [
        {
          "output_type": "execute_result",
          "data": {
            "text/plain": [
              "     event_name  number_of_users  user_share\n",
              "0         login              811      0.9988\n",
              "1  product_page              461      0.5677\n",
              "2  product_cart              225      0.2771\n",
              "3      purchase              228      0.2808"
            ],
            "text/html": [
              "\n",
              "  <div id=\"df-cf296f1f-9a63-4a95-951b-e23ea251651e\">\n",
              "    <div class=\"colab-df-container\">\n",
              "      <div>\n",
              "<style scoped>\n",
              "    .dataframe tbody tr th:only-of-type {\n",
              "        vertical-align: middle;\n",
              "    }\n",
              "\n",
              "    .dataframe tbody tr th {\n",
              "        vertical-align: top;\n",
              "    }\n",
              "\n",
              "    .dataframe thead th {\n",
              "        text-align: right;\n",
              "    }\n",
              "</style>\n",
              "<table border=\"1\" class=\"dataframe\">\n",
              "  <thead>\n",
              "    <tr style=\"text-align: right;\">\n",
              "      <th></th>\n",
              "      <th>event_name</th>\n",
              "      <th>number_of_users</th>\n",
              "      <th>user_share</th>\n",
              "    </tr>\n",
              "  </thead>\n",
              "  <tbody>\n",
              "    <tr>\n",
              "      <th>0</th>\n",
              "      <td>login</td>\n",
              "      <td>811</td>\n",
              "      <td>0.9988</td>\n",
              "    </tr>\n",
              "    <tr>\n",
              "      <th>1</th>\n",
              "      <td>product_page</td>\n",
              "      <td>461</td>\n",
              "      <td>0.5677</td>\n",
              "    </tr>\n",
              "    <tr>\n",
              "      <th>2</th>\n",
              "      <td>product_cart</td>\n",
              "      <td>225</td>\n",
              "      <td>0.2771</td>\n",
              "    </tr>\n",
              "    <tr>\n",
              "      <th>3</th>\n",
              "      <td>purchase</td>\n",
              "      <td>228</td>\n",
              "      <td>0.2808</td>\n",
              "    </tr>\n",
              "  </tbody>\n",
              "</table>\n",
              "</div>\n",
              "      <button class=\"colab-df-convert\" onclick=\"convertToInteractive('df-cf296f1f-9a63-4a95-951b-e23ea251651e')\"\n",
              "              title=\"Convert this dataframe to an interactive table.\"\n",
              "              style=\"display:none;\">\n",
              "        \n",
              "  <svg xmlns=\"http://www.w3.org/2000/svg\" height=\"24px\"viewBox=\"0 0 24 24\"\n",
              "       width=\"24px\">\n",
              "    <path d=\"M0 0h24v24H0V0z\" fill=\"none\"/>\n",
              "    <path d=\"M18.56 5.44l.94 2.06.94-2.06 2.06-.94-2.06-.94-.94-2.06-.94 2.06-2.06.94zm-11 1L8.5 8.5l.94-2.06 2.06-.94-2.06-.94L8.5 2.5l-.94 2.06-2.06.94zm10 10l.94 2.06.94-2.06 2.06-.94-2.06-.94-.94-2.06-.94 2.06-2.06.94z\"/><path d=\"M17.41 7.96l-1.37-1.37c-.4-.4-.92-.59-1.43-.59-.52 0-1.04.2-1.43.59L10.3 9.45l-7.72 7.72c-.78.78-.78 2.05 0 2.83L4 21.41c.39.39.9.59 1.41.59.51 0 1.02-.2 1.41-.59l7.78-7.78 2.81-2.81c.8-.78.8-2.07 0-2.86zM5.41 20L4 18.59l7.72-7.72 1.47 1.35L5.41 20z\"/>\n",
              "  </svg>\n",
              "      </button>\n",
              "      \n",
              "  <style>\n",
              "    .colab-df-container {\n",
              "      display:flex;\n",
              "      flex-wrap:wrap;\n",
              "      gap: 12px;\n",
              "    }\n",
              "\n",
              "    .colab-df-convert {\n",
              "      background-color: #E8F0FE;\n",
              "      border: none;\n",
              "      border-radius: 50%;\n",
              "      cursor: pointer;\n",
              "      display: none;\n",
              "      fill: #1967D2;\n",
              "      height: 32px;\n",
              "      padding: 0 0 0 0;\n",
              "      width: 32px;\n",
              "    }\n",
              "\n",
              "    .colab-df-convert:hover {\n",
              "      background-color: #E2EBFA;\n",
              "      box-shadow: 0px 1px 2px rgba(60, 64, 67, 0.3), 0px 1px 3px 1px rgba(60, 64, 67, 0.15);\n",
              "      fill: #174EA6;\n",
              "    }\n",
              "\n",
              "    [theme=dark] .colab-df-convert {\n",
              "      background-color: #3B4455;\n",
              "      fill: #D2E3FC;\n",
              "    }\n",
              "\n",
              "    [theme=dark] .colab-df-convert:hover {\n",
              "      background-color: #434B5C;\n",
              "      box-shadow: 0px 1px 3px 1px rgba(0, 0, 0, 0.15);\n",
              "      filter: drop-shadow(0px 1px 2px rgba(0, 0, 0, 0.3));\n",
              "      fill: #FFFFFF;\n",
              "    }\n",
              "  </style>\n",
              "\n",
              "      <script>\n",
              "        const buttonEl =\n",
              "          document.querySelector('#df-cf296f1f-9a63-4a95-951b-e23ea251651e button.colab-df-convert');\n",
              "        buttonEl.style.display =\n",
              "          google.colab.kernel.accessAllowed ? 'block' : 'none';\n",
              "\n",
              "        async function convertToInteractive(key) {\n",
              "          const element = document.querySelector('#df-cf296f1f-9a63-4a95-951b-e23ea251651e');\n",
              "          const dataTable =\n",
              "            await google.colab.kernel.invokeFunction('convertToInteractive',\n",
              "                                                     [key], {});\n",
              "          if (!dataTable) return;\n",
              "\n",
              "          const docLinkHtml = 'Like what you see? Visit the ' +\n",
              "            '<a target=\"_blank\" href=https://colab.research.google.com/notebooks/data_table.ipynb>data table notebook</a>'\n",
              "            + ' to learn more about interactive tables.';\n",
              "          element.innerHTML = '';\n",
              "          dataTable['output_type'] = 'display_data';\n",
              "          await google.colab.output.renderOutput(dataTable, element);\n",
              "          const docLink = document.createElement('div');\n",
              "          docLink.innerHTML = docLinkHtml;\n",
              "          element.appendChild(docLink);\n",
              "        }\n",
              "      </script>\n",
              "    </div>\n",
              "  </div>\n",
              "  "
            ]
          },
          "metadata": {},
          "execution_count": 56
        }
      ],
      "source": [
        "t2 = t2.reset_index(drop=True)\n",
        "t2"
      ]
    },
    {
      "cell_type": "markdown",
      "metadata": {
        "id": "bs-jvAvTp2Xc"
      },
      "source": [
        "### Проверьте статистическую разницу долей z-критерием"
      ]
    },
    {
      "cell_type": "markdown",
      "metadata": {
        "id": "jAkyxe-yO0yy"
      },
      "source": [
        "Так как мы проводим три теста, применим поправку Бонферрони, делим альфу на 3:"
      ]
    },
    {
      "cell_type": "code",
      "execution_count": 57,
      "metadata": {
        "colab": {
          "base_uri": "https://localhost:8080/"
        },
        "id": "q04g835rGMlJ",
        "outputId": "740ea304-a90c-4241-a04d-c44dd9634710"
      },
      "outputs": [
        {
          "output_type": "stream",
          "name": "stdout",
          "text": [
            "product_page\n",
            "p-значение:  4.289834253490277e-05\n",
            "Отвергаем нулевую гипотезу: между долями есть значимая разница\n",
            "product_cart\n",
            "p-значение:  0.21088771560452946\n",
            "Не получилось отвергнуть нулевую гипотезу, нет оснований считать доли разными\n",
            "purchase\n",
            "p-значение:  0.04264690707174279\n",
            "Не получилось отвергнуть нулевую гипотезу, нет оснований считать доли разными\n"
          ]
        }
      ],
      "source": [
        "alpha = .05/3\n",
        "\n",
        "for x in range(len(t1)-1):\n",
        "\n",
        "  successes = np.array([t1['number_of_users'][x+1], t2['number_of_users'][x+1]])\n",
        "  trials = np.array([t1['number_of_users'][0], t2['number_of_users'][0]])\n",
        "\n",
        "  p1 = successes[0]/trials[0]\n",
        "\n",
        "  p2 = successes[1]/trials[1]\n",
        "\n",
        "  p_combined = (successes[0] + successes[1]) / (trials[0] + trials[1])\n",
        "\n",
        "  difference = p1 - p2 \n",
        "\n",
        "  z_value = difference / mth.sqrt(p_combined * (1 - p_combined) * (1/trials[0] + 1/trials[1]))\n",
        "\n",
        "  distr = st.norm(0, 1)  \n",
        "\n",
        "  p_value = (1 - distr.cdf(abs(z_value))) * 2\n",
        "\n",
        "  print(t1['event_name'][x+1])\n",
        "  print('p-значение: ', p_value)\n",
        "  \n",
        "  if p_value < alpha:\n",
        "    print('Отвергаем нулевую гипотезу: между долями есть значимая разница')\n",
        "  else:\n",
        "    print(\n",
        "        'Не получилось отвергнуть нулевую гипотезу, нет оснований считать доли разными'\n",
        "    ) "
      ]
    },
    {
      "cell_type": "markdown",
      "metadata": {
        "id": "X-HkEHfkqCtT"
      },
      "source": [
        "## Вывод"
      ]
    },
    {
      "cell_type": "markdown",
      "metadata": {
        "id": "Yw-mcBw2qGLU"
      },
      "source": [
        "По результатам теста можно сказать, что в группе В значимо конверсия УМЕНЬШИЛАСЬ на шаге с логина на страницу товара. На остальных шагах статистически значимых изменений не обнаружено."
      ]
    },
    {
      "cell_type": "markdown",
      "metadata": {
        "id": "9kGIN8CBdHUE"
      },
      "source": [
        " Но учитывая, что данные не соответствуют ТЗ, мы не можем считать эксперимент выполненным. Рекомендую перезапустить тест."
      ]
    },
    {
      "cell_type": "code",
      "execution_count": 57,
      "metadata": {
        "id": "pwNaOv-sdHUF"
      },
      "outputs": [],
      "source": []
    }
  ],
  "metadata": {
    "ExecuteTimeLog": [
      {
        "duration": 1316,
        "start_time": "2022-12-02T14:04:33.424Z"
      },
      {
        "duration": 3,
        "start_time": "2022-12-02T14:04:34.742Z"
      },
      {
        "duration": 1548,
        "start_time": "2022-12-02T14:04:34.747Z"
      },
      {
        "duration": 13,
        "start_time": "2022-12-02T14:04:36.297Z"
      },
      {
        "duration": 21,
        "start_time": "2022-12-02T14:04:36.313Z"
      },
      {
        "duration": 19,
        "start_time": "2022-12-02T14:04:36.336Z"
      },
      {
        "duration": 13,
        "start_time": "2022-12-02T14:04:36.357Z"
      },
      {
        "duration": 70,
        "start_time": "2022-12-02T14:04:36.371Z"
      },
      {
        "duration": 22,
        "start_time": "2022-12-02T14:04:36.443Z"
      },
      {
        "duration": 11,
        "start_time": "2022-12-02T14:04:36.466Z"
      },
      {
        "duration": 24,
        "start_time": "2022-12-02T14:04:36.479Z"
      },
      {
        "duration": 39,
        "start_time": "2022-12-02T14:04:36.505Z"
      },
      {
        "duration": 284,
        "start_time": "2022-12-02T14:04:36.546Z"
      },
      {
        "duration": 13,
        "start_time": "2022-12-02T14:04:36.833Z"
      },
      {
        "duration": 13,
        "start_time": "2022-12-02T14:04:36.847Z"
      },
      {
        "duration": 68,
        "start_time": "2022-12-02T14:04:36.862Z"
      },
      {
        "duration": 8,
        "start_time": "2022-12-02T14:04:36.932Z"
      },
      {
        "duration": 73,
        "start_time": "2022-12-02T14:04:36.942Z"
      },
      {
        "duration": 7,
        "start_time": "2022-12-02T14:04:37.017Z"
      },
      {
        "duration": 157,
        "start_time": "2022-12-02T14:04:37.025Z"
      },
      {
        "duration": 17,
        "start_time": "2022-12-02T14:04:37.183Z"
      },
      {
        "duration": 8,
        "start_time": "2022-12-02T14:04:37.201Z"
      },
      {
        "duration": 11,
        "start_time": "2022-12-02T14:04:37.210Z"
      },
      {
        "duration": 6,
        "start_time": "2022-12-02T14:04:37.223Z"
      },
      {
        "duration": 7,
        "start_time": "2022-12-02T14:04:37.231Z"
      },
      {
        "duration": 8,
        "start_time": "2022-12-02T14:04:37.240Z"
      },
      {
        "duration": 11,
        "start_time": "2022-12-02T14:04:37.251Z"
      },
      {
        "duration": 7,
        "start_time": "2022-12-02T14:04:37.297Z"
      },
      {
        "duration": 16,
        "start_time": "2022-12-02T14:04:37.305Z"
      },
      {
        "duration": 14,
        "start_time": "2022-12-02T14:04:37.322Z"
      },
      {
        "duration": 58,
        "start_time": "2022-12-02T14:04:37.338Z"
      },
      {
        "duration": 8,
        "start_time": "2022-12-02T14:04:37.398Z"
      },
      {
        "duration": 16,
        "start_time": "2022-12-02T14:04:37.408Z"
      },
      {
        "duration": 13,
        "start_time": "2022-12-02T14:04:37.425Z"
      },
      {
        "duration": 5,
        "start_time": "2022-12-02T14:04:37.440Z"
      },
      {
        "duration": 12,
        "start_time": "2022-12-02T14:04:37.447Z"
      },
      {
        "duration": 37,
        "start_time": "2022-12-02T14:04:37.461Z"
      },
      {
        "duration": 6,
        "start_time": "2022-12-02T14:04:37.500Z"
      },
      {
        "duration": 9,
        "start_time": "2022-12-02T14:04:37.508Z"
      },
      {
        "duration": 5,
        "start_time": "2022-12-02T14:04:37.519Z"
      },
      {
        "duration": 21,
        "start_time": "2022-12-02T14:04:37.527Z"
      },
      {
        "duration": 163,
        "start_time": "2022-12-02T14:04:37.550Z"
      },
      {
        "duration": 121,
        "start_time": "2022-12-02T14:04:37.714Z"
      },
      {
        "duration": 11,
        "start_time": "2022-12-02T14:04:37.837Z"
      },
      {
        "duration": 9,
        "start_time": "2022-12-02T14:04:37.850Z"
      },
      {
        "duration": 161,
        "start_time": "2022-12-02T14:04:37.861Z"
      },
      {
        "duration": 11,
        "start_time": "2022-12-02T14:04:38.024Z"
      },
      {
        "duration": 15,
        "start_time": "2022-12-02T14:04:38.036Z"
      },
      {
        "duration": 15,
        "start_time": "2022-12-02T14:04:38.052Z"
      },
      {
        "duration": 495,
        "start_time": "2022-12-02T14:04:38.069Z"
      },
      {
        "duration": 135,
        "start_time": "2022-12-02T14:04:38.566Z"
      },
      {
        "duration": 30,
        "start_time": "2022-12-02T14:04:38.702Z"
      },
      {
        "duration": 7,
        "start_time": "2022-12-02T14:04:38.734Z"
      },
      {
        "duration": 69,
        "start_time": "2022-12-02T14:04:38.743Z"
      },
      {
        "duration": 7,
        "start_time": "2022-12-02T14:04:38.814Z"
      },
      {
        "duration": 28,
        "start_time": "2022-12-02T14:04:38.823Z"
      },
      {
        "duration": 8,
        "start_time": "2022-12-02T14:04:38.852Z"
      },
      {
        "duration": 35,
        "start_time": "2022-12-02T14:04:38.862Z"
      },
      {
        "duration": 28,
        "start_time": "2022-12-02T14:04:38.899Z"
      },
      {
        "duration": 80,
        "start_time": "2022-12-03T17:15:58.399Z"
      },
      {
        "duration": 1462,
        "start_time": "2022-12-03T17:16:09.607Z"
      },
      {
        "duration": 4,
        "start_time": "2022-12-03T17:16:11.071Z"
      },
      {
        "duration": 1671,
        "start_time": "2022-12-03T17:16:11.077Z"
      },
      {
        "duration": 13,
        "start_time": "2022-12-03T17:16:12.751Z"
      },
      {
        "duration": 32,
        "start_time": "2022-12-03T17:16:12.766Z"
      },
      {
        "duration": 43,
        "start_time": "2022-12-03T17:16:12.800Z"
      },
      {
        "duration": 18,
        "start_time": "2022-12-03T17:16:12.846Z"
      },
      {
        "duration": 94,
        "start_time": "2022-12-03T17:16:12.866Z"
      },
      {
        "duration": 23,
        "start_time": "2022-12-03T17:16:12.962Z"
      },
      {
        "duration": 14,
        "start_time": "2022-12-03T17:16:12.987Z"
      },
      {
        "duration": 22,
        "start_time": "2022-12-03T17:16:13.003Z"
      },
      {
        "duration": 36,
        "start_time": "2022-12-03T17:16:13.027Z"
      },
      {
        "duration": 329,
        "start_time": "2022-12-03T17:16:13.066Z"
      },
      {
        "duration": 12,
        "start_time": "2022-12-03T17:16:13.397Z"
      },
      {
        "duration": 15,
        "start_time": "2022-12-03T17:16:13.422Z"
      },
      {
        "duration": 50,
        "start_time": "2022-12-03T17:16:13.441Z"
      },
      {
        "duration": 30,
        "start_time": "2022-12-03T17:16:13.493Z"
      },
      {
        "duration": 51,
        "start_time": "2022-12-03T17:16:13.525Z"
      },
      {
        "duration": 10,
        "start_time": "2022-12-03T17:16:13.577Z"
      },
      {
        "duration": 175,
        "start_time": "2022-12-03T17:16:13.589Z"
      },
      {
        "duration": 12,
        "start_time": "2022-12-03T17:16:13.766Z"
      },
      {
        "duration": 10,
        "start_time": "2022-12-03T17:16:13.780Z"
      },
      {
        "duration": 31,
        "start_time": "2022-12-03T17:16:13.791Z"
      },
      {
        "duration": 6,
        "start_time": "2022-12-03T17:16:13.824Z"
      },
      {
        "duration": 24,
        "start_time": "2022-12-03T17:16:13.832Z"
      },
      {
        "duration": 6,
        "start_time": "2022-12-03T17:16:13.858Z"
      },
      {
        "duration": 85,
        "start_time": "2022-12-03T17:16:13.867Z"
      },
      {
        "duration": 11,
        "start_time": "2022-12-03T17:16:13.957Z"
      },
      {
        "duration": 6,
        "start_time": "2022-12-03T17:16:13.970Z"
      },
      {
        "duration": 13,
        "start_time": "2022-12-03T17:16:13.978Z"
      },
      {
        "duration": 37,
        "start_time": "2022-12-03T17:16:13.993Z"
      },
      {
        "duration": 60,
        "start_time": "2022-12-03T17:16:14.032Z"
      },
      {
        "duration": 30,
        "start_time": "2022-12-03T17:16:14.094Z"
      },
      {
        "duration": 43,
        "start_time": "2022-12-03T17:16:14.127Z"
      },
      {
        "duration": 24,
        "start_time": "2022-12-03T17:16:14.172Z"
      },
      {
        "duration": 25,
        "start_time": "2022-12-03T17:16:14.198Z"
      },
      {
        "duration": 31,
        "start_time": "2022-12-03T17:16:14.227Z"
      },
      {
        "duration": 25,
        "start_time": "2022-12-03T17:16:14.260Z"
      },
      {
        "duration": 14,
        "start_time": "2022-12-03T17:16:14.286Z"
      },
      {
        "duration": 18,
        "start_time": "2022-12-03T17:16:14.303Z"
      },
      {
        "duration": 8,
        "start_time": "2022-12-03T17:16:14.323Z"
      },
      {
        "duration": 29,
        "start_time": "2022-12-03T17:16:14.333Z"
      },
      {
        "duration": 153,
        "start_time": "2022-12-03T17:16:14.364Z"
      },
      {
        "duration": 132,
        "start_time": "2022-12-03T17:16:14.521Z"
      },
      {
        "duration": 12,
        "start_time": "2022-12-03T17:16:14.655Z"
      },
      {
        "duration": 11,
        "start_time": "2022-12-03T17:16:14.668Z"
      },
      {
        "duration": 159,
        "start_time": "2022-12-03T17:16:14.680Z"
      },
      {
        "duration": 15,
        "start_time": "2022-12-03T17:16:14.841Z"
      },
      {
        "duration": 17,
        "start_time": "2022-12-03T17:16:14.858Z"
      },
      {
        "duration": 17,
        "start_time": "2022-12-03T17:16:14.878Z"
      },
      {
        "duration": 455,
        "start_time": "2022-12-03T17:16:14.897Z"
      },
      {
        "duration": 101,
        "start_time": "2022-12-03T17:16:15.354Z"
      },
      {
        "duration": 69,
        "start_time": "2022-12-03T17:16:15.457Z"
      },
      {
        "duration": 11,
        "start_time": "2022-12-03T17:16:15.528Z"
      },
      {
        "duration": 83,
        "start_time": "2022-12-03T17:16:15.541Z"
      },
      {
        "duration": 12,
        "start_time": "2022-12-03T17:16:15.626Z"
      },
      {
        "duration": 86,
        "start_time": "2022-12-03T17:16:15.640Z"
      },
      {
        "duration": 9,
        "start_time": "2022-12-03T17:16:15.728Z"
      },
      {
        "duration": 11,
        "start_time": "2022-12-03T17:16:15.740Z"
      },
      {
        "duration": 68,
        "start_time": "2022-12-03T17:16:15.753Z"
      },
      {
        "duration": 32,
        "start_time": "2022-12-03T17:16:31.980Z"
      },
      {
        "duration": 9,
        "start_time": "2022-12-03T17:19:22.994Z"
      },
      {
        "duration": 1173,
        "start_time": "2022-12-03T17:19:36.475Z"
      },
      {
        "duration": 3,
        "start_time": "2022-12-03T17:19:37.650Z"
      },
      {
        "duration": 1204,
        "start_time": "2022-12-03T17:19:37.655Z"
      },
      {
        "duration": 10,
        "start_time": "2022-12-03T17:19:38.861Z"
      },
      {
        "duration": 16,
        "start_time": "2022-12-03T17:19:38.872Z"
      },
      {
        "duration": 17,
        "start_time": "2022-12-03T17:19:38.890Z"
      },
      {
        "duration": 17,
        "start_time": "2022-12-03T17:19:38.909Z"
      },
      {
        "duration": 81,
        "start_time": "2022-12-03T17:19:38.928Z"
      },
      {
        "duration": 25,
        "start_time": "2022-12-03T17:19:39.011Z"
      },
      {
        "duration": 12,
        "start_time": "2022-12-03T17:19:39.039Z"
      },
      {
        "duration": 14,
        "start_time": "2022-12-03T17:19:39.053Z"
      },
      {
        "duration": 56,
        "start_time": "2022-12-03T17:19:39.068Z"
      },
      {
        "duration": 293,
        "start_time": "2022-12-03T17:19:39.127Z"
      },
      {
        "duration": 9,
        "start_time": "2022-12-03T17:19:39.422Z"
      },
      {
        "duration": 12,
        "start_time": "2022-12-03T17:19:39.433Z"
      },
      {
        "duration": 57,
        "start_time": "2022-12-03T17:19:39.447Z"
      },
      {
        "duration": 8,
        "start_time": "2022-12-03T17:19:39.523Z"
      },
      {
        "duration": 42,
        "start_time": "2022-12-03T17:19:39.532Z"
      },
      {
        "duration": 6,
        "start_time": "2022-12-03T17:19:39.576Z"
      },
      {
        "duration": 176,
        "start_time": "2022-12-03T17:19:39.584Z"
      },
      {
        "duration": 11,
        "start_time": "2022-12-03T17:19:39.762Z"
      },
      {
        "duration": 8,
        "start_time": "2022-12-03T17:19:39.776Z"
      },
      {
        "duration": 13,
        "start_time": "2022-12-03T17:19:39.786Z"
      },
      {
        "duration": 7,
        "start_time": "2022-12-03T17:19:39.821Z"
      },
      {
        "duration": 9,
        "start_time": "2022-12-03T17:19:39.830Z"
      },
      {
        "duration": 9,
        "start_time": "2022-12-03T17:19:39.840Z"
      },
      {
        "duration": 75,
        "start_time": "2022-12-03T17:19:39.851Z"
      },
      {
        "duration": 9,
        "start_time": "2022-12-03T17:19:39.929Z"
      },
      {
        "duration": 9,
        "start_time": "2022-12-03T17:19:39.940Z"
      },
      {
        "duration": 8,
        "start_time": "2022-12-03T17:19:39.951Z"
      },
      {
        "duration": 12,
        "start_time": "2022-12-03T17:19:39.961Z"
      },
      {
        "duration": 48,
        "start_time": "2022-12-03T17:19:39.975Z"
      },
      {
        "duration": 52,
        "start_time": "2022-12-03T17:19:40.025Z"
      },
      {
        "duration": 11,
        "start_time": "2022-12-03T17:19:40.079Z"
      },
      {
        "duration": 35,
        "start_time": "2022-12-03T17:19:40.092Z"
      },
      {
        "duration": 13,
        "start_time": "2022-12-03T17:19:40.129Z"
      },
      {
        "duration": 5,
        "start_time": "2022-12-03T17:19:40.143Z"
      },
      {
        "duration": 16,
        "start_time": "2022-12-03T17:19:40.150Z"
      },
      {
        "duration": 13,
        "start_time": "2022-12-03T17:19:40.168Z"
      },
      {
        "duration": 7,
        "start_time": "2022-12-03T17:19:40.184Z"
      },
      {
        "duration": 8,
        "start_time": "2022-12-03T17:19:40.223Z"
      },
      {
        "duration": 5,
        "start_time": "2022-12-03T17:19:40.233Z"
      },
      {
        "duration": 33,
        "start_time": "2022-12-03T17:19:40.240Z"
      },
      {
        "duration": 170,
        "start_time": "2022-12-03T17:19:40.275Z"
      },
      {
        "duration": 130,
        "start_time": "2022-12-03T17:19:40.446Z"
      },
      {
        "duration": 18,
        "start_time": "2022-12-03T17:19:40.578Z"
      },
      {
        "duration": 30,
        "start_time": "2022-12-03T17:19:40.598Z"
      },
      {
        "duration": 145,
        "start_time": "2022-12-03T17:19:40.630Z"
      },
      {
        "duration": 10,
        "start_time": "2022-12-03T17:19:40.777Z"
      },
      {
        "duration": 13,
        "start_time": "2022-12-03T17:19:40.788Z"
      },
      {
        "duration": 26,
        "start_time": "2022-12-03T17:19:40.803Z"
      },
      {
        "duration": 360,
        "start_time": "2022-12-03T17:19:40.831Z"
      },
      {
        "duration": 56,
        "start_time": "2022-12-03T17:19:41.192Z"
      },
      {
        "duration": 83,
        "start_time": "2022-12-03T17:19:41.251Z"
      },
      {
        "duration": 9,
        "start_time": "2022-12-03T17:19:41.336Z"
      },
      {
        "duration": 21,
        "start_time": "2022-12-03T17:19:41.347Z"
      },
      {
        "duration": 9,
        "start_time": "2022-12-03T17:19:41.423Z"
      },
      {
        "duration": 28,
        "start_time": "2022-12-03T17:19:41.434Z"
      },
      {
        "duration": 59,
        "start_time": "2022-12-03T17:19:41.464Z"
      },
      {
        "duration": 9,
        "start_time": "2022-12-03T17:19:41.525Z"
      },
      {
        "duration": 15,
        "start_time": "2022-12-03T17:19:41.536Z"
      },
      {
        "duration": 87,
        "start_time": "2022-12-03T17:20:52.761Z"
      },
      {
        "duration": 1802,
        "start_time": "2022-12-03T17:47:33.007Z"
      },
      {
        "duration": 3,
        "start_time": "2022-12-03T17:47:34.811Z"
      },
      {
        "duration": 1781,
        "start_time": "2022-12-03T17:47:34.815Z"
      },
      {
        "duration": 12,
        "start_time": "2022-12-03T17:47:36.598Z"
      },
      {
        "duration": 19,
        "start_time": "2022-12-03T17:47:36.612Z"
      },
      {
        "duration": 33,
        "start_time": "2022-12-03T17:47:36.633Z"
      },
      {
        "duration": 11,
        "start_time": "2022-12-03T17:47:36.668Z"
      },
      {
        "duration": 66,
        "start_time": "2022-12-03T17:47:36.681Z"
      },
      {
        "duration": 28,
        "start_time": "2022-12-03T17:47:36.748Z"
      },
      {
        "duration": 12,
        "start_time": "2022-12-03T17:47:36.778Z"
      },
      {
        "duration": 32,
        "start_time": "2022-12-03T17:47:36.792Z"
      },
      {
        "duration": 68,
        "start_time": "2022-12-03T17:47:36.826Z"
      },
      {
        "duration": 331,
        "start_time": "2022-12-03T17:47:36.896Z"
      },
      {
        "duration": 12,
        "start_time": "2022-12-03T17:47:37.229Z"
      },
      {
        "duration": 36,
        "start_time": "2022-12-03T17:47:37.242Z"
      },
      {
        "duration": 60,
        "start_time": "2022-12-03T17:47:37.280Z"
      },
      {
        "duration": 13,
        "start_time": "2022-12-03T17:47:37.341Z"
      },
      {
        "duration": 74,
        "start_time": "2022-12-03T17:47:37.356Z"
      },
      {
        "duration": 9,
        "start_time": "2022-12-03T17:47:37.432Z"
      },
      {
        "duration": 171,
        "start_time": "2022-12-03T17:47:37.443Z"
      },
      {
        "duration": 16,
        "start_time": "2022-12-03T17:47:37.616Z"
      },
      {
        "duration": 21,
        "start_time": "2022-12-03T17:47:37.634Z"
      },
      {
        "duration": 14,
        "start_time": "2022-12-03T17:47:37.657Z"
      },
      {
        "duration": 6,
        "start_time": "2022-12-03T17:47:37.673Z"
      },
      {
        "duration": 10,
        "start_time": "2022-12-03T17:47:37.680Z"
      },
      {
        "duration": 31,
        "start_time": "2022-12-03T17:47:37.692Z"
      },
      {
        "duration": 49,
        "start_time": "2022-12-03T17:47:37.724Z"
      },
      {
        "duration": 11,
        "start_time": "2022-12-03T17:47:37.780Z"
      },
      {
        "duration": 44,
        "start_time": "2022-12-03T17:47:37.793Z"
      },
      {
        "duration": 8,
        "start_time": "2022-12-03T17:47:37.839Z"
      },
      {
        "duration": 13,
        "start_time": "2022-12-03T17:47:37.849Z"
      },
      {
        "duration": 15,
        "start_time": "2022-12-03T17:47:37.864Z"
      },
      {
        "duration": 62,
        "start_time": "2022-12-03T17:47:37.880Z"
      },
      {
        "duration": 14,
        "start_time": "2022-12-03T17:47:37.946Z"
      },
      {
        "duration": 26,
        "start_time": "2022-12-03T17:47:37.962Z"
      },
      {
        "duration": 36,
        "start_time": "2022-12-03T17:47:37.990Z"
      },
      {
        "duration": 5,
        "start_time": "2022-12-03T17:47:38.028Z"
      },
      {
        "duration": 32,
        "start_time": "2022-12-03T17:47:38.035Z"
      },
      {
        "duration": 15,
        "start_time": "2022-12-03T17:47:38.069Z"
      },
      {
        "duration": 63,
        "start_time": "2022-12-03T17:47:38.086Z"
      },
      {
        "duration": 5,
        "start_time": "2022-12-03T17:47:38.151Z"
      },
      {
        "duration": 14,
        "start_time": "2022-12-03T17:47:38.158Z"
      },
      {
        "duration": 5,
        "start_time": "2022-12-03T17:47:38.175Z"
      },
      {
        "duration": 51,
        "start_time": "2022-12-03T17:47:38.182Z"
      },
      {
        "duration": 174,
        "start_time": "2022-12-03T17:47:38.235Z"
      },
      {
        "duration": 149,
        "start_time": "2022-12-03T17:47:38.410Z"
      },
      {
        "duration": 15,
        "start_time": "2022-12-03T17:47:38.561Z"
      },
      {
        "duration": 11,
        "start_time": "2022-12-03T17:47:38.578Z"
      },
      {
        "duration": 196,
        "start_time": "2022-12-03T17:47:38.591Z"
      },
      {
        "duration": 15,
        "start_time": "2022-12-03T17:47:38.789Z"
      },
      {
        "duration": 25,
        "start_time": "2022-12-03T17:47:38.806Z"
      },
      {
        "duration": 39,
        "start_time": "2022-12-03T17:47:38.843Z"
      },
      {
        "duration": 385,
        "start_time": "2022-12-03T17:47:38.884Z"
      },
      {
        "duration": 82,
        "start_time": "2022-12-03T17:47:39.271Z"
      },
      {
        "duration": 72,
        "start_time": "2022-12-03T17:47:39.355Z"
      },
      {
        "duration": 9,
        "start_time": "2022-12-03T17:47:39.429Z"
      },
      {
        "duration": 25,
        "start_time": "2022-12-03T17:47:39.440Z"
      },
      {
        "duration": 8,
        "start_time": "2022-12-03T17:47:39.466Z"
      },
      {
        "duration": 73,
        "start_time": "2022-12-03T17:47:39.476Z"
      },
      {
        "duration": 9,
        "start_time": "2022-12-03T17:47:39.551Z"
      },
      {
        "duration": 12,
        "start_time": "2022-12-03T17:47:39.561Z"
      },
      {
        "duration": 18,
        "start_time": "2022-12-03T17:47:39.574Z"
      },
      {
        "duration": 1252,
        "start_time": "2022-12-03T17:48:34.539Z"
      },
      {
        "duration": 3,
        "start_time": "2022-12-03T17:48:35.793Z"
      },
      {
        "duration": 1218,
        "start_time": "2022-12-03T17:48:35.798Z"
      },
      {
        "duration": 19,
        "start_time": "2022-12-03T17:48:37.017Z"
      },
      {
        "duration": 18,
        "start_time": "2022-12-03T17:48:37.039Z"
      },
      {
        "duration": 15,
        "start_time": "2022-12-03T17:48:37.058Z"
      },
      {
        "duration": 12,
        "start_time": "2022-12-03T17:48:37.075Z"
      },
      {
        "duration": 77,
        "start_time": "2022-12-03T17:48:37.088Z"
      },
      {
        "duration": 21,
        "start_time": "2022-12-03T17:48:37.167Z"
      },
      {
        "duration": 12,
        "start_time": "2022-12-03T17:48:37.189Z"
      },
      {
        "duration": 35,
        "start_time": "2022-12-03T17:48:37.202Z"
      },
      {
        "duration": 31,
        "start_time": "2022-12-03T17:48:37.240Z"
      },
      {
        "duration": 282,
        "start_time": "2022-12-03T17:48:37.273Z"
      },
      {
        "duration": 9,
        "start_time": "2022-12-03T17:48:37.558Z"
      },
      {
        "duration": 14,
        "start_time": "2022-12-03T17:48:37.568Z"
      },
      {
        "duration": 78,
        "start_time": "2022-12-03T17:48:37.583Z"
      },
      {
        "duration": 8,
        "start_time": "2022-12-03T17:48:37.663Z"
      },
      {
        "duration": 50,
        "start_time": "2022-12-03T17:48:37.672Z"
      },
      {
        "duration": 8,
        "start_time": "2022-12-03T17:48:37.725Z"
      },
      {
        "duration": 176,
        "start_time": "2022-12-03T17:48:37.735Z"
      },
      {
        "duration": 14,
        "start_time": "2022-12-03T17:48:37.913Z"
      },
      {
        "duration": 19,
        "start_time": "2022-12-03T17:48:37.929Z"
      },
      {
        "duration": 14,
        "start_time": "2022-12-03T17:48:37.950Z"
      },
      {
        "duration": 9,
        "start_time": "2022-12-03T17:48:37.965Z"
      },
      {
        "duration": 7,
        "start_time": "2022-12-03T17:48:37.976Z"
      },
      {
        "duration": 45,
        "start_time": "2022-12-03T17:48:37.985Z"
      },
      {
        "duration": 104,
        "start_time": "2022-12-03T17:48:38.032Z"
      },
      {
        "duration": 11,
        "start_time": "2022-12-03T17:48:38.137Z"
      },
      {
        "duration": 16,
        "start_time": "2022-12-03T17:48:38.149Z"
      },
      {
        "duration": 57,
        "start_time": "2022-12-03T17:48:38.167Z"
      },
      {
        "duration": 12,
        "start_time": "2022-12-03T17:48:38.226Z"
      },
      {
        "duration": 11,
        "start_time": "2022-12-03T17:48:38.240Z"
      },
      {
        "duration": 100,
        "start_time": "2022-12-03T17:48:38.252Z"
      },
      {
        "duration": 10,
        "start_time": "2022-12-03T17:48:38.354Z"
      },
      {
        "duration": 65,
        "start_time": "2022-12-03T17:48:38.365Z"
      },
      {
        "duration": 23,
        "start_time": "2022-12-03T17:48:38.432Z"
      },
      {
        "duration": 4,
        "start_time": "2022-12-03T17:48:38.459Z"
      },
      {
        "duration": 60,
        "start_time": "2022-12-03T17:48:38.465Z"
      },
      {
        "duration": 23,
        "start_time": "2022-12-03T17:48:38.527Z"
      },
      {
        "duration": 77,
        "start_time": "2022-12-03T17:48:38.552Z"
      },
      {
        "duration": 6,
        "start_time": "2022-12-03T17:48:38.633Z"
      },
      {
        "duration": 9,
        "start_time": "2022-12-03T17:48:38.641Z"
      },
      {
        "duration": 8,
        "start_time": "2022-12-03T17:48:38.651Z"
      },
      {
        "duration": 82,
        "start_time": "2022-12-03T17:48:38.660Z"
      },
      {
        "duration": 306,
        "start_time": "2022-12-03T17:48:38.744Z"
      },
      {
        "duration": 291,
        "start_time": "2022-12-03T17:48:39.051Z"
      },
      {
        "duration": 13,
        "start_time": "2022-12-03T17:48:39.344Z"
      },
      {
        "duration": 9,
        "start_time": "2022-12-03T17:48:39.359Z"
      },
      {
        "duration": 244,
        "start_time": "2022-12-03T17:48:39.423Z"
      },
      {
        "duration": 59,
        "start_time": "2022-12-03T17:48:39.668Z"
      },
      {
        "duration": 25,
        "start_time": "2022-12-03T17:48:39.729Z"
      },
      {
        "duration": 14,
        "start_time": "2022-12-03T17:48:39.756Z"
      },
      {
        "duration": 581,
        "start_time": "2022-12-03T17:48:39.771Z"
      },
      {
        "duration": 82,
        "start_time": "2022-12-03T17:48:40.354Z"
      },
      {
        "duration": 30,
        "start_time": "2022-12-03T17:48:40.438Z"
      },
      {
        "duration": 53,
        "start_time": "2022-12-03T17:48:40.470Z"
      },
      {
        "duration": 21,
        "start_time": "2022-12-03T17:48:40.525Z"
      },
      {
        "duration": 14,
        "start_time": "2022-12-03T17:48:40.548Z"
      },
      {
        "duration": 23,
        "start_time": "2022-12-03T17:48:40.564Z"
      },
      {
        "duration": 34,
        "start_time": "2022-12-03T17:48:40.589Z"
      },
      {
        "duration": 27,
        "start_time": "2022-12-03T17:48:40.625Z"
      },
      {
        "duration": 14,
        "start_time": "2022-12-03T17:48:40.654Z"
      },
      {
        "duration": 1245,
        "start_time": "2022-12-03T17:49:42.437Z"
      },
      {
        "duration": 3,
        "start_time": "2022-12-03T17:49:43.687Z"
      },
      {
        "duration": 1397,
        "start_time": "2022-12-03T17:49:43.692Z"
      },
      {
        "duration": 11,
        "start_time": "2022-12-03T17:49:45.091Z"
      },
      {
        "duration": 16,
        "start_time": "2022-12-03T17:49:45.104Z"
      },
      {
        "duration": 23,
        "start_time": "2022-12-03T17:49:45.122Z"
      },
      {
        "duration": 13,
        "start_time": "2022-12-03T17:49:45.147Z"
      },
      {
        "duration": 75,
        "start_time": "2022-12-03T17:49:45.161Z"
      },
      {
        "duration": 22,
        "start_time": "2022-12-03T17:49:45.238Z"
      },
      {
        "duration": 12,
        "start_time": "2022-12-03T17:49:45.262Z"
      },
      {
        "duration": 11,
        "start_time": "2022-12-03T17:49:45.276Z"
      },
      {
        "duration": 67,
        "start_time": "2022-12-03T17:49:45.288Z"
      },
      {
        "duration": 302,
        "start_time": "2022-12-03T17:49:45.357Z"
      },
      {
        "duration": 10,
        "start_time": "2022-12-03T17:49:45.661Z"
      },
      {
        "duration": 13,
        "start_time": "2022-12-03T17:49:45.673Z"
      },
      {
        "duration": 78,
        "start_time": "2022-12-03T17:49:45.687Z"
      },
      {
        "duration": 8,
        "start_time": "2022-12-03T17:49:45.767Z"
      },
      {
        "duration": 51,
        "start_time": "2022-12-03T17:49:45.776Z"
      },
      {
        "duration": 9,
        "start_time": "2022-12-03T17:49:45.828Z"
      },
      {
        "duration": 182,
        "start_time": "2022-12-03T17:49:45.839Z"
      },
      {
        "duration": 12,
        "start_time": "2022-12-03T17:49:46.023Z"
      },
      {
        "duration": 11,
        "start_time": "2022-12-03T17:49:46.037Z"
      },
      {
        "duration": 12,
        "start_time": "2022-12-03T17:49:46.049Z"
      },
      {
        "duration": 13,
        "start_time": "2022-12-03T17:49:46.062Z"
      },
      {
        "duration": 21,
        "start_time": "2022-12-03T17:49:46.077Z"
      },
      {
        "duration": 5,
        "start_time": "2022-12-03T17:49:46.099Z"
      },
      {
        "duration": 69,
        "start_time": "2022-12-03T17:49:46.106Z"
      },
      {
        "duration": 8,
        "start_time": "2022-12-03T17:49:46.179Z"
      },
      {
        "duration": 18,
        "start_time": "2022-12-03T17:49:46.189Z"
      },
      {
        "duration": 5,
        "start_time": "2022-12-03T17:49:46.222Z"
      },
      {
        "duration": 35,
        "start_time": "2022-12-03T17:49:46.229Z"
      },
      {
        "duration": 12,
        "start_time": "2022-12-03T17:49:46.265Z"
      },
      {
        "duration": 84,
        "start_time": "2022-12-03T17:49:46.279Z"
      },
      {
        "duration": 59,
        "start_time": "2022-12-03T17:49:46.364Z"
      },
      {
        "duration": 16,
        "start_time": "2022-12-03T17:49:46.425Z"
      },
      {
        "duration": 23,
        "start_time": "2022-12-03T17:49:46.443Z"
      },
      {
        "duration": 57,
        "start_time": "2022-12-03T17:49:46.468Z"
      },
      {
        "duration": 49,
        "start_time": "2022-12-03T17:49:46.527Z"
      },
      {
        "duration": 17,
        "start_time": "2022-12-03T17:49:46.578Z"
      },
      {
        "duration": 69,
        "start_time": "2022-12-03T17:49:46.596Z"
      },
      {
        "duration": 274,
        "start_time": "2022-12-03T17:49:46.667Z"
      },
      {
        "duration": 0,
        "start_time": "2022-12-03T17:49:46.943Z"
      },
      {
        "duration": 0,
        "start_time": "2022-12-03T17:49:46.945Z"
      },
      {
        "duration": 0,
        "start_time": "2022-12-03T17:49:46.946Z"
      },
      {
        "duration": 0,
        "start_time": "2022-12-03T17:49:46.947Z"
      },
      {
        "duration": 0,
        "start_time": "2022-12-03T17:49:46.948Z"
      },
      {
        "duration": 0,
        "start_time": "2022-12-03T17:49:46.949Z"
      },
      {
        "duration": 0,
        "start_time": "2022-12-03T17:49:46.950Z"
      },
      {
        "duration": 0,
        "start_time": "2022-12-03T17:49:46.951Z"
      },
      {
        "duration": 0,
        "start_time": "2022-12-03T17:49:46.953Z"
      },
      {
        "duration": 0,
        "start_time": "2022-12-03T17:49:46.954Z"
      },
      {
        "duration": 0,
        "start_time": "2022-12-03T17:49:46.955Z"
      },
      {
        "duration": 0,
        "start_time": "2022-12-03T17:49:46.957Z"
      },
      {
        "duration": 0,
        "start_time": "2022-12-03T17:49:46.958Z"
      },
      {
        "duration": 0,
        "start_time": "2022-12-03T17:49:46.959Z"
      },
      {
        "duration": 0,
        "start_time": "2022-12-03T17:49:46.961Z"
      },
      {
        "duration": 0,
        "start_time": "2022-12-03T17:49:46.962Z"
      },
      {
        "duration": 0,
        "start_time": "2022-12-03T17:49:47.022Z"
      },
      {
        "duration": 0,
        "start_time": "2022-12-03T17:49:47.023Z"
      },
      {
        "duration": 1,
        "start_time": "2022-12-03T17:49:47.024Z"
      },
      {
        "duration": 0,
        "start_time": "2022-12-03T17:49:47.026Z"
      },
      {
        "duration": 0,
        "start_time": "2022-12-03T17:49:47.027Z"
      },
      {
        "duration": 0,
        "start_time": "2022-12-03T17:49:47.028Z"
      },
      {
        "duration": 5,
        "start_time": "2022-12-03T17:50:31.139Z"
      },
      {
        "duration": 1230,
        "start_time": "2022-12-03T17:52:09.423Z"
      },
      {
        "duration": 3,
        "start_time": "2022-12-03T17:52:10.655Z"
      },
      {
        "duration": 1449,
        "start_time": "2022-12-03T17:52:10.660Z"
      },
      {
        "duration": 11,
        "start_time": "2022-12-03T17:52:12.111Z"
      },
      {
        "duration": 25,
        "start_time": "2022-12-03T17:52:12.124Z"
      },
      {
        "duration": 25,
        "start_time": "2022-12-03T17:52:12.151Z"
      },
      {
        "duration": 11,
        "start_time": "2022-12-03T17:52:12.178Z"
      },
      {
        "duration": 136,
        "start_time": "2022-12-03T17:52:12.191Z"
      },
      {
        "duration": 31,
        "start_time": "2022-12-03T17:52:12.329Z"
      },
      {
        "duration": 59,
        "start_time": "2022-12-03T17:52:12.363Z"
      },
      {
        "duration": 18,
        "start_time": "2022-12-03T17:52:12.424Z"
      },
      {
        "duration": 84,
        "start_time": "2022-12-03T17:52:12.443Z"
      },
      {
        "duration": 605,
        "start_time": "2022-12-03T17:52:12.529Z"
      },
      {
        "duration": 9,
        "start_time": "2022-12-03T17:52:13.136Z"
      },
      {
        "duration": 13,
        "start_time": "2022-12-03T17:52:13.146Z"
      },
      {
        "duration": 105,
        "start_time": "2022-12-03T17:52:13.161Z"
      },
      {
        "duration": 59,
        "start_time": "2022-12-03T17:52:13.268Z"
      },
      {
        "duration": 36,
        "start_time": "2022-12-03T17:52:13.329Z"
      },
      {
        "duration": 58,
        "start_time": "2022-12-03T17:52:13.367Z"
      },
      {
        "duration": 295,
        "start_time": "2022-12-03T17:52:13.427Z"
      },
      {
        "duration": 12,
        "start_time": "2022-12-03T17:52:13.724Z"
      },
      {
        "duration": 8,
        "start_time": "2022-12-03T17:52:13.738Z"
      },
      {
        "duration": 10,
        "start_time": "2022-12-03T17:52:13.747Z"
      },
      {
        "duration": 8,
        "start_time": "2022-12-03T17:52:13.759Z"
      },
      {
        "duration": 6,
        "start_time": "2022-12-03T17:52:13.822Z"
      },
      {
        "duration": 5,
        "start_time": "2022-12-03T17:52:13.830Z"
      },
      {
        "duration": 102,
        "start_time": "2022-12-03T17:52:13.837Z"
      },
      {
        "duration": 9,
        "start_time": "2022-12-03T17:52:13.943Z"
      },
      {
        "duration": 11,
        "start_time": "2022-12-03T17:52:13.954Z"
      },
      {
        "duration": 7,
        "start_time": "2022-12-03T17:52:14.023Z"
      },
      {
        "duration": 21,
        "start_time": "2022-12-03T17:52:14.037Z"
      },
      {
        "duration": 69,
        "start_time": "2022-12-03T17:52:14.060Z"
      },
      {
        "duration": 119,
        "start_time": "2022-12-03T17:52:14.131Z"
      },
      {
        "duration": 12,
        "start_time": "2022-12-03T17:52:14.252Z"
      },
      {
        "duration": 20,
        "start_time": "2022-12-03T17:52:14.267Z"
      },
      {
        "duration": 49,
        "start_time": "2022-12-03T17:52:14.289Z"
      },
      {
        "duration": 6,
        "start_time": "2022-12-03T17:52:14.340Z"
      },
      {
        "duration": 13,
        "start_time": "2022-12-03T17:52:14.348Z"
      },
      {
        "duration": 10,
        "start_time": "2022-12-03T17:52:14.362Z"
      },
      {
        "duration": 50,
        "start_time": "2022-12-03T17:52:14.374Z"
      },
      {
        "duration": 48,
        "start_time": "2022-12-03T17:52:14.426Z"
      },
      {
        "duration": 24,
        "start_time": "2022-12-03T17:52:14.476Z"
      },
      {
        "duration": 7,
        "start_time": "2022-12-03T17:52:14.521Z"
      },
      {
        "duration": 8,
        "start_time": "2022-12-03T17:52:14.530Z"
      },
      {
        "duration": 5,
        "start_time": "2022-12-03T17:52:14.539Z"
      },
      {
        "duration": 128,
        "start_time": "2022-12-03T17:52:14.545Z"
      },
      {
        "duration": 0,
        "start_time": "2022-12-03T17:52:14.675Z"
      },
      {
        "duration": 0,
        "start_time": "2022-12-03T17:52:14.676Z"
      },
      {
        "duration": 0,
        "start_time": "2022-12-03T17:52:14.677Z"
      },
      {
        "duration": 0,
        "start_time": "2022-12-03T17:52:14.678Z"
      },
      {
        "duration": 0,
        "start_time": "2022-12-03T17:52:14.680Z"
      },
      {
        "duration": 0,
        "start_time": "2022-12-03T17:52:14.681Z"
      },
      {
        "duration": 0,
        "start_time": "2022-12-03T17:52:14.682Z"
      },
      {
        "duration": 0,
        "start_time": "2022-12-03T17:52:14.683Z"
      },
      {
        "duration": 0,
        "start_time": "2022-12-03T17:52:14.684Z"
      },
      {
        "duration": 0,
        "start_time": "2022-12-03T17:52:14.685Z"
      },
      {
        "duration": 0,
        "start_time": "2022-12-03T17:52:14.687Z"
      },
      {
        "duration": 0,
        "start_time": "2022-12-03T17:52:14.687Z"
      },
      {
        "duration": 0,
        "start_time": "2022-12-03T17:52:14.688Z"
      },
      {
        "duration": 0,
        "start_time": "2022-12-03T17:52:14.689Z"
      },
      {
        "duration": 0,
        "start_time": "2022-12-03T17:52:14.690Z"
      },
      {
        "duration": 0,
        "start_time": "2022-12-03T17:52:14.691Z"
      },
      {
        "duration": 0,
        "start_time": "2022-12-03T17:52:14.722Z"
      },
      {
        "duration": 0,
        "start_time": "2022-12-03T17:52:14.723Z"
      },
      {
        "duration": 11,
        "start_time": "2022-12-03T17:57:05.316Z"
      },
      {
        "duration": 12,
        "start_time": "2022-12-03T17:57:09.815Z"
      },
      {
        "duration": 14,
        "start_time": "2022-12-03T17:57:20.015Z"
      },
      {
        "duration": 2086,
        "start_time": "2022-12-03T17:57:28.667Z"
      },
      {
        "duration": 3,
        "start_time": "2022-12-03T17:57:30.755Z"
      },
      {
        "duration": 1872,
        "start_time": "2022-12-03T17:57:30.760Z"
      },
      {
        "duration": 11,
        "start_time": "2022-12-03T17:57:32.635Z"
      },
      {
        "duration": 16,
        "start_time": "2022-12-03T17:57:32.648Z"
      },
      {
        "duration": 73,
        "start_time": "2022-12-03T17:57:32.666Z"
      },
      {
        "duration": 19,
        "start_time": "2022-12-03T17:57:32.742Z"
      },
      {
        "duration": 149,
        "start_time": "2022-12-03T17:57:32.763Z"
      },
      {
        "duration": 28,
        "start_time": "2022-12-03T17:57:32.914Z"
      },
      {
        "duration": 12,
        "start_time": "2022-12-03T17:57:32.945Z"
      },
      {
        "duration": 12,
        "start_time": "2022-12-03T17:57:32.959Z"
      },
      {
        "duration": 63,
        "start_time": "2022-12-03T17:57:32.973Z"
      },
      {
        "duration": 288,
        "start_time": "2022-12-03T17:57:33.038Z"
      },
      {
        "duration": 13,
        "start_time": "2022-12-03T17:57:33.327Z"
      },
      {
        "duration": 12,
        "start_time": "2022-12-03T17:57:33.343Z"
      },
      {
        "duration": 74,
        "start_time": "2022-12-03T17:57:33.357Z"
      },
      {
        "duration": 11,
        "start_time": "2022-12-03T17:57:33.433Z"
      },
      {
        "duration": 56,
        "start_time": "2022-12-03T17:57:33.446Z"
      },
      {
        "duration": 7,
        "start_time": "2022-12-03T17:57:33.522Z"
      },
      {
        "duration": 152,
        "start_time": "2022-12-03T17:57:33.531Z"
      },
      {
        "duration": 12,
        "start_time": "2022-12-03T17:57:33.684Z"
      },
      {
        "duration": 8,
        "start_time": "2022-12-03T17:57:33.698Z"
      },
      {
        "duration": 11,
        "start_time": "2022-12-03T17:57:33.723Z"
      },
      {
        "duration": 6,
        "start_time": "2022-12-03T17:57:33.736Z"
      },
      {
        "duration": 8,
        "start_time": "2022-12-03T17:57:33.744Z"
      },
      {
        "duration": 5,
        "start_time": "2022-12-03T17:57:33.754Z"
      },
      {
        "duration": 86,
        "start_time": "2022-12-03T17:57:33.761Z"
      },
      {
        "duration": 11,
        "start_time": "2022-12-03T17:57:33.853Z"
      },
      {
        "duration": 17,
        "start_time": "2022-12-03T17:57:33.866Z"
      },
      {
        "duration": 5,
        "start_time": "2022-12-03T17:57:33.885Z"
      },
      {
        "duration": 38,
        "start_time": "2022-12-03T17:57:33.892Z"
      },
      {
        "duration": 8,
        "start_time": "2022-12-03T17:57:33.932Z"
      },
      {
        "duration": 51,
        "start_time": "2022-12-03T17:57:33.942Z"
      },
      {
        "duration": 28,
        "start_time": "2022-12-03T17:57:33.995Z"
      },
      {
        "duration": 36,
        "start_time": "2022-12-03T17:57:34.026Z"
      },
      {
        "duration": 24,
        "start_time": "2022-12-03T17:57:34.064Z"
      },
      {
        "duration": 28,
        "start_time": "2022-12-03T17:57:34.090Z"
      },
      {
        "duration": 31,
        "start_time": "2022-12-03T17:57:34.120Z"
      },
      {
        "duration": 21,
        "start_time": "2022-12-03T17:57:34.153Z"
      },
      {
        "duration": 40,
        "start_time": "2022-12-03T17:57:34.176Z"
      },
      {
        "duration": 70,
        "start_time": "2022-12-03T17:57:34.218Z"
      },
      {
        "duration": 37,
        "start_time": "2022-12-03T17:57:34.290Z"
      },
      {
        "duration": 7,
        "start_time": "2022-12-03T17:57:34.330Z"
      },
      {
        "duration": 14,
        "start_time": "2022-12-03T17:57:34.339Z"
      },
      {
        "duration": 6,
        "start_time": "2022-12-03T17:57:34.354Z"
      },
      {
        "duration": 112,
        "start_time": "2022-12-03T17:57:34.362Z"
      },
      {
        "duration": 0,
        "start_time": "2022-12-03T17:57:34.476Z"
      },
      {
        "duration": 0,
        "start_time": "2022-12-03T17:57:34.477Z"
      },
      {
        "duration": 0,
        "start_time": "2022-12-03T17:57:34.479Z"
      },
      {
        "duration": 0,
        "start_time": "2022-12-03T17:57:34.480Z"
      },
      {
        "duration": 0,
        "start_time": "2022-12-03T17:57:34.481Z"
      },
      {
        "duration": 0,
        "start_time": "2022-12-03T17:57:34.483Z"
      },
      {
        "duration": 0,
        "start_time": "2022-12-03T17:57:34.485Z"
      },
      {
        "duration": 0,
        "start_time": "2022-12-03T17:57:34.486Z"
      },
      {
        "duration": 0,
        "start_time": "2022-12-03T17:57:34.487Z"
      },
      {
        "duration": 0,
        "start_time": "2022-12-03T17:57:34.488Z"
      },
      {
        "duration": 0,
        "start_time": "2022-12-03T17:57:34.489Z"
      },
      {
        "duration": 0,
        "start_time": "2022-12-03T17:57:34.491Z"
      },
      {
        "duration": 0,
        "start_time": "2022-12-03T17:57:34.491Z"
      },
      {
        "duration": 0,
        "start_time": "2022-12-03T17:57:34.523Z"
      },
      {
        "duration": 0,
        "start_time": "2022-12-03T17:57:34.524Z"
      },
      {
        "duration": 0,
        "start_time": "2022-12-03T17:57:34.526Z"
      },
      {
        "duration": 0,
        "start_time": "2022-12-03T17:57:34.527Z"
      },
      {
        "duration": 0,
        "start_time": "2022-12-03T17:57:34.528Z"
      },
      {
        "duration": 1244,
        "start_time": "2022-12-03T17:58:16.023Z"
      },
      {
        "duration": 4,
        "start_time": "2022-12-03T17:58:17.270Z"
      },
      {
        "duration": 1264,
        "start_time": "2022-12-03T17:58:17.276Z"
      },
      {
        "duration": 11,
        "start_time": "2022-12-03T17:58:18.542Z"
      },
      {
        "duration": 19,
        "start_time": "2022-12-03T17:58:18.555Z"
      },
      {
        "duration": 36,
        "start_time": "2022-12-03T17:58:18.577Z"
      },
      {
        "duration": 16,
        "start_time": "2022-12-03T17:58:18.615Z"
      },
      {
        "duration": 63,
        "start_time": "2022-12-03T17:58:18.632Z"
      },
      {
        "duration": 34,
        "start_time": "2022-12-03T17:58:18.696Z"
      },
      {
        "duration": 11,
        "start_time": "2022-12-03T17:58:18.733Z"
      },
      {
        "duration": 13,
        "start_time": "2022-12-03T17:58:18.746Z"
      },
      {
        "duration": 38,
        "start_time": "2022-12-03T17:58:18.761Z"
      },
      {
        "duration": 341,
        "start_time": "2022-12-03T17:58:18.801Z"
      },
      {
        "duration": 11,
        "start_time": "2022-12-03T17:58:19.143Z"
      },
      {
        "duration": 16,
        "start_time": "2022-12-03T17:58:19.156Z"
      },
      {
        "duration": 121,
        "start_time": "2022-12-03T17:58:19.175Z"
      },
      {
        "duration": 11,
        "start_time": "2022-12-03T17:58:19.298Z"
      },
      {
        "duration": 57,
        "start_time": "2022-12-03T17:58:19.322Z"
      },
      {
        "duration": 9,
        "start_time": "2022-12-03T17:58:19.382Z"
      },
      {
        "duration": 188,
        "start_time": "2022-12-03T17:58:19.393Z"
      },
      {
        "duration": 12,
        "start_time": "2022-12-03T17:58:19.583Z"
      },
      {
        "duration": 28,
        "start_time": "2022-12-03T17:58:19.597Z"
      },
      {
        "duration": 15,
        "start_time": "2022-12-03T17:58:19.627Z"
      },
      {
        "duration": 6,
        "start_time": "2022-12-03T17:58:19.644Z"
      },
      {
        "duration": 11,
        "start_time": "2022-12-03T17:58:19.651Z"
      },
      {
        "duration": 6,
        "start_time": "2022-12-03T17:58:19.663Z"
      },
      {
        "duration": 77,
        "start_time": "2022-12-03T17:58:19.671Z"
      },
      {
        "duration": 9,
        "start_time": "2022-12-03T17:58:19.752Z"
      },
      {
        "duration": 10,
        "start_time": "2022-12-03T17:58:19.763Z"
      },
      {
        "duration": 8,
        "start_time": "2022-12-03T17:58:19.775Z"
      },
      {
        "duration": 42,
        "start_time": "2022-12-03T17:58:19.785Z"
      },
      {
        "duration": 12,
        "start_time": "2022-12-03T17:58:19.830Z"
      },
      {
        "duration": 44,
        "start_time": "2022-12-03T17:58:19.845Z"
      },
      {
        "duration": 38,
        "start_time": "2022-12-03T17:58:19.892Z"
      },
      {
        "duration": 18,
        "start_time": "2022-12-03T17:58:19.932Z"
      },
      {
        "duration": 15,
        "start_time": "2022-12-03T17:58:19.951Z"
      },
      {
        "duration": 4,
        "start_time": "2022-12-03T17:58:19.967Z"
      },
      {
        "duration": 14,
        "start_time": "2022-12-03T17:58:19.973Z"
      },
      {
        "duration": 40,
        "start_time": "2022-12-03T17:58:19.988Z"
      },
      {
        "duration": 21,
        "start_time": "2022-12-03T17:58:20.029Z"
      },
      {
        "duration": 46,
        "start_time": "2022-12-03T17:58:20.052Z"
      },
      {
        "duration": 40,
        "start_time": "2022-12-03T17:58:20.100Z"
      },
      {
        "duration": 7,
        "start_time": "2022-12-03T17:58:20.142Z"
      },
      {
        "duration": 11,
        "start_time": "2022-12-03T17:58:20.150Z"
      },
      {
        "duration": 6,
        "start_time": "2022-12-03T17:58:20.163Z"
      },
      {
        "duration": 21,
        "start_time": "2022-12-03T17:58:20.170Z"
      },
      {
        "duration": 180,
        "start_time": "2022-12-03T17:58:20.193Z"
      },
      {
        "duration": 142,
        "start_time": "2022-12-03T17:58:20.376Z"
      },
      {
        "duration": 13,
        "start_time": "2022-12-03T17:58:20.520Z"
      },
      {
        "duration": 14,
        "start_time": "2022-12-03T17:58:20.534Z"
      },
      {
        "duration": 161,
        "start_time": "2022-12-03T17:58:20.549Z"
      },
      {
        "duration": 15,
        "start_time": "2022-12-03T17:58:20.712Z"
      },
      {
        "duration": 16,
        "start_time": "2022-12-03T17:58:20.729Z"
      },
      {
        "duration": 13,
        "start_time": "2022-12-03T17:58:20.747Z"
      },
      {
        "duration": 371,
        "start_time": "2022-12-03T17:58:20.762Z"
      },
      {
        "duration": 108,
        "start_time": "2022-12-03T17:58:21.135Z"
      },
      {
        "duration": 81,
        "start_time": "2022-12-03T17:58:21.245Z"
      },
      {
        "duration": 12,
        "start_time": "2022-12-03T17:58:21.328Z"
      },
      {
        "duration": 24,
        "start_time": "2022-12-03T17:58:21.342Z"
      },
      {
        "duration": 62,
        "start_time": "2022-12-03T17:58:21.369Z"
      },
      {
        "duration": 26,
        "start_time": "2022-12-03T17:58:21.433Z"
      },
      {
        "duration": 8,
        "start_time": "2022-12-03T17:58:21.461Z"
      },
      {
        "duration": 27,
        "start_time": "2022-12-03T17:58:21.471Z"
      },
      {
        "duration": 26,
        "start_time": "2022-12-03T17:58:21.501Z"
      },
      {
        "duration": 1296,
        "start_time": "2022-12-03T18:04:26.256Z"
      },
      {
        "duration": 4,
        "start_time": "2022-12-03T18:04:27.555Z"
      },
      {
        "duration": 1172,
        "start_time": "2022-12-03T18:04:27.561Z"
      },
      {
        "duration": 14,
        "start_time": "2022-12-03T18:04:28.736Z"
      },
      {
        "duration": 18,
        "start_time": "2022-12-03T18:04:28.752Z"
      },
      {
        "duration": 20,
        "start_time": "2022-12-03T18:04:28.772Z"
      },
      {
        "duration": 38,
        "start_time": "2022-12-03T18:04:28.794Z"
      },
      {
        "duration": 59,
        "start_time": "2022-12-03T18:04:28.834Z"
      },
      {
        "duration": 46,
        "start_time": "2022-12-03T18:04:28.895Z"
      },
      {
        "duration": 15,
        "start_time": "2022-12-03T18:04:28.944Z"
      },
      {
        "duration": 13,
        "start_time": "2022-12-03T18:04:28.960Z"
      },
      {
        "duration": 78,
        "start_time": "2022-12-03T18:04:28.976Z"
      },
      {
        "duration": 382,
        "start_time": "2022-12-03T18:04:29.056Z"
      },
      {
        "duration": 10,
        "start_time": "2022-12-03T18:04:29.440Z"
      },
      {
        "duration": 15,
        "start_time": "2022-12-03T18:04:29.454Z"
      },
      {
        "duration": 115,
        "start_time": "2022-12-03T18:04:29.472Z"
      },
      {
        "duration": 11,
        "start_time": "2022-12-03T18:04:29.589Z"
      },
      {
        "duration": 75,
        "start_time": "2022-12-03T18:04:29.602Z"
      },
      {
        "duration": 9,
        "start_time": "2022-12-03T18:04:29.679Z"
      },
      {
        "duration": 273,
        "start_time": "2022-12-03T18:04:29.691Z"
      },
      {
        "duration": 17,
        "start_time": "2022-12-03T18:04:29.967Z"
      },
      {
        "duration": 9,
        "start_time": "2022-12-03T18:04:29.987Z"
      },
      {
        "duration": 32,
        "start_time": "2022-12-03T18:04:29.998Z"
      },
      {
        "duration": 7,
        "start_time": "2022-12-03T18:04:30.032Z"
      },
      {
        "duration": 15,
        "start_time": "2022-12-03T18:04:30.041Z"
      },
      {
        "duration": 6,
        "start_time": "2022-12-03T18:04:30.059Z"
      },
      {
        "duration": 69,
        "start_time": "2022-12-03T18:04:30.067Z"
      },
      {
        "duration": 11,
        "start_time": "2022-12-03T18:04:30.142Z"
      },
      {
        "duration": 25,
        "start_time": "2022-12-03T18:04:30.155Z"
      },
      {
        "duration": 11,
        "start_time": "2022-12-03T18:04:30.182Z"
      },
      {
        "duration": 322,
        "start_time": "2022-12-03T18:04:30.195Z"
      },
      {
        "duration": 101,
        "start_time": "2022-12-03T18:04:30.522Z"
      },
      {
        "duration": 0,
        "start_time": "2022-12-03T18:04:30.626Z"
      },
      {
        "duration": 0,
        "start_time": "2022-12-03T18:04:30.627Z"
      },
      {
        "duration": 0,
        "start_time": "2022-12-03T18:04:30.628Z"
      },
      {
        "duration": 0,
        "start_time": "2022-12-03T18:04:30.630Z"
      },
      {
        "duration": 0,
        "start_time": "2022-12-03T18:04:30.631Z"
      },
      {
        "duration": 0,
        "start_time": "2022-12-03T18:04:30.632Z"
      },
      {
        "duration": 0,
        "start_time": "2022-12-03T18:04:30.633Z"
      },
      {
        "duration": 0,
        "start_time": "2022-12-03T18:04:30.634Z"
      },
      {
        "duration": 0,
        "start_time": "2022-12-03T18:04:30.636Z"
      },
      {
        "duration": 0,
        "start_time": "2022-12-03T18:04:30.637Z"
      },
      {
        "duration": 0,
        "start_time": "2022-12-03T18:04:30.638Z"
      },
      {
        "duration": 0,
        "start_time": "2022-12-03T18:04:30.640Z"
      },
      {
        "duration": 0,
        "start_time": "2022-12-03T18:04:30.641Z"
      },
      {
        "duration": 0,
        "start_time": "2022-12-03T18:04:30.643Z"
      },
      {
        "duration": 0,
        "start_time": "2022-12-03T18:04:30.645Z"
      },
      {
        "duration": 0,
        "start_time": "2022-12-03T18:04:30.646Z"
      },
      {
        "duration": 0,
        "start_time": "2022-12-03T18:04:30.648Z"
      },
      {
        "duration": 0,
        "start_time": "2022-12-03T18:04:30.649Z"
      },
      {
        "duration": 0,
        "start_time": "2022-12-03T18:04:30.650Z"
      },
      {
        "duration": 0,
        "start_time": "2022-12-03T18:04:30.652Z"
      },
      {
        "duration": 0,
        "start_time": "2022-12-03T18:04:30.653Z"
      },
      {
        "duration": 0,
        "start_time": "2022-12-03T18:04:30.655Z"
      },
      {
        "duration": 0,
        "start_time": "2022-12-03T18:04:30.656Z"
      },
      {
        "duration": 0,
        "start_time": "2022-12-03T18:04:30.657Z"
      },
      {
        "duration": 0,
        "start_time": "2022-12-03T18:04:30.659Z"
      },
      {
        "duration": 0,
        "start_time": "2022-12-03T18:04:30.660Z"
      },
      {
        "duration": 0,
        "start_time": "2022-12-03T18:04:30.721Z"
      },
      {
        "duration": 0,
        "start_time": "2022-12-03T18:04:30.723Z"
      },
      {
        "duration": 0,
        "start_time": "2022-12-03T18:04:30.726Z"
      },
      {
        "duration": 0,
        "start_time": "2022-12-03T18:04:30.727Z"
      },
      {
        "duration": 0,
        "start_time": "2022-12-03T18:04:30.729Z"
      },
      {
        "duration": 0,
        "start_time": "2022-12-03T18:04:30.731Z"
      },
      {
        "duration": 0,
        "start_time": "2022-12-03T18:04:30.732Z"
      },
      {
        "duration": 0,
        "start_time": "2022-12-03T18:04:30.734Z"
      },
      {
        "duration": 19,
        "start_time": "2022-12-03T18:05:58.818Z"
      },
      {
        "duration": 68,
        "start_time": "2022-12-03T18:07:27.553Z"
      },
      {
        "duration": 98,
        "start_time": "2022-12-03T18:08:38.388Z"
      },
      {
        "duration": 52,
        "start_time": "2022-12-03T18:11:17.685Z"
      },
      {
        "duration": 2155,
        "start_time": "2022-12-03T18:13:27.376Z"
      },
      {
        "duration": 3,
        "start_time": "2022-12-03T18:13:29.533Z"
      },
      {
        "duration": 2129,
        "start_time": "2022-12-03T18:13:29.538Z"
      },
      {
        "duration": 16,
        "start_time": "2022-12-03T18:13:31.670Z"
      },
      {
        "duration": 22,
        "start_time": "2022-12-03T18:13:31.688Z"
      },
      {
        "duration": 27,
        "start_time": "2022-12-03T18:13:31.712Z"
      },
      {
        "duration": 10,
        "start_time": "2022-12-03T18:13:31.741Z"
      },
      {
        "duration": 79,
        "start_time": "2022-12-03T18:13:31.753Z"
      },
      {
        "duration": 25,
        "start_time": "2022-12-03T18:13:31.834Z"
      },
      {
        "duration": 12,
        "start_time": "2022-12-03T18:13:31.863Z"
      },
      {
        "duration": 12,
        "start_time": "2022-12-03T18:13:31.877Z"
      },
      {
        "duration": 62,
        "start_time": "2022-12-03T18:13:31.891Z"
      },
      {
        "duration": 311,
        "start_time": "2022-12-03T18:13:31.955Z"
      },
      {
        "duration": 12,
        "start_time": "2022-12-03T18:13:32.268Z"
      },
      {
        "duration": 15,
        "start_time": "2022-12-03T18:13:32.281Z"
      },
      {
        "duration": 73,
        "start_time": "2022-12-03T18:13:32.298Z"
      },
      {
        "duration": 8,
        "start_time": "2022-12-03T18:13:32.373Z"
      },
      {
        "duration": 73,
        "start_time": "2022-12-03T18:13:32.383Z"
      },
      {
        "duration": 8,
        "start_time": "2022-12-03T18:13:32.458Z"
      },
      {
        "duration": 191,
        "start_time": "2022-12-03T18:13:32.468Z"
      },
      {
        "duration": 16,
        "start_time": "2022-12-03T18:13:32.661Z"
      },
      {
        "duration": 7,
        "start_time": "2022-12-03T18:13:32.679Z"
      },
      {
        "duration": 10,
        "start_time": "2022-12-03T18:13:32.688Z"
      },
      {
        "duration": 5,
        "start_time": "2022-12-03T18:13:32.723Z"
      },
      {
        "duration": 8,
        "start_time": "2022-12-03T18:13:32.730Z"
      },
      {
        "duration": 6,
        "start_time": "2022-12-03T18:13:32.739Z"
      },
      {
        "duration": 45,
        "start_time": "2022-12-03T18:13:32.746Z"
      },
      {
        "duration": 32,
        "start_time": "2022-12-03T18:13:32.795Z"
      },
      {
        "duration": 9,
        "start_time": "2022-12-03T18:13:32.829Z"
      },
      {
        "duration": 5,
        "start_time": "2022-12-03T18:13:32.840Z"
      },
      {
        "duration": 245,
        "start_time": "2022-12-03T18:13:32.846Z"
      },
      {
        "duration": 31,
        "start_time": "2022-12-03T18:13:33.092Z"
      },
      {
        "duration": 100,
        "start_time": "2022-12-03T18:13:33.125Z"
      },
      {
        "duration": 9,
        "start_time": "2022-12-03T18:13:33.227Z"
      },
      {
        "duration": 12,
        "start_time": "2022-12-03T18:13:33.238Z"
      },
      {
        "duration": 81,
        "start_time": "2022-12-03T18:13:33.252Z"
      },
      {
        "duration": 14,
        "start_time": "2022-12-03T18:13:33.335Z"
      },
      {
        "duration": 17,
        "start_time": "2022-12-03T18:13:33.351Z"
      },
      {
        "duration": 18,
        "start_time": "2022-12-03T18:13:33.377Z"
      },
      {
        "duration": 5,
        "start_time": "2022-12-03T18:13:33.397Z"
      },
      {
        "duration": 15,
        "start_time": "2022-12-03T18:13:33.423Z"
      },
      {
        "duration": 11,
        "start_time": "2022-12-03T18:13:33.440Z"
      },
      {
        "duration": 18,
        "start_time": "2022-12-03T18:13:33.453Z"
      },
      {
        "duration": 67,
        "start_time": "2022-12-03T18:13:33.473Z"
      },
      {
        "duration": 24,
        "start_time": "2022-12-03T18:13:33.542Z"
      },
      {
        "duration": 8,
        "start_time": "2022-12-03T18:13:33.568Z"
      },
      {
        "duration": 9,
        "start_time": "2022-12-03T18:13:33.578Z"
      },
      {
        "duration": 33,
        "start_time": "2022-12-03T18:13:33.589Z"
      },
      {
        "duration": 19,
        "start_time": "2022-12-03T18:13:33.624Z"
      },
      {
        "duration": 130,
        "start_time": "2022-12-03T18:13:33.645Z"
      },
      {
        "duration": 115,
        "start_time": "2022-12-03T18:13:33.777Z"
      },
      {
        "duration": 14,
        "start_time": "2022-12-03T18:13:33.895Z"
      },
      {
        "duration": 12,
        "start_time": "2022-12-03T18:13:33.923Z"
      },
      {
        "duration": 228,
        "start_time": "2022-12-03T18:13:33.938Z"
      },
      {
        "duration": 18,
        "start_time": "2022-12-03T18:13:34.168Z"
      },
      {
        "duration": 19,
        "start_time": "2022-12-03T18:13:34.188Z"
      },
      {
        "duration": 36,
        "start_time": "2022-12-03T18:13:34.223Z"
      },
      {
        "duration": 89,
        "start_time": "2022-12-03T18:13:34.641Z"
      },
      {
        "duration": 23,
        "start_time": "2022-12-03T18:13:34.731Z"
      },
      {
        "duration": 10,
        "start_time": "2022-12-03T18:13:34.756Z"
      },
      {
        "duration": 20,
        "start_time": "2022-12-03T18:13:34.821Z"
      },
      {
        "duration": 10,
        "start_time": "2022-12-03T18:13:34.843Z"
      },
      {
        "duration": 35,
        "start_time": "2022-12-03T18:13:34.855Z"
      },
      {
        "duration": 38,
        "start_time": "2022-12-03T18:13:34.892Z"
      },
      {
        "duration": 19,
        "start_time": "2022-12-03T18:13:34.932Z"
      },
      {
        "duration": 11,
        "start_time": "2022-12-03T18:13:34.953Z"
      },
      {
        "duration": 10,
        "start_time": "2022-12-03T18:14:01.929Z"
      },
      {
        "duration": 12,
        "start_time": "2022-12-03T18:14:02.504Z"
      },
      {
        "duration": 129,
        "start_time": "2022-12-03T18:14:03.377Z"
      },
      {
        "duration": 1363,
        "start_time": "2022-12-03T18:14:12.459Z"
      },
      {
        "duration": 9,
        "start_time": "2022-12-03T18:14:13.824Z"
      },
      {
        "duration": 1401,
        "start_time": "2022-12-03T18:14:13.836Z"
      },
      {
        "duration": 13,
        "start_time": "2022-12-03T18:14:15.240Z"
      },
      {
        "duration": 27,
        "start_time": "2022-12-03T18:14:15.255Z"
      },
      {
        "duration": 31,
        "start_time": "2022-12-03T18:14:15.285Z"
      },
      {
        "duration": 20,
        "start_time": "2022-12-03T18:14:15.323Z"
      },
      {
        "duration": 61,
        "start_time": "2022-12-03T18:14:15.345Z"
      },
      {
        "duration": 43,
        "start_time": "2022-12-03T18:14:15.408Z"
      },
      {
        "duration": 16,
        "start_time": "2022-12-03T18:14:15.455Z"
      },
      {
        "duration": 39,
        "start_time": "2022-12-03T18:14:15.473Z"
      },
      {
        "duration": 43,
        "start_time": "2022-12-03T18:14:15.514Z"
      },
      {
        "duration": 316,
        "start_time": "2022-12-03T18:14:15.559Z"
      },
      {
        "duration": 15,
        "start_time": "2022-12-03T18:14:15.876Z"
      },
      {
        "duration": 29,
        "start_time": "2022-12-03T18:14:15.894Z"
      },
      {
        "duration": 71,
        "start_time": "2022-12-03T18:14:15.925Z"
      },
      {
        "duration": 8,
        "start_time": "2022-12-03T18:14:15.998Z"
      },
      {
        "duration": 47,
        "start_time": "2022-12-03T18:14:16.007Z"
      },
      {
        "duration": 8,
        "start_time": "2022-12-03T18:14:16.055Z"
      },
      {
        "duration": 162,
        "start_time": "2022-12-03T18:14:16.065Z"
      },
      {
        "duration": 11,
        "start_time": "2022-12-03T18:14:16.230Z"
      },
      {
        "duration": 22,
        "start_time": "2022-12-03T18:14:16.242Z"
      },
      {
        "duration": 18,
        "start_time": "2022-12-03T18:14:16.266Z"
      },
      {
        "duration": 10,
        "start_time": "2022-12-03T18:14:16.286Z"
      },
      {
        "duration": 14,
        "start_time": "2022-12-03T18:14:16.297Z"
      },
      {
        "duration": 10,
        "start_time": "2022-12-03T18:14:16.313Z"
      },
      {
        "duration": 71,
        "start_time": "2022-12-03T18:14:16.325Z"
      },
      {
        "duration": 10,
        "start_time": "2022-12-03T18:14:16.400Z"
      },
      {
        "duration": 19,
        "start_time": "2022-12-03T18:14:16.413Z"
      },
      {
        "duration": 14,
        "start_time": "2022-12-03T18:14:16.434Z"
      },
      {
        "duration": 211,
        "start_time": "2022-12-03T18:14:16.450Z"
      },
      {
        "duration": 19,
        "start_time": "2022-12-03T18:14:16.663Z"
      },
      {
        "duration": 110,
        "start_time": "2022-12-03T18:14:16.684Z"
      },
      {
        "duration": 10,
        "start_time": "2022-12-03T18:14:16.795Z"
      },
      {
        "duration": 17,
        "start_time": "2022-12-03T18:14:16.806Z"
      },
      {
        "duration": 40,
        "start_time": "2022-12-03T18:14:16.825Z"
      },
      {
        "duration": 10,
        "start_time": "2022-12-03T18:14:16.867Z"
      },
      {
        "duration": 44,
        "start_time": "2022-12-03T18:14:16.879Z"
      },
      {
        "duration": 14,
        "start_time": "2022-12-03T18:14:16.925Z"
      },
      {
        "duration": 3,
        "start_time": "2022-12-03T18:14:16.941Z"
      },
      {
        "duration": 13,
        "start_time": "2022-12-03T18:14:16.946Z"
      },
      {
        "duration": 17,
        "start_time": "2022-12-03T18:14:16.961Z"
      },
      {
        "duration": 43,
        "start_time": "2022-12-03T18:14:16.980Z"
      },
      {
        "duration": 39,
        "start_time": "2022-12-03T18:14:17.025Z"
      },
      {
        "duration": 23,
        "start_time": "2022-12-03T18:14:17.066Z"
      },
      {
        "duration": 31,
        "start_time": "2022-12-03T18:14:17.091Z"
      },
      {
        "duration": 7,
        "start_time": "2022-12-03T18:14:17.124Z"
      },
      {
        "duration": 9,
        "start_time": "2022-12-03T18:14:17.133Z"
      },
      {
        "duration": 30,
        "start_time": "2022-12-03T18:14:17.144Z"
      },
      {
        "duration": 132,
        "start_time": "2022-12-03T18:14:17.176Z"
      },
      {
        "duration": 102,
        "start_time": "2022-12-03T18:14:17.311Z"
      },
      {
        "duration": 17,
        "start_time": "2022-12-03T18:14:17.415Z"
      },
      {
        "duration": 13,
        "start_time": "2022-12-03T18:14:17.434Z"
      },
      {
        "duration": 164,
        "start_time": "2022-12-03T18:14:17.449Z"
      },
      {
        "duration": 23,
        "start_time": "2022-12-03T18:14:17.616Z"
      },
      {
        "duration": 17,
        "start_time": "2022-12-03T18:14:17.641Z"
      },
      {
        "duration": 22,
        "start_time": "2022-12-03T18:14:17.660Z"
      },
      {
        "duration": 387,
        "start_time": "2022-12-03T18:14:17.684Z"
      },
      {
        "duration": 68,
        "start_time": "2022-12-03T18:14:18.073Z"
      },
      {
        "duration": 25,
        "start_time": "2022-12-03T18:14:18.143Z"
      },
      {
        "duration": 58,
        "start_time": "2022-12-03T18:14:18.170Z"
      },
      {
        "duration": 26,
        "start_time": "2022-12-03T18:14:18.230Z"
      },
      {
        "duration": 11,
        "start_time": "2022-12-03T18:14:18.258Z"
      },
      {
        "duration": 64,
        "start_time": "2022-12-03T18:14:18.272Z"
      },
      {
        "duration": 10,
        "start_time": "2022-12-03T18:14:18.338Z"
      },
      {
        "duration": 10,
        "start_time": "2022-12-03T18:14:18.350Z"
      },
      {
        "duration": 13,
        "start_time": "2022-12-03T18:14:18.362Z"
      },
      {
        "duration": 1250,
        "start_time": "2022-12-03T18:19:41.020Z"
      },
      {
        "duration": 3,
        "start_time": "2022-12-03T18:19:42.272Z"
      },
      {
        "duration": 1479,
        "start_time": "2022-12-03T18:19:42.278Z"
      },
      {
        "duration": 12,
        "start_time": "2022-12-03T18:19:43.760Z"
      },
      {
        "duration": 20,
        "start_time": "2022-12-03T18:19:43.774Z"
      },
      {
        "duration": 18,
        "start_time": "2022-12-03T18:19:43.795Z"
      },
      {
        "duration": 12,
        "start_time": "2022-12-03T18:19:43.815Z"
      },
      {
        "duration": 66,
        "start_time": "2022-12-03T18:19:43.829Z"
      },
      {
        "duration": 37,
        "start_time": "2022-12-03T18:19:43.897Z"
      },
      {
        "duration": 14,
        "start_time": "2022-12-03T18:19:43.937Z"
      },
      {
        "duration": 20,
        "start_time": "2022-12-03T18:19:43.952Z"
      },
      {
        "duration": 68,
        "start_time": "2022-12-03T18:19:43.974Z"
      },
      {
        "duration": 373,
        "start_time": "2022-12-03T18:19:44.044Z"
      },
      {
        "duration": 12,
        "start_time": "2022-12-03T18:19:44.420Z"
      },
      {
        "duration": 14,
        "start_time": "2022-12-03T18:19:44.434Z"
      },
      {
        "duration": 75,
        "start_time": "2022-12-03T18:19:44.450Z"
      },
      {
        "duration": 11,
        "start_time": "2022-12-03T18:19:44.527Z"
      },
      {
        "duration": 42,
        "start_time": "2022-12-03T18:19:44.540Z"
      },
      {
        "duration": 7,
        "start_time": "2022-12-03T18:19:44.584Z"
      },
      {
        "duration": 168,
        "start_time": "2022-12-03T18:19:44.593Z"
      },
      {
        "duration": 98,
        "start_time": "2022-12-03T18:19:44.764Z"
      },
      {
        "duration": 16,
        "start_time": "2022-12-03T18:19:44.864Z"
      },
      {
        "duration": 14,
        "start_time": "2022-12-03T18:19:44.882Z"
      },
      {
        "duration": 29,
        "start_time": "2022-12-03T18:19:44.898Z"
      },
      {
        "duration": 7,
        "start_time": "2022-12-03T18:19:44.929Z"
      },
      {
        "duration": 19,
        "start_time": "2022-12-03T18:19:44.939Z"
      },
      {
        "duration": 5,
        "start_time": "2022-12-03T18:19:44.963Z"
      },
      {
        "duration": 61,
        "start_time": "2022-12-03T18:19:44.972Z"
      },
      {
        "duration": 9,
        "start_time": "2022-12-03T18:19:45.036Z"
      },
      {
        "duration": 14,
        "start_time": "2022-12-03T18:19:45.047Z"
      },
      {
        "duration": 7,
        "start_time": "2022-12-03T18:19:45.064Z"
      },
      {
        "duration": 268,
        "start_time": "2022-12-03T18:19:45.072Z"
      },
      {
        "duration": 19,
        "start_time": "2022-12-03T18:19:45.341Z"
      },
      {
        "duration": 106,
        "start_time": "2022-12-03T18:19:45.362Z"
      },
      {
        "duration": 10,
        "start_time": "2022-12-03T18:19:45.470Z"
      },
      {
        "duration": 19,
        "start_time": "2022-12-03T18:19:45.483Z"
      },
      {
        "duration": 82,
        "start_time": "2022-12-03T18:19:45.504Z"
      },
      {
        "duration": 12,
        "start_time": "2022-12-03T18:19:45.588Z"
      },
      {
        "duration": 29,
        "start_time": "2022-12-03T18:19:45.601Z"
      },
      {
        "duration": 12,
        "start_time": "2022-12-03T18:19:45.632Z"
      },
      {
        "duration": 8,
        "start_time": "2022-12-03T18:19:45.645Z"
      },
      {
        "duration": 20,
        "start_time": "2022-12-03T18:19:45.655Z"
      },
      {
        "duration": 7,
        "start_time": "2022-12-03T18:19:45.676Z"
      },
      {
        "duration": 11,
        "start_time": "2022-12-03T18:19:45.685Z"
      },
      {
        "duration": 27,
        "start_time": "2022-12-03T18:19:45.697Z"
      },
      {
        "duration": 12,
        "start_time": "2022-12-03T18:19:45.726Z"
      },
      {
        "duration": 8,
        "start_time": "2022-12-03T18:19:45.740Z"
      },
      {
        "duration": 18,
        "start_time": "2022-12-03T18:19:45.750Z"
      },
      {
        "duration": 14,
        "start_time": "2022-12-03T18:19:45.770Z"
      },
      {
        "duration": 23,
        "start_time": "2022-12-03T18:19:45.786Z"
      },
      {
        "duration": 175,
        "start_time": "2022-12-03T18:19:45.811Z"
      },
      {
        "duration": 106,
        "start_time": "2022-12-03T18:19:45.988Z"
      },
      {
        "duration": 26,
        "start_time": "2022-12-03T18:19:46.097Z"
      },
      {
        "duration": 11,
        "start_time": "2022-12-03T18:19:46.125Z"
      },
      {
        "duration": 152,
        "start_time": "2022-12-03T18:19:46.138Z"
      },
      {
        "duration": 15,
        "start_time": "2022-12-03T18:19:46.291Z"
      },
      {
        "duration": 21,
        "start_time": "2022-12-03T18:19:46.308Z"
      },
      {
        "duration": 11,
        "start_time": "2022-12-03T18:19:46.331Z"
      },
      {
        "duration": 385,
        "start_time": "2022-12-03T18:19:46.344Z"
      },
      {
        "duration": 121,
        "start_time": "2022-12-03T18:19:46.732Z"
      },
      {
        "duration": 70,
        "start_time": "2022-12-03T18:19:46.856Z"
      },
      {
        "duration": 10,
        "start_time": "2022-12-03T18:19:46.928Z"
      },
      {
        "duration": 24,
        "start_time": "2022-12-03T18:19:46.940Z"
      },
      {
        "duration": 11,
        "start_time": "2022-12-03T18:19:46.966Z"
      },
      {
        "duration": 58,
        "start_time": "2022-12-03T18:19:46.979Z"
      },
      {
        "duration": 10,
        "start_time": "2022-12-03T18:19:47.039Z"
      },
      {
        "duration": 17,
        "start_time": "2022-12-03T18:19:47.051Z"
      },
      {
        "duration": 13,
        "start_time": "2022-12-03T18:19:47.069Z"
      },
      {
        "duration": 51,
        "start_time": "2022-12-03T18:23:12.249Z"
      },
      {
        "duration": 1418,
        "start_time": "2022-12-03T18:31:26.644Z"
      },
      {
        "duration": 5,
        "start_time": "2022-12-03T18:31:28.065Z"
      },
      {
        "duration": 1555,
        "start_time": "2022-12-03T18:31:28.071Z"
      },
      {
        "duration": 16,
        "start_time": "2022-12-03T18:31:29.629Z"
      },
      {
        "duration": 23,
        "start_time": "2022-12-03T18:31:29.647Z"
      },
      {
        "duration": 17,
        "start_time": "2022-12-03T18:31:29.672Z"
      },
      {
        "duration": 47,
        "start_time": "2022-12-03T18:31:29.691Z"
      },
      {
        "duration": 96,
        "start_time": "2022-12-03T18:31:29.740Z"
      },
      {
        "duration": 33,
        "start_time": "2022-12-03T18:31:29.848Z"
      },
      {
        "duration": 16,
        "start_time": "2022-12-03T18:31:29.885Z"
      },
      {
        "duration": 28,
        "start_time": "2022-12-03T18:31:29.903Z"
      },
      {
        "duration": 58,
        "start_time": "2022-12-03T18:31:29.934Z"
      },
      {
        "duration": 438,
        "start_time": "2022-12-03T18:31:29.994Z"
      },
      {
        "duration": 18,
        "start_time": "2022-12-03T18:31:30.434Z"
      },
      {
        "duration": 69,
        "start_time": "2022-12-03T18:31:30.455Z"
      },
      {
        "duration": 82,
        "start_time": "2022-12-03T18:31:30.525Z"
      },
      {
        "duration": 14,
        "start_time": "2022-12-03T18:31:30.609Z"
      },
      {
        "duration": 95,
        "start_time": "2022-12-03T18:31:30.626Z"
      },
      {
        "duration": 20,
        "start_time": "2022-12-03T18:31:30.727Z"
      },
      {
        "duration": 193,
        "start_time": "2022-12-03T18:31:30.748Z"
      },
      {
        "duration": 106,
        "start_time": "2022-12-03T18:31:30.943Z"
      },
      {
        "duration": 17,
        "start_time": "2022-12-03T18:31:31.051Z"
      },
      {
        "duration": 6,
        "start_time": "2022-12-03T18:31:31.071Z"
      },
      {
        "duration": 45,
        "start_time": "2022-12-03T18:31:31.079Z"
      },
      {
        "duration": 6,
        "start_time": "2022-12-03T18:31:31.126Z"
      },
      {
        "duration": 19,
        "start_time": "2022-12-03T18:31:31.134Z"
      },
      {
        "duration": 5,
        "start_time": "2022-12-03T18:31:31.155Z"
      },
      {
        "duration": 65,
        "start_time": "2022-12-03T18:31:31.166Z"
      },
      {
        "duration": 9,
        "start_time": "2022-12-03T18:31:31.233Z"
      },
      {
        "duration": 37,
        "start_time": "2022-12-03T18:31:31.244Z"
      },
      {
        "duration": 9,
        "start_time": "2022-12-03T18:31:31.283Z"
      },
      {
        "duration": 230,
        "start_time": "2022-12-03T18:31:31.294Z"
      },
      {
        "duration": 21,
        "start_time": "2022-12-03T18:31:31.526Z"
      },
      {
        "duration": 144,
        "start_time": "2022-12-03T18:31:31.549Z"
      },
      {
        "duration": 10,
        "start_time": "2022-12-03T18:31:31.695Z"
      },
      {
        "duration": 21,
        "start_time": "2022-12-03T18:31:31.709Z"
      },
      {
        "duration": 55,
        "start_time": "2022-12-03T18:31:31.732Z"
      },
      {
        "duration": 10,
        "start_time": "2022-12-03T18:31:31.789Z"
      },
      {
        "duration": 32,
        "start_time": "2022-12-03T18:31:31.801Z"
      },
      {
        "duration": 23,
        "start_time": "2022-12-03T18:31:31.835Z"
      },
      {
        "duration": 9,
        "start_time": "2022-12-03T18:31:31.861Z"
      },
      {
        "duration": 22,
        "start_time": "2022-12-03T18:31:31.873Z"
      },
      {
        "duration": 8,
        "start_time": "2022-12-03T18:31:31.897Z"
      },
      {
        "duration": 15,
        "start_time": "2022-12-03T18:31:31.907Z"
      },
      {
        "duration": 14,
        "start_time": "2022-12-03T18:31:31.924Z"
      },
      {
        "duration": 15,
        "start_time": "2022-12-03T18:31:31.941Z"
      },
      {
        "duration": 6,
        "start_time": "2022-12-03T18:31:31.959Z"
      },
      {
        "duration": 8,
        "start_time": "2022-12-03T18:31:31.967Z"
      },
      {
        "duration": 5,
        "start_time": "2022-12-03T18:31:31.977Z"
      },
      {
        "duration": 5,
        "start_time": "2022-12-03T18:31:31.984Z"
      },
      {
        "duration": 184,
        "start_time": "2022-12-03T18:31:31.991Z"
      },
      {
        "duration": 156,
        "start_time": "2022-12-03T18:31:32.177Z"
      },
      {
        "duration": 17,
        "start_time": "2022-12-03T18:31:32.335Z"
      },
      {
        "duration": 24,
        "start_time": "2022-12-03T18:31:32.354Z"
      },
      {
        "duration": 233,
        "start_time": "2022-12-03T18:31:32.382Z"
      },
      {
        "duration": 23,
        "start_time": "2022-12-03T18:31:32.617Z"
      },
      {
        "duration": 26,
        "start_time": "2022-12-03T18:31:32.642Z"
      },
      {
        "duration": 51,
        "start_time": "2022-12-03T18:31:32.674Z"
      },
      {
        "duration": 412,
        "start_time": "2022-12-03T18:31:32.727Z"
      },
      {
        "duration": 123,
        "start_time": "2022-12-03T18:31:33.141Z"
      },
      {
        "duration": 87,
        "start_time": "2022-12-03T18:31:33.266Z"
      },
      {
        "duration": 12,
        "start_time": "2022-12-03T18:31:33.356Z"
      },
      {
        "duration": 32,
        "start_time": "2022-12-03T18:31:33.421Z"
      },
      {
        "duration": 12,
        "start_time": "2022-12-03T18:31:33.455Z"
      },
      {
        "duration": 53,
        "start_time": "2022-12-03T18:31:33.469Z"
      },
      {
        "duration": 10,
        "start_time": "2022-12-03T18:31:33.525Z"
      },
      {
        "duration": 12,
        "start_time": "2022-12-03T18:31:33.537Z"
      },
      {
        "duration": 16,
        "start_time": "2022-12-03T18:31:33.551Z"
      }
    ],
    "colab": {
      "provenance": [],
      "toc_visible": true,
      "include_colab_link": true
    },
    "kernelspec": {
      "display_name": "Python 3 (ipykernel)",
      "language": "python",
      "name": "python3"
    },
    "language_info": {
      "codemirror_mode": {
        "name": "ipython",
        "version": 3
      },
      "file_extension": ".py",
      "mimetype": "text/x-python",
      "name": "python",
      "nbconvert_exporter": "python",
      "pygments_lexer": "ipython3",
      "version": "3.9.5"
    },
    "toc": {
      "base_numbering": 1,
      "nav_menu": {},
      "number_sections": true,
      "sideBar": true,
      "skip_h1_title": true,
      "title_cell": "Table of Contents",
      "title_sidebar": "Contents",
      "toc_cell": false,
      "toc_position": {},
      "toc_section_display": true,
      "toc_window_display": true
    }
  },
  "nbformat": 4,
  "nbformat_minor": 0
}